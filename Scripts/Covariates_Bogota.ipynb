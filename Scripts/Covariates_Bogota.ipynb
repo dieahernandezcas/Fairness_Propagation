{
 "cells": [
  {
   "cell_type": "code",
   "execution_count": 1,
   "metadata": {
    "colab": {
     "base_uri": "https://localhost:8080/"
    },
    "executionInfo": {
     "elapsed": 25529,
     "status": "ok",
     "timestamp": 1745111146194,
     "user": {
      "displayName": "Diego Alejandro Hernandez Castaneda",
      "userId": "18178177893889256336"
     },
     "user_tz": 300
    },
    "id": "QFUFNo-Qm9GL",
    "outputId": "b4c2e92c-b523-40ea-af61-25d093456cf4"
   },
   "outputs": [
    {
     "name": "stderr",
     "output_type": "stream",
     "text": [
      "/var/folders/f5/3603lrxn363_ddpmt3c65sfm0000gn/T/ipykernel_3456/1960879352.py:2: DeprecationWarning: \n",
      "Pyarrow will become a required dependency of pandas in the next major release of pandas (pandas 3.0),\n",
      "(to allow more performant data types, such as the Arrow string type, and better interoperability with other libraries)\n",
      "but was not found to be installed on your system.\n",
      "If this would cause problems for you,\n",
      "please provide us feedback at https://github.com/pandas-dev/pandas/issues/54466\n",
      "        \n",
      "  import pandas as pd\n"
     ]
    }
   ],
   "source": [
    "import numpy as np\n",
    "import pandas as pd\n",
    "import geopandas as gpd"
   ]
  },
  {
   "cell_type": "markdown",
   "metadata": {
    "id": "vrPPsianFvIL"
   },
   "source": [
    "#Data loading"
   ]
  },
  {
   "cell_type": "code",
   "execution_count": 2,
   "metadata": {
    "colab": {
     "base_uri": "https://localhost:8080/",
     "height": 241
    },
    "executionInfo": {
     "elapsed": 1933,
     "status": "ok",
     "timestamp": 1745111148149,
     "user": {
      "displayName": "Diego Alejandro Hernandez Castaneda",
      "userId": "18178177893889256336"
     },
     "user_tz": 300
    },
    "id": "aAGy78egFa4B",
    "outputId": "10947315-4670-4f10-c58d-5fa0715bed39"
   },
   "outputs": [
    {
     "data": {
      "text/html": [
       "<div>\n",
       "<style scoped>\n",
       "    .dataframe tbody tr th:only-of-type {\n",
       "        vertical-align: middle;\n",
       "    }\n",
       "\n",
       "    .dataframe tbody tr th {\n",
       "        vertical-align: top;\n",
       "    }\n",
       "\n",
       "    .dataframe thead th {\n",
       "        text-align: right;\n",
       "    }\n",
       "</style>\n",
       "<table border=\"1\" class=\"dataframe\">\n",
       "  <thead>\n",
       "    <tr style=\"text-align: right;\">\n",
       "      <th></th>\n",
       "      <th>geometry</th>\n",
       "    </tr>\n",
       "  </thead>\n",
       "  <tbody>\n",
       "    <tr>\n",
       "      <th>0</th>\n",
       "      <td>POLYGON ((-74.21051 4.45758, -74.21051 4.46654...</td>\n",
       "    </tr>\n",
       "    <tr>\n",
       "      <th>1</th>\n",
       "      <td>POLYGON ((-74.21051 4.46654, -74.21051 4.47550...</td>\n",
       "    </tr>\n",
       "    <tr>\n",
       "      <th>2</th>\n",
       "      <td>POLYGON ((-74.21051 4.47550, -74.21051 4.48445...</td>\n",
       "    </tr>\n",
       "    <tr>\n",
       "      <th>3</th>\n",
       "      <td>POLYGON ((-74.21051 4.48445, -74.21051 4.49341...</td>\n",
       "    </tr>\n",
       "    <tr>\n",
       "      <th>4</th>\n",
       "      <td>POLYGON ((-74.21051 4.49341, -74.21051 4.50236...</td>\n",
       "    </tr>\n",
       "  </tbody>\n",
       "</table>\n",
       "</div>"
      ],
      "text/plain": [
       "                                            geometry\n",
       "0  POLYGON ((-74.21051 4.45758, -74.21051 4.46654...\n",
       "1  POLYGON ((-74.21051 4.46654, -74.21051 4.47550...\n",
       "2  POLYGON ((-74.21051 4.47550, -74.21051 4.48445...\n",
       "3  POLYGON ((-74.21051 4.48445, -74.21051 4.49341...\n",
       "4  POLYGON ((-74.21051 4.49341, -74.21051 4.50236..."
      ]
     },
     "execution_count": 2,
     "metadata": {},
     "output_type": "execute_result"
    }
   ],
   "source": [
    "#grid bogota data.\n",
    "gdf_grilla = gpd.read_file('../Data/Bogota/Raw Data/grid_1kmx1km_bogora.geojson',driver='GeoJSON')\n",
    "gdf_grilla.head()"
   ]
  },
  {
   "cell_type": "code",
   "execution_count": 3,
   "metadata": {
    "colab": {
     "base_uri": "https://localhost:8080/"
    },
    "executionInfo": {
     "elapsed": 57,
     "status": "ok",
     "timestamp": 1745111148219,
     "user": {
      "displayName": "Diego Alejandro Hernandez Castaneda",
      "userId": "18178177893889256336"
     },
     "user_tz": 300
    },
    "id": "EsUzxkmlJogS",
    "outputId": "9e64cfe9-d806-4642-ea59-b66c9c502838"
   },
   "outputs": [
    {
     "data": {
      "text/plain": [
       "(984, 1)"
      ]
     },
     "execution_count": 3,
     "metadata": {},
     "output_type": "execute_result"
    }
   ],
   "source": [
    "gdf_grilla.shape"
   ]
  },
  {
   "cell_type": "markdown",
   "metadata": {
    "id": "Rl32FAJoHWAg"
   },
   "source": [
    "#Adding tgp (tasa general de desempleo) for each grid cell"
   ]
  },
  {
   "cell_type": "code",
   "execution_count": 4,
   "metadata": {
    "colab": {
     "base_uri": "https://localhost:8080/",
     "height": 241
    },
    "executionInfo": {
     "elapsed": 1858,
     "status": "ok",
     "timestamp": 1745111150078,
     "user": {
      "displayName": "Diego Alejandro Hernandez Castaneda",
      "userId": "18178177893889256336"
     },
     "user_tz": 300
    },
    "id": "NQwfkcfeFjKv",
    "outputId": "3859bd89-cb31-4487-9fc6-b24db1a55c1e"
   },
   "outputs": [
    {
     "data": {
      "text/html": [
       "<div>\n",
       "<style scoped>\n",
       "    .dataframe tbody tr th:only-of-type {\n",
       "        vertical-align: middle;\n",
       "    }\n",
       "\n",
       "    .dataframe tbody tr th {\n",
       "        vertical-align: top;\n",
       "    }\n",
       "\n",
       "    .dataframe thead th {\n",
       "        text-align: right;\n",
       "    }\n",
       "</style>\n",
       "<table border=\"1\" class=\"dataframe\">\n",
       "  <thead>\n",
       "    <tr style=\"text-align: right;\">\n",
       "      <th></th>\n",
       "      <th>LocCodigo</th>\n",
       "      <th>LocNombre</th>\n",
       "      <th>tpg2011</th>\n",
       "      <th>tpg2014</th>\n",
       "      <th>tpg2017</th>\n",
       "      <th>SHAPE_Leng</th>\n",
       "      <th>SHAPE_Area</th>\n",
       "      <th>geometry</th>\n",
       "    </tr>\n",
       "  </thead>\n",
       "  <tbody>\n",
       "    <tr>\n",
       "      <th>0</th>\n",
       "      <td>15</td>\n",
       "      <td>15</td>\n",
       "      <td>61.453061</td>\n",
       "      <td>60.183802</td>\n",
       "      <td>61.513876</td>\n",
       "      <td>0.108973</td>\n",
       "      <td>0.000397</td>\n",
       "      <td>POLYGON ((-74.13075 4.59335, -74.12917 4.59327...</td>\n",
       "    </tr>\n",
       "    <tr>\n",
       "      <th>1</th>\n",
       "      <td>6</td>\n",
       "      <td>6</td>\n",
       "      <td>61.109606</td>\n",
       "      <td>63.988318</td>\n",
       "      <td>57.754459</td>\n",
       "      <td>0.210542</td>\n",
       "      <td>0.000807</td>\n",
       "      <td>POLYGON ((-74.13777 4.59489, -74.13165 4.59363...</td>\n",
       "    </tr>\n",
       "    <tr>\n",
       "      <th>2</th>\n",
       "      <td>18</td>\n",
       "      <td>18</td>\n",
       "      <td>61.755117</td>\n",
       "      <td>63.635931</td>\n",
       "      <td>61.003204</td>\n",
       "      <td>0.174513</td>\n",
       "      <td>0.001126</td>\n",
       "      <td>POLYGON ((-74.12803 4.59254, -74.12777 4.59233...</td>\n",
       "    </tr>\n",
       "    <tr>\n",
       "      <th>3</th>\n",
       "      <td>1</td>\n",
       "      <td>1</td>\n",
       "      <td>61.249926</td>\n",
       "      <td>59.935160</td>\n",
       "      <td>64.027285</td>\n",
       "      <td>0.436907</td>\n",
       "      <td>0.005310</td>\n",
       "      <td>POLYGON ((-74.01116 4.66459, -74.01117 4.66460...</td>\n",
       "    </tr>\n",
       "    <tr>\n",
       "      <th>4</th>\n",
       "      <td>2</td>\n",
       "      <td>2</td>\n",
       "      <td>66.446775</td>\n",
       "      <td>65.587775</td>\n",
       "      <td>63.530659</td>\n",
       "      <td>0.333966</td>\n",
       "      <td>0.003095</td>\n",
       "      <td>POLYGON ((-74.01116 4.66459, -74.01154 4.66461...</td>\n",
       "    </tr>\n",
       "  </tbody>\n",
       "</table>\n",
       "</div>"
      ],
      "text/plain": [
       "   LocCodigo  LocNombre    tpg2011    tpg2014    tpg2017  SHAPE_Leng  \\\n",
       "0         15         15  61.453061  60.183802  61.513876    0.108973   \n",
       "1          6          6  61.109606  63.988318  57.754459    0.210542   \n",
       "2         18         18  61.755117  63.635931  61.003204    0.174513   \n",
       "3          1          1  61.249926  59.935160  64.027285    0.436907   \n",
       "4          2          2  66.446775  65.587775  63.530659    0.333966   \n",
       "\n",
       "   SHAPE_Area                                           geometry  \n",
       "0    0.000397  POLYGON ((-74.13075 4.59335, -74.12917 4.59327...  \n",
       "1    0.000807  POLYGON ((-74.13777 4.59489, -74.13165 4.59363...  \n",
       "2    0.001126  POLYGON ((-74.12803 4.59254, -74.12777 4.59233...  \n",
       "3    0.005310  POLYGON ((-74.01116 4.66459, -74.01117 4.66460...  \n",
       "4    0.003095  POLYGON ((-74.01116 4.66459, -74.01154 4.66461...  "
      ]
     },
     "execution_count": 4,
     "metadata": {},
     "output_type": "execute_result"
    }
   ],
   "source": [
    "tgp = gpd.read_file('../Data/Bogota/Raw Data/covariates/tgp.geojson',driver='GeoJSON')\n",
    "tgp.head()"
   ]
  },
  {
   "cell_type": "code",
   "execution_count": 5,
   "metadata": {
    "colab": {
     "base_uri": "https://localhost:8080/",
     "height": 206
    },
    "executionInfo": {
     "elapsed": 534,
     "status": "ok",
     "timestamp": 1745111150614,
     "user": {
      "displayName": "Diego Alejandro Hernandez Castaneda",
      "userId": "18178177893889256336"
     },
     "user_tz": 300
    },
    "id": "rsvXp1Z2GB9c",
    "outputId": "314297ba-48ab-405c-a76c-c780cc5a70ce"
   },
   "outputs": [
    {
     "data": {
      "text/html": [
       "<div>\n",
       "<style scoped>\n",
       "    .dataframe tbody tr th:only-of-type {\n",
       "        vertical-align: middle;\n",
       "    }\n",
       "\n",
       "    .dataframe tbody tr th {\n",
       "        vertical-align: top;\n",
       "    }\n",
       "\n",
       "    .dataframe thead th {\n",
       "        text-align: right;\n",
       "    }\n",
       "</style>\n",
       "<table border=\"1\" class=\"dataframe\">\n",
       "  <thead>\n",
       "    <tr style=\"text-align: right;\">\n",
       "      <th></th>\n",
       "      <th>geometry</th>\n",
       "      <th>grid_id</th>\n",
       "      <th>tpg2017</th>\n",
       "    </tr>\n",
       "  </thead>\n",
       "  <tbody>\n",
       "    <tr>\n",
       "      <th>0</th>\n",
       "      <td>POLYGON ((-74.21051 4.45758, -74.21051 4.46654...</td>\n",
       "      <td>0</td>\n",
       "      <td>NaN</td>\n",
       "    </tr>\n",
       "    <tr>\n",
       "      <th>1</th>\n",
       "      <td>POLYGON ((-74.21051 4.46654, -74.21051 4.47550...</td>\n",
       "      <td>1</td>\n",
       "      <td>NaN</td>\n",
       "    </tr>\n",
       "    <tr>\n",
       "      <th>2</th>\n",
       "      <td>POLYGON ((-74.21051 4.47550, -74.21051 4.48445...</td>\n",
       "      <td>2</td>\n",
       "      <td>NaN</td>\n",
       "    </tr>\n",
       "    <tr>\n",
       "      <th>3</th>\n",
       "      <td>POLYGON ((-74.21051 4.48445, -74.21051 4.49341...</td>\n",
       "      <td>3</td>\n",
       "      <td>NaN</td>\n",
       "    </tr>\n",
       "    <tr>\n",
       "      <th>4</th>\n",
       "      <td>POLYGON ((-74.21051 4.49341, -74.21051 4.50236...</td>\n",
       "      <td>4</td>\n",
       "      <td>NaN</td>\n",
       "    </tr>\n",
       "  </tbody>\n",
       "</table>\n",
       "</div>"
      ],
      "text/plain": [
       "                                            geometry  grid_id  tpg2017\n",
       "0  POLYGON ((-74.21051 4.45758, -74.21051 4.46654...        0      NaN\n",
       "1  POLYGON ((-74.21051 4.46654, -74.21051 4.47550...        1      NaN\n",
       "2  POLYGON ((-74.21051 4.47550, -74.21051 4.48445...        2      NaN\n",
       "3  POLYGON ((-74.21051 4.48445, -74.21051 4.49341...        3      NaN\n",
       "4  POLYGON ((-74.21051 4.49341, -74.21051 4.50236...        4      NaN"
      ]
     },
     "execution_count": 5,
     "metadata": {},
     "output_type": "execute_result"
    }
   ],
   "source": [
    "# 1. same crs\n",
    "gdf_grilla = gdf_grilla.to_crs('EPSG:4326')\n",
    "tgp = tgp.to_crs('EPSG:4326')\n",
    "\n",
    "# 2. adding unic id for each cell in the grid.\n",
    "gdf_grilla = gdf_grilla.reset_index(drop=True)\n",
    "gdf_grilla['grid_id'] = gdf_grilla.index\n",
    "\n",
    "# 3. Spatial join: asociar cada tgp con la celda que lo contiene (o intersecta)\n",
    "joined = gpd.sjoin(tgp, gdf_grilla, how='inner', predicate='intersects')\n",
    "\n",
    "# 4. groping by grid_id and making the average for tpg2017\n",
    "promedios = joined.groupby('grid_id')['tpg2017'].mean().reset_index()\n",
    "\n",
    "# 5. mergin with the average values\n",
    "gdf_grilla = gdf_grilla.merge(promedios, on='grid_id', how='left')\n",
    "\n",
    "gdf_grilla.to_file('../Data/Bogota/Raw Data/grid_1kmx1km_bogota_covariates.geojson',driver='GeoJSON')\n",
    "gdf_grilla.head()"
   ]
  },
  {
   "cell_type": "code",
   "execution_count": 6,
   "metadata": {
    "colab": {
     "base_uri": "https://localhost:8080/",
     "height": 851
    },
    "executionInfo": {
     "elapsed": 1167,
     "status": "ok",
     "timestamp": 1745111151802,
     "user": {
      "displayName": "Diego Alejandro Hernandez Castaneda",
      "userId": "18178177893889256336"
     },
     "user_tz": 300
    },
    "id": "p_phf8CdHfss",
    "outputId": "4463e590-64ff-45ca-82f1-383eed1b7020"
   },
   "outputs": [
    {
     "data": {
      "text/plain": [
       "<Axes: >"
      ]
     },
     "execution_count": 6,
     "metadata": {},
     "output_type": "execute_result"
    },
    {
     "data": {
      "image/png": "[encoded data removed]",
      "text/plain": [
       "<Figure size 1000x1000 with 2 Axes>"
      ]
     },
     "metadata": {},
     "output_type": "display_data"
    }
   ],
   "source": [
    "del tgp\n",
    "gdf_grilla.plot(column='tpg2017', cmap='viridis', legend=True, figsize=(10,10))\n"
   ]
  },
  {
   "cell_type": "markdown",
   "metadata": {
    "id": "5680t8gYIvjH"
   },
   "source": [
    "#Adding population for each grid cell"
   ]
  },
  {
   "cell_type": "code",
   "execution_count": 7,
   "metadata": {
    "colab": {
     "base_uri": "https://localhost:8080/",
     "height": 241
    },
    "executionInfo": {
     "elapsed": 545,
     "status": "ok",
     "timestamp": 1745111152774,
     "user": {
      "displayName": "Diego Alejandro Hernandez Castaneda",
      "userId": "18178177893889256336"
     },
     "user_tz": 300
    },
    "id": "ltKPHgWlIOA9",
    "outputId": "ed176b24-07c0-48ab-870a-7819ce2cf19a"
   },
   "outputs": [
    {
     "data": {
      "text/html": [
       "<div>\n",
       "<style scoped>\n",
       "    .dataframe tbody tr th:only-of-type {\n",
       "        vertical-align: middle;\n",
       "    }\n",
       "\n",
       "    .dataframe tbody tr th {\n",
       "        vertical-align: top;\n",
       "    }\n",
       "\n",
       "    .dataframe thead th {\n",
       "        text-align: right;\n",
       "    }\n",
       "</style>\n",
       "<table border=\"1\" class=\"dataframe\">\n",
       "  <thead>\n",
       "    <tr style=\"text-align: right;\">\n",
       "      <th></th>\n",
       "      <th>cod_loc</th>\n",
       "      <th>nomb_loc</th>\n",
       "      <th>cod_upz</th>\n",
       "      <th>nom_upz</th>\n",
       "      <th>area_urbana_en_hectareas_ha</th>\n",
       "      <th>poblacion_urbana</th>\n",
       "      <th>densidad_urbana</th>\n",
       "      <th>geo_point_2d</th>\n",
       "      <th>geometry</th>\n",
       "    </tr>\n",
       "  </thead>\n",
       "  <tbody>\n",
       "    <tr>\n",
       "      <th>0</th>\n",
       "      <td>2.0</td>\n",
       "      <td>CHAPINERO</td>\n",
       "      <td>90</td>\n",
       "      <td>PARDO RUBIO</td>\n",
       "      <td>285.199005</td>\n",
       "      <td>37191.0</td>\n",
       "      <td>130.403681</td>\n",
       "      <td>{'lon': -74.05669033622166, 'lat': 4.640899925...</td>\n",
       "      <td>POLYGON ((-74.05816 4.65070, -74.05802 4.65087...</td>\n",
       "    </tr>\n",
       "    <tr>\n",
       "      <th>1</th>\n",
       "      <td>3.0</td>\n",
       "      <td>SANTA FE</td>\n",
       "      <td>96</td>\n",
       "      <td>LOURDES</td>\n",
       "      <td>200.137127</td>\n",
       "      <td>46301.0</td>\n",
       "      <td>231.346381</td>\n",
       "      <td>{'lon': -74.0715182699691, 'lat': 4.5849177416...</td>\n",
       "      <td>POLYGON ((-74.06010 4.60224, -74.05979 4.60211...</td>\n",
       "    </tr>\n",
       "    <tr>\n",
       "      <th>2</th>\n",
       "      <td>4.0</td>\n",
       "      <td>SAN CRISTOBAL</td>\n",
       "      <td>50</td>\n",
       "      <td>LA GLORIA</td>\n",
       "      <td>385.857759</td>\n",
       "      <td>102299.0</td>\n",
       "      <td>265.121013</td>\n",
       "      <td>{'lon': -74.08912872684135, 'lat': 4.546680403...</td>\n",
       "      <td>POLYGON ((-74.10639 4.56384, -74.10643 4.56389...</td>\n",
       "    </tr>\n",
       "    <tr>\n",
       "      <th>3</th>\n",
       "      <td>5.0</td>\n",
       "      <td>USME</td>\n",
       "      <td>61</td>\n",
       "      <td>CIUDAD USME</td>\n",
       "      <td>925.470477</td>\n",
       "      <td>13496.0</td>\n",
       "      <td>14.582853</td>\n",
       "      <td>{'lon': -74.12187786293549, 'lat': 4.469594515...</td>\n",
       "      <td>POLYGON ((-74.10795 4.49444, -74.10809 4.49417...</td>\n",
       "    </tr>\n",
       "    <tr>\n",
       "      <th>4</th>\n",
       "      <td>6.0</td>\n",
       "      <td>TUNJUELITO</td>\n",
       "      <td>42</td>\n",
       "      <td>VENECIA</td>\n",
       "      <td>659.377024</td>\n",
       "      <td>144420.0</td>\n",
       "      <td>219.024920</td>\n",
       "      <td>{'lon': -74.13942680856923, 'lat': 4.582982810...</td>\n",
       "      <td>POLYGON ((-74.15226 4.59568, -74.15172 4.59547...</td>\n",
       "    </tr>\n",
       "  </tbody>\n",
       "</table>\n",
       "</div>"
      ],
      "text/plain": [
       "   cod_loc       nomb_loc cod_upz      nom_upz  area_urbana_en_hectareas_ha  \\\n",
       "0      2.0      CHAPINERO      90  PARDO RUBIO                   285.199005   \n",
       "1      3.0       SANTA FE      96      LOURDES                   200.137127   \n",
       "2      4.0  SAN CRISTOBAL      50    LA GLORIA                   385.857759   \n",
       "3      5.0           USME      61  CIUDAD USME                   925.470477   \n",
       "4      6.0     TUNJUELITO      42      VENECIA                   659.377024   \n",
       "\n",
       "   poblacion_urbana  densidad_urbana  \\\n",
       "0           37191.0       130.403681   \n",
       "1           46301.0       231.346381   \n",
       "2          102299.0       265.121013   \n",
       "3           13496.0        14.582853   \n",
       "4          144420.0       219.024920   \n",
       "\n",
       "                                        geo_point_2d  \\\n",
       "0  {'lon': -74.05669033622166, 'lat': 4.640899925...   \n",
       "1  {'lon': -74.0715182699691, 'lat': 4.5849177416...   \n",
       "2  {'lon': -74.08912872684135, 'lat': 4.546680403...   \n",
       "3  {'lon': -74.12187786293549, 'lat': 4.469594515...   \n",
       "4  {'lon': -74.13942680856923, 'lat': 4.582982810...   \n",
       "\n",
       "                                            geometry  \n",
       "0  POLYGON ((-74.05816 4.65070, -74.05802 4.65087...  \n",
       "1  POLYGON ((-74.06010 4.60224, -74.05979 4.60211...  \n",
       "2  POLYGON ((-74.10639 4.56384, -74.10643 4.56389...  \n",
       "3  POLYGON ((-74.10795 4.49444, -74.10809 4.49417...  \n",
       "4  POLYGON ((-74.15226 4.59568, -74.15172 4.59547...  "
      ]
     },
     "execution_count": 7,
     "metadata": {},
     "output_type": "execute_result"
    }
   ],
   "source": [
    "population = gpd.read_file('../Data/Bogota/Raw Data/covariates/population.geojson',driver='GeoJSON')\n",
    "population.head()"
   ]
  },
  {
   "cell_type": "code",
   "execution_count": 8,
   "metadata": {
    "colab": {
     "base_uri": "https://localhost:8080/",
     "height": 852
    },
    "executionInfo": {
     "elapsed": 664,
     "status": "ok",
     "timestamp": 1745111153440,
     "user": {
      "displayName": "Diego Alejandro Hernandez Castaneda",
      "userId": "18178177893889256336"
     },
     "user_tz": 300
    },
    "id": "BjKFRrzzJKfR",
    "outputId": "5594193b-0444-4630-dfeb-1c8b60ad9983"
   },
   "outputs": [
    {
     "data": {
      "text/plain": [
       "<Axes: >"
      ]
     },
     "execution_count": 8,
     "metadata": {},
     "output_type": "execute_result"
    },
    {
     "data": {
      "image/png": "[encoded data removed]",
      "text/plain": [
       "<Figure size 1000x1000 with 2 Axes>"
      ]
     },
     "metadata": {},
     "output_type": "display_data"
    }
   ],
   "source": [
    "population.plot(column='densidad_urbana', cmap='viridis', legend=True, figsize=(10,10))"
   ]
  },
  {
   "cell_type": "code",
   "execution_count": 9,
   "metadata": {
    "colab": {
     "base_uri": "https://localhost:8080/",
     "height": 206
    },
    "executionInfo": {
     "elapsed": 103,
     "status": "ok",
     "timestamp": 1745111153541,
     "user": {
      "displayName": "Diego Alejandro Hernandez Castaneda",
      "userId": "18178177893889256336"
     },
     "user_tz": 300
    },
    "id": "67tb52amJRQH",
    "outputId": "ef3b1bf2-f58e-4459-825f-b9ce1e0702e6"
   },
   "outputs": [
    {
     "data": {
      "text/html": [
       "<div>\n",
       "<style scoped>\n",
       "    .dataframe tbody tr th:only-of-type {\n",
       "        vertical-align: middle;\n",
       "    }\n",
       "\n",
       "    .dataframe tbody tr th {\n",
       "        vertical-align: top;\n",
       "    }\n",
       "\n",
       "    .dataframe thead th {\n",
       "        text-align: right;\n",
       "    }\n",
       "</style>\n",
       "<table border=\"1\" class=\"dataframe\">\n",
       "  <thead>\n",
       "    <tr style=\"text-align: right;\">\n",
       "      <th></th>\n",
       "      <th>geometry</th>\n",
       "      <th>grid_id</th>\n",
       "      <th>tpg2017</th>\n",
       "      <th>densidad_urbana</th>\n",
       "    </tr>\n",
       "  </thead>\n",
       "  <tbody>\n",
       "    <tr>\n",
       "      <th>0</th>\n",
       "      <td>POLYGON ((-74.21051 4.45758, -74.21051 4.46654...</td>\n",
       "      <td>0</td>\n",
       "      <td>NaN</td>\n",
       "      <td>NaN</td>\n",
       "    </tr>\n",
       "    <tr>\n",
       "      <th>1</th>\n",
       "      <td>POLYGON ((-74.21051 4.46654, -74.21051 4.47550...</td>\n",
       "      <td>1</td>\n",
       "      <td>NaN</td>\n",
       "      <td>NaN</td>\n",
       "    </tr>\n",
       "    <tr>\n",
       "      <th>2</th>\n",
       "      <td>POLYGON ((-74.21051 4.47550, -74.21051 4.48445...</td>\n",
       "      <td>2</td>\n",
       "      <td>NaN</td>\n",
       "      <td>NaN</td>\n",
       "    </tr>\n",
       "    <tr>\n",
       "      <th>3</th>\n",
       "      <td>POLYGON ((-74.21051 4.48445, -74.21051 4.49341...</td>\n",
       "      <td>3</td>\n",
       "      <td>NaN</td>\n",
       "      <td>NaN</td>\n",
       "    </tr>\n",
       "    <tr>\n",
       "      <th>4</th>\n",
       "      <td>POLYGON ((-74.21051 4.49341, -74.21051 4.50236...</td>\n",
       "      <td>4</td>\n",
       "      <td>NaN</td>\n",
       "      <td>NaN</td>\n",
       "    </tr>\n",
       "  </tbody>\n",
       "</table>\n",
       "</div>"
      ],
      "text/plain": [
       "                                            geometry  grid_id  tpg2017  \\\n",
       "0  POLYGON ((-74.21051 4.45758, -74.21051 4.46654...        0      NaN   \n",
       "1  POLYGON ((-74.21051 4.46654, -74.21051 4.47550...        1      NaN   \n",
       "2  POLYGON ((-74.21051 4.47550, -74.21051 4.48445...        2      NaN   \n",
       "3  POLYGON ((-74.21051 4.48445, -74.21051 4.49341...        3      NaN   \n",
       "4  POLYGON ((-74.21051 4.49341, -74.21051 4.50236...        4      NaN   \n",
       "\n",
       "   densidad_urbana  \n",
       "0              NaN  \n",
       "1              NaN  \n",
       "2              NaN  \n",
       "3              NaN  \n",
       "4              NaN  "
      ]
     },
     "execution_count": 9,
     "metadata": {},
     "output_type": "execute_result"
    }
   ],
   "source": [
    "# 1. same crs\n",
    "gdf_grilla = gdf_grilla.to_crs('EPSG:4326')\n",
    "population = population.to_crs('EPSG:4326')\n",
    "\n",
    "# 2. adding unic id for each cell in the grid.\n",
    "gdf_grilla = gdf_grilla.reset_index(drop=True)\n",
    "gdf_grilla['grid_id'] = gdf_grilla.index\n",
    "\n",
    "# 3. Spatial join: asociar cada tgp con la celda que lo contiene (o intersecta)\n",
    "joined = gpd.sjoin(population, gdf_grilla, how='inner', predicate='intersects')\n",
    "\n",
    "# 4. groping by grid_id and making the average\n",
    "promedios = joined.groupby('grid_id')['densidad_urbana'].mean().reset_index()\n",
    "\n",
    "# 5. mergin with the average values\n",
    "gdf_grilla = gdf_grilla.merge(promedios, on='grid_id', how='left')\n",
    "\n",
    "gdf_grilla.to_file('../Data/Bogota/Raw Data/grid_1kmx1km_bogota_covariates.geojson',driver='GeoJSON')\n",
    "gdf_grilla.head()"
   ]
  },
  {
   "cell_type": "code",
   "execution_count": 10,
   "metadata": {
    "colab": {
     "base_uri": "https://localhost:8080/"
    },
    "executionInfo": {
     "elapsed": 30,
     "status": "ok",
     "timestamp": 1745111153578,
     "user": {
      "displayName": "Diego Alejandro Hernandez Castaneda",
      "userId": "18178177893889256336"
     },
     "user_tz": 300
    },
    "id": "HWWr1b4xJsQq",
    "outputId": "7ff5639f-139c-4662-af5e-1949679ef646"
   },
   "outputs": [
    {
     "data": {
      "text/plain": [
       "(984, 4)"
      ]
     },
     "execution_count": 10,
     "metadata": {},
     "output_type": "execute_result"
    }
   ],
   "source": [
    "gdf_grilla.shape"
   ]
  },
  {
   "cell_type": "code",
   "execution_count": 11,
   "metadata": {
    "colab": {
     "base_uri": "https://localhost:8080/",
     "height": 847
    },
    "executionInfo": {
     "elapsed": 989,
     "status": "ok",
     "timestamp": 1745111154566,
     "user": {
      "displayName": "Diego Alejandro Hernandez Castaneda",
      "userId": "18178177893889256336"
     },
     "user_tz": 300
    },
    "id": "RprVKR-AJwKl",
    "outputId": "4635496a-a4b9-46db-86be-125e3a80a8d3"
   },
   "outputs": [
    {
     "data": {
      "text/plain": [
       "<Axes: >"
      ]
     },
     "execution_count": 11,
     "metadata": {},
     "output_type": "execute_result"
    },
    {
     "data": {
      "image/png": "[encoded data removed]",
      "text/plain": [
       "<Figure size 1000x1000 with 2 Axes>"
      ]
     },
     "metadata": {},
     "output_type": "display_data"
    }
   ],
   "source": [
    "del population\n",
    "gdf_grilla.plot(column='densidad_urbana', cmap='viridis', legend=True, figsize=(10,10))"
   ]
  },
  {
   "cell_type": "markdown",
   "metadata": {
    "id": "Kow3jHhZKMv6"
   },
   "source": [
    "#Adding poverty rate for each grid cell"
   ]
  },
  {
   "cell_type": "code",
   "execution_count": 12,
   "metadata": {
    "colab": {
     "base_uri": "https://localhost:8080/",
     "height": 276
    },
    "executionInfo": {
     "elapsed": 538,
     "status": "ok",
     "timestamp": 1745111157758,
     "user": {
      "displayName": "Diego Alejandro Hernandez Castaneda",
      "userId": "18178177893889256336"
     },
     "user_tz": 300
    },
    "id": "xfb0Jsr5KlzA",
    "outputId": "fed5f775-02e6-4ec0-8cae-d3a8a34baec9"
   },
   "outputs": [
    {
     "data": {
      "text/html": [
       "<div>\n",
       "<style scoped>\n",
       "    .dataframe tbody tr th:only-of-type {\n",
       "        vertical-align: middle;\n",
       "    }\n",
       "\n",
       "    .dataframe tbody tr th {\n",
       "        vertical-align: top;\n",
       "    }\n",
       "\n",
       "    .dataframe thead th {\n",
       "        text-align: right;\n",
       "    }\n",
       "</style>\n",
       "<table border=\"1\" class=\"dataframe\">\n",
       "  <thead>\n",
       "    <tr style=\"text-align: right;\">\n",
       "      <th></th>\n",
       "      <th>Año</th>\n",
       "      <th>Localidad</th>\n",
       "      <th>Indicador</th>\n",
       "      <th>Categoría</th>\n",
       "      <th>Sexo</th>\n",
       "      <th>Valor</th>\n",
       "    </tr>\n",
       "  </thead>\n",
       "  <tbody>\n",
       "    <tr>\n",
       "      <th>0</th>\n",
       "      <td>2018</td>\n",
       "      <td>Bogotá D.C.</td>\n",
       "      <td>Privaciones</td>\n",
       "      <td>Analfabetismo</td>\n",
       "      <td>Ambos sexos</td>\n",
       "      <td>1,6</td>\n",
       "    </tr>\n",
       "    <tr>\n",
       "      <th>1</th>\n",
       "      <td>2018</td>\n",
       "      <td>Bogotá D.C.</td>\n",
       "      <td>Privaciones</td>\n",
       "      <td>Bajo logro educativo</td>\n",
       "      <td>Ambos sexos</td>\n",
       "      <td>18,6</td>\n",
       "    </tr>\n",
       "    <tr>\n",
       "      <th>2</th>\n",
       "      <td>2018</td>\n",
       "      <td>Bogotá D.C.</td>\n",
       "      <td>Privaciones</td>\n",
       "      <td>Barreras a servicios para cuidado de la primer...</td>\n",
       "      <td>Ambos sexos</td>\n",
       "      <td>9,4</td>\n",
       "    </tr>\n",
       "    <tr>\n",
       "      <th>3</th>\n",
       "      <td>2018</td>\n",
       "      <td>Bogotá D.C.</td>\n",
       "      <td>Privaciones</td>\n",
       "      <td>Barreras de acceso a servicios de salud</td>\n",
       "      <td>Ambos sexos</td>\n",
       "      <td>1,2</td>\n",
       "    </tr>\n",
       "    <tr>\n",
       "      <th>4</th>\n",
       "      <td>2018</td>\n",
       "      <td>Bogotá D.C.</td>\n",
       "      <td>Privaciones</td>\n",
       "      <td>Desempleo de larga duración</td>\n",
       "      <td>Ambos sexos</td>\n",
       "      <td>12,8</td>\n",
       "    </tr>\n",
       "  </tbody>\n",
       "</table>\n",
       "</div>"
      ],
      "text/plain": [
       "    Año    Localidad    Indicador  \\\n",
       "0  2018  Bogotá D.C.  Privaciones   \n",
       "1  2018  Bogotá D.C.  Privaciones   \n",
       "2  2018  Bogotá D.C.  Privaciones   \n",
       "3  2018  Bogotá D.C.  Privaciones   \n",
       "4  2018  Bogotá D.C.  Privaciones   \n",
       "\n",
       "                                           Categoría         Sexo Valor  \n",
       "0                                      Analfabetismo  Ambos sexos   1,6  \n",
       "1                               Bajo logro educativo  Ambos sexos  18,6  \n",
       "2  Barreras a servicios para cuidado de la primer...  Ambos sexos   9,4  \n",
       "3            Barreras de acceso a servicios de salud  Ambos sexos   1,2  \n",
       "4                        Desempleo de larga duración  Ambos sexos  12,8  "
      ]
     },
     "execution_count": 12,
     "metadata": {},
     "output_type": "execute_result"
    }
   ],
   "source": [
    "localidades = gpd.read_file('../Data/Bogota/Raw Data/poligonos-localidades.geojson',driver='GeoJSON')\n",
    "gdf_grilla = gpd.read_file('../Data/Bogota/Raw Data/grid_1kmx1km_bogota_covariates.geojson',driver='GeoJSON')\n",
    "poverty = pd.read_csv('../Data/Bogota/Raw Data/covariates/poverty_rate.csv',encoding='latin-1',sep=\";\")\n",
    "poverty.head()"
   ]
  },
  {
   "cell_type": "code",
   "execution_count": 13,
   "metadata": {
    "colab": {
     "base_uri": "https://localhost:8080/"
    },
    "executionInfo": {
     "elapsed": 47,
     "status": "ok",
     "timestamp": 1745111157804,
     "user": {
      "displayName": "Diego Alejandro Hernandez Castaneda",
      "userId": "18178177893889256336"
     },
     "user_tz": 300
    },
    "id": "V5JkUJcyPzj9",
    "outputId": "2588d4a5-2a08-4681-ade2-9c9045535f4c"
   },
   "outputs": [
    {
     "data": {
      "text/plain": [
       "(984, 4)"
      ]
     },
     "execution_count": 13,
     "metadata": {},
     "output_type": "execute_result"
    }
   ],
   "source": [
    "gdf_grilla.shape"
   ]
  },
  {
   "cell_type": "code",
   "execution_count": 14,
   "metadata": {
    "colab": {
     "base_uri": "https://localhost:8080/",
     "height": 206
    },
    "executionInfo": {
     "elapsed": 321,
     "status": "ok",
     "timestamp": 1745111158128,
     "user": {
      "displayName": "Diego Alejandro Hernandez Castaneda",
      "userId": "18178177893889256336"
     },
     "user_tz": 300
    },
    "id": "8sDVuQGMLy9N",
    "outputId": "20c39886-35ec-41a0-e0c4-f3979c41811f"
   },
   "outputs": [
    {
     "data": {
      "text/html": [
       "<div>\n",
       "<style scoped>\n",
       "    .dataframe tbody tr th:only-of-type {\n",
       "        vertical-align: middle;\n",
       "    }\n",
       "\n",
       "    .dataframe tbody tr th {\n",
       "        vertical-align: top;\n",
       "    }\n",
       "\n",
       "    .dataframe thead th {\n",
       "        text-align: right;\n",
       "    }\n",
       "</style>\n",
       "<table border=\"1\" class=\"dataframe\">\n",
       "  <thead>\n",
       "    <tr style=\"text-align: right;\">\n",
       "      <th></th>\n",
       "      <th>Nombre de la localidad</th>\n",
       "      <th>Acto administrativo de la localidad</th>\n",
       "      <th>Area de la localidad</th>\n",
       "      <th>Identificador unico de la localidad</th>\n",
       "      <th>geo_point_2d</th>\n",
       "      <th>geometry</th>\n",
       "    </tr>\n",
       "  </thead>\n",
       "  <tbody>\n",
       "    <tr>\n",
       "      <th>0</th>\n",
       "      <td>CIUDAD BOLIVAR</td>\n",
       "      <td>Acuerdo 14 de 1983</td>\n",
       "      <td>130002593,080624</td>\n",
       "      <td>19</td>\n",
       "      <td>{'lon': -74.16195890440652, 'lat': 4.482460265...</td>\n",
       "      <td>MULTIPOLYGON (((-74.18135 4.58892, -74.18092 4...</td>\n",
       "    </tr>\n",
       "    <tr>\n",
       "      <th>1</th>\n",
       "      <td>SUBA</td>\n",
       "      <td>Acuerdo 8 de 1977</td>\n",
       "      <td>100560477,718254</td>\n",
       "      <td>11</td>\n",
       "      <td>{'lon': -74.0758452755469, 'lat': 4.7632081213...</td>\n",
       "      <td>MULTIPOLYGON (((-74.03450 4.82547, -74.03489 4...</td>\n",
       "    </tr>\n",
       "    <tr>\n",
       "      <th>2</th>\n",
       "      <td>RAFAEL URIBE URIBE</td>\n",
       "      <td>Acuerdo 117 de 2003</td>\n",
       "      <td>13834084,806513</td>\n",
       "      <td>18</td>\n",
       "      <td>{'lon': -74.11336318293525, 'lat': 4.566476900...</td>\n",
       "      <td>MULTIPOLYGON (((-74.12803 4.59254, -74.12829 4...</td>\n",
       "    </tr>\n",
       "    <tr>\n",
       "      <th>3</th>\n",
       "      <td>KENNEDY</td>\n",
       "      <td>Acuerdo 8 de 1977</td>\n",
       "      <td>38589733,814235</td>\n",
       "      <td>08</td>\n",
       "      <td>{'lon': -74.15266762383382, 'lat': 4.630347351...</td>\n",
       "      <td>MULTIPOLYGON (((-74.11830 4.63741, -74.11854 4...</td>\n",
       "    </tr>\n",
       "    <tr>\n",
       "      <th>4</th>\n",
       "      <td>USME</td>\n",
       "      <td>Acuerdo 15 de 1993</td>\n",
       "      <td>215066686,644374</td>\n",
       "      <td>05</td>\n",
       "      <td>{'lon': -74.14280649581936, 'lat': 4.390025128...</td>\n",
       "      <td>MULTIPOLYGON (((-74.05597 4.50832, -74.05599 4...</td>\n",
       "    </tr>\n",
       "  </tbody>\n",
       "</table>\n",
       "</div>"
      ],
      "text/plain": [
       "  Nombre de la localidad Acto administrativo de la localidad  \\\n",
       "0         CIUDAD BOLIVAR                  Acuerdo 14 de 1983   \n",
       "1                   SUBA                   Acuerdo 8 de 1977   \n",
       "2     RAFAEL URIBE URIBE                 Acuerdo 117 de 2003   \n",
       "3                KENNEDY                   Acuerdo 8 de 1977   \n",
       "4                   USME                  Acuerdo 15 de 1993   \n",
       "\n",
       "  Area de la localidad Identificador unico de la localidad  \\\n",
       "0     130002593,080624                                  19   \n",
       "1     100560477,718254                                  11   \n",
       "2      13834084,806513                                  18   \n",
       "3      38589733,814235                                  08   \n",
       "4     215066686,644374                                  05   \n",
       "\n",
       "                                        geo_point_2d  \\\n",
       "0  {'lon': -74.16195890440652, 'lat': 4.482460265...   \n",
       "1  {'lon': -74.0758452755469, 'lat': 4.7632081213...   \n",
       "2  {'lon': -74.11336318293525, 'lat': 4.566476900...   \n",
       "3  {'lon': -74.15266762383382, 'lat': 4.630347351...   \n",
       "4  {'lon': -74.14280649581936, 'lat': 4.390025128...   \n",
       "\n",
       "                                            geometry  \n",
       "0  MULTIPOLYGON (((-74.18135 4.58892, -74.18092 4...  \n",
       "1  MULTIPOLYGON (((-74.03450 4.82547, -74.03489 4...  \n",
       "2  MULTIPOLYGON (((-74.12803 4.59254, -74.12829 4...  \n",
       "3  MULTIPOLYGON (((-74.11830 4.63741, -74.11854 4...  \n",
       "4  MULTIPOLYGON (((-74.05597 4.50832, -74.05599 4...  "
      ]
     },
     "execution_count": 14,
     "metadata": {},
     "output_type": "execute_result"
    }
   ],
   "source": [
    "localidades.head()"
   ]
  },
  {
   "cell_type": "code",
   "execution_count": 15,
   "metadata": {
    "colab": {
     "base_uri": "https://localhost:8080/",
     "height": 278
    },
    "executionInfo": {
     "elapsed": 152,
     "status": "ok",
     "timestamp": 1745111158326,
     "user": {
      "displayName": "Diego Alejandro Hernandez Castaneda",
      "userId": "18178177893889256336"
     },
     "user_tz": 300
    },
    "id": "n91_5jM8MKzJ",
    "outputId": "f4ce94a4-fc91-43e8-fd22-36e96581c5bc"
   },
   "outputs": [
    {
     "name": "stderr",
     "output_type": "stream",
     "text": [
      "/var/folders/f5/3603lrxn363_ddpmt3c65sfm0000gn/T/ipykernel_3456/2015813454.py:6: UserWarning: Geometry is in a geographic CRS. Results from 'centroid' are likely incorrect. Use 'GeoSeries.to_crs()' to re-project geometries to a projected CRS before this operation.\n",
      "\n",
      "  gdf_grilla['centroide'] = gdf_grilla.geometry.centroid\n"
     ]
    },
    {
     "data": {
      "text/html": [
       "<div>\n",
       "<style scoped>\n",
       "    .dataframe tbody tr th:only-of-type {\n",
       "        vertical-align: middle;\n",
       "    }\n",
       "\n",
       "    .dataframe tbody tr th {\n",
       "        vertical-align: top;\n",
       "    }\n",
       "\n",
       "    .dataframe thead th {\n",
       "        text-align: right;\n",
       "    }\n",
       "</style>\n",
       "<table border=\"1\" class=\"dataframe\">\n",
       "  <thead>\n",
       "    <tr style=\"text-align: right;\">\n",
       "      <th></th>\n",
       "      <th>grid_id</th>\n",
       "      <th>tpg2017</th>\n",
       "      <th>densidad_urbana</th>\n",
       "      <th>geometry</th>\n",
       "      <th>centroide</th>\n",
       "      <th>Nombre de la localidad</th>\n",
       "    </tr>\n",
       "  </thead>\n",
       "  <tbody>\n",
       "    <tr>\n",
       "      <th>0</th>\n",
       "      <td>0</td>\n",
       "      <td>NaN</td>\n",
       "      <td>NaN</td>\n",
       "      <td>POLYGON ((-74.21051 4.45758, -74.21051 4.46654...</td>\n",
       "      <td>POINT (-74.21500 4.46206)</td>\n",
       "      <td>NaN</td>\n",
       "    </tr>\n",
       "    <tr>\n",
       "      <th>1</th>\n",
       "      <td>1</td>\n",
       "      <td>NaN</td>\n",
       "      <td>NaN</td>\n",
       "      <td>POLYGON ((-74.21051 4.46654, -74.21051 4.47550...</td>\n",
       "      <td>POINT (-74.21500 4.47102)</td>\n",
       "      <td>NaN</td>\n",
       "    </tr>\n",
       "    <tr>\n",
       "      <th>2</th>\n",
       "      <td>2</td>\n",
       "      <td>NaN</td>\n",
       "      <td>NaN</td>\n",
       "      <td>POLYGON ((-74.21051 4.47550, -74.21051 4.48445...</td>\n",
       "      <td>POINT (-74.21500 4.47997)</td>\n",
       "      <td>NaN</td>\n",
       "    </tr>\n",
       "    <tr>\n",
       "      <th>3</th>\n",
       "      <td>3</td>\n",
       "      <td>NaN</td>\n",
       "      <td>NaN</td>\n",
       "      <td>POLYGON ((-74.21051 4.48445, -74.21051 4.49341...</td>\n",
       "      <td>POINT (-74.21500 4.48893)</td>\n",
       "      <td>NaN</td>\n",
       "    </tr>\n",
       "    <tr>\n",
       "      <th>4</th>\n",
       "      <td>4</td>\n",
       "      <td>NaN</td>\n",
       "      <td>NaN</td>\n",
       "      <td>POLYGON ((-74.21051 4.49341, -74.21051 4.50236...</td>\n",
       "      <td>POINT (-74.21500 4.49788)</td>\n",
       "      <td>NaN</td>\n",
       "    </tr>\n",
       "  </tbody>\n",
       "</table>\n",
       "</div>"
      ],
      "text/plain": [
       "   grid_id  tpg2017  densidad_urbana  \\\n",
       "0        0      NaN              NaN   \n",
       "1        1      NaN              NaN   \n",
       "2        2      NaN              NaN   \n",
       "3        3      NaN              NaN   \n",
       "4        4      NaN              NaN   \n",
       "\n",
       "                                            geometry  \\\n",
       "0  POLYGON ((-74.21051 4.45758, -74.21051 4.46654...   \n",
       "1  POLYGON ((-74.21051 4.46654, -74.21051 4.47550...   \n",
       "2  POLYGON ((-74.21051 4.47550, -74.21051 4.48445...   \n",
       "3  POLYGON ((-74.21051 4.48445, -74.21051 4.49341...   \n",
       "4  POLYGON ((-74.21051 4.49341, -74.21051 4.50236...   \n",
       "\n",
       "                   centroide Nombre de la localidad  \n",
       "0  POINT (-74.21500 4.46206)                    NaN  \n",
       "1  POINT (-74.21500 4.47102)                    NaN  \n",
       "2  POINT (-74.21500 4.47997)                    NaN  \n",
       "3  POINT (-74.21500 4.48893)                    NaN  \n",
       "4  POINT (-74.21500 4.49788)                    NaN  "
      ]
     },
     "execution_count": 15,
     "metadata": {},
     "output_type": "execute_result"
    }
   ],
   "source": [
    "# same crs\n",
    "gdf_grilla = gdf_grilla.to_crs('EPSG:4326')\n",
    "localidades = localidades.to_crs('EPSG:4326')\n",
    "\n",
    "# centroid of each cell grid\n",
    "gdf_grilla['centroide'] = gdf_grilla.geometry.centroid\n",
    "\n",
    "# Crear un GeoDataFrame con los centroides\n",
    "centros = gpd.GeoDataFrame(gdf_grilla[['grid_id']], geometry=gdf_grilla['centroide'], crs='EPSG:4326')\n",
    "\n",
    "# Spatial join entre centroide y localidades\n",
    "centros_localidad = gpd.sjoin(centros, localidades, how='left', predicate='within')\n",
    "\n",
    "# Agregar el nombre de la localidad de vuelta a la grilla\n",
    "gdf_grilla = gdf_grilla.merge(centros_localidad[['grid_id', 'Nombre de la localidad']], on='grid_id', how='left')\n",
    "\n",
    "gdf_grilla.head()"
   ]
  },
  {
   "cell_type": "code",
   "execution_count": 16,
   "metadata": {
    "colab": {
     "base_uri": "https://localhost:8080/"
    },
    "executionInfo": {
     "elapsed": 12,
     "status": "ok",
     "timestamp": 1745111158664,
     "user": {
      "displayName": "Diego Alejandro Hernandez Castaneda",
      "userId": "18178177893889256336"
     },
     "user_tz": 300
    },
    "id": "4VCWEC9oMVPo",
    "outputId": "8cdd81d5-5a7c-466b-aafb-17a3d1ad48e4"
   },
   "outputs": [
    {
     "data": {
      "text/plain": [
       "(984, 6)"
      ]
     },
     "execution_count": 16,
     "metadata": {},
     "output_type": "execute_result"
    }
   ],
   "source": [
    "gdf_grilla.shape"
   ]
  },
  {
   "cell_type": "code",
   "execution_count": 17,
   "metadata": {
    "colab": {
     "base_uri": "https://localhost:8080/"
    },
    "executionInfo": {
     "elapsed": 32,
     "status": "ok",
     "timestamp": 1745111159570,
     "user": {
      "displayName": "Diego Alejandro Hernandez Castaneda",
      "userId": "18178177893889256336"
     },
     "user_tz": 300
    },
    "id": "vGEySiwdLDDR",
    "outputId": "60c90621-fbff-4de9-8368-bee7806c84e8"
   },
   "outputs": [
    {
     "data": {
      "text/plain": [
       "array(['Privaciones', 'IPM', 'Contrib IPM', 'Coeficiente de Gini',\n",
       "       'Pobreza monetaria', 'Pobreza monetaria extrema'], dtype=object)"
      ]
     },
     "execution_count": 17,
     "metadata": {},
     "output_type": "execute_result"
    }
   ],
   "source": [
    "poverty.Indicador.unique()"
   ]
  },
  {
   "cell_type": "code",
   "execution_count": 18,
   "metadata": {
    "colab": {
     "base_uri": "https://localhost:8080/"
    },
    "executionInfo": {
     "elapsed": 16,
     "status": "ok",
     "timestamp": 1745111160072,
     "user": {
      "displayName": "Diego Alejandro Hernandez Castaneda",
      "userId": "18178177893889256336"
     },
     "user_tz": 300
    },
    "id": "LGdgBxFaLINJ",
    "outputId": "ba4a8c57-0734-43fb-8ac4-b646f704d589"
   },
   "outputs": [
    {
     "data": {
      "text/plain": [
       "array(['Bogotá D.C.', 'Usaquén', 'Chapinero', 'Santa Fe', 'San Cristóbal',\n",
       "       'Usme', 'Tunjuelito', 'Bosa', 'Kennedy', 'Fontibón', 'Engativá',\n",
       "       'Suba', 'Barrios Unidos', 'Teusaquillo', 'Los Mártires',\n",
       "       'Antonio Nariño', 'Puente Aranda', 'La Candelaria',\n",
       "       'Rafael Uribe Uribe', 'Ciudad Bolívar', 'Sumapaz'], dtype=object)"
      ]
     },
     "execution_count": 18,
     "metadata": {},
     "output_type": "execute_result"
    }
   ],
   "source": [
    "poverty.query(\"Indicador=='Pobreza monetaria'\").Localidad.unique()"
   ]
  },
  {
   "cell_type": "code",
   "execution_count": 19,
   "metadata": {
    "colab": {
     "base_uri": "https://localhost:8080/"
    },
    "executionInfo": {
     "elapsed": 23,
     "status": "ok",
     "timestamp": 1745111160568,
     "user": {
      "displayName": "Diego Alejandro Hernandez Castaneda",
      "userId": "18178177893889256336"
     },
     "user_tz": 300
    },
    "id": "tQdNNo3mMc_3",
    "outputId": "95510ce7-6134-4123-d16d-d2812d70f4e9"
   },
   "outputs": [
    {
     "data": {
      "text/plain": [
       "array([nan, 'BOSA', 'CIUDAD BOLIVAR', 'KENNEDY', 'FONTIBON', 'TUNJUELITO',\n",
       "       'ENGATIVA', 'USME', 'PUENTE ARANDA', 'RAFAEL URIBE URIBE', 'SUBA',\n",
       "       'ANTONIO NARIÑO', 'SAN CRISTOBAL', 'LOS MARTIRES', 'TEUSAQUILLO',\n",
       "       'BARRIOS UNIDOS', 'SANTA FE', 'CANDELARIA', 'CHAPINERO', 'USAQUEN'],\n",
       "      dtype=object)"
      ]
     },
     "execution_count": 19,
     "metadata": {},
     "output_type": "execute_result"
    }
   ],
   "source": [
    "gdf_grilla[\"Nombre de la localidad\"].unique()"
   ]
  },
  {
   "cell_type": "code",
   "execution_count": 20,
   "metadata": {
    "executionInfo": {
     "elapsed": 11,
     "status": "ok",
     "timestamp": 1745111161523,
     "user": {
      "displayName": "Diego Alejandro Hernandez Castaneda",
      "userId": "18178177893889256336"
     },
     "user_tz": 300
    },
    "id": "WvBzgSl_NROr"
   },
   "outputs": [],
   "source": [
    "# map dictionary\n",
    "mapeo_localidades = {\n",
    "    'Usaquén': 'USAQUEN',\n",
    "    'Chapinero': 'CHAPINERO',\n",
    "    'Santa Fe': 'SANTA FE',\n",
    "    'San Cristóbal': 'SAN CRISTOBAL',\n",
    "    'Usme': 'USME',\n",
    "    'Tunjuelito': 'TUNJUELITO',\n",
    "    'Bosa': 'BOSA',\n",
    "    'Kennedy': 'KENNEDY',\n",
    "    'Fontibón': 'FONTIBON',\n",
    "    'Engativá': 'ENGATIVA',\n",
    "    'Suba': 'SUBA',\n",
    "    'Barrios Unidos': 'BARRIOS UNIDOS',\n",
    "    'Teusaquillo': 'TEUSAQUILLO',\n",
    "    'Los Mártires': 'LOS MARTIRES',\n",
    "    'Antonio Nariño': 'ANTONIO NARIÑO',\n",
    "    'Puente Aranda': 'PUENTE ARANDA',\n",
    "    'La Candelaria': 'CANDELARIA',\n",
    "    'Rafael Uribe Uribe': 'RAFAEL URIBE URIBE',\n",
    "    'Ciudad Bolívar': 'CIUDAD BOLIVAR',\n",
    "    'Bogotá D.C.': np.nan,  # no tiene mapeo directo\n",
    "    'Sumapaz': np.nan        # no aparece en tu lista estándar\n",
    "}"
   ]
  },
  {
   "cell_type": "code",
   "execution_count": 21,
   "metadata": {
    "colab": {
     "base_uri": "https://localhost:8080/",
     "height": 397
    },
    "executionInfo": {
     "elapsed": 42,
     "status": "ok",
     "timestamp": 1745111162539,
     "user": {
      "displayName": "Diego Alejandro Hernandez Castaneda",
      "userId": "18178177893889256336"
     },
     "user_tz": 300
    },
    "id": "iO0qi0CfLgqu",
    "outputId": "b1c527d3-dd06-43ac-df3b-a23b73dbe56f"
   },
   "outputs": [
    {
     "data": {
      "text/html": [
       "<div>\n",
       "<style scoped>\n",
       "    .dataframe tbody tr th:only-of-type {\n",
       "        vertical-align: middle;\n",
       "    }\n",
       "\n",
       "    .dataframe tbody tr th {\n",
       "        vertical-align: top;\n",
       "    }\n",
       "\n",
       "    .dataframe thead th {\n",
       "        text-align: right;\n",
       "    }\n",
       "</style>\n",
       "<table border=\"1\" class=\"dataframe\">\n",
       "  <thead>\n",
       "    <tr style=\"text-align: right;\">\n",
       "      <th></th>\n",
       "      <th>Año</th>\n",
       "      <th>Localidad</th>\n",
       "      <th>Indicador</th>\n",
       "      <th>Categoría</th>\n",
       "      <th>Sexo</th>\n",
       "      <th>Valor</th>\n",
       "      <th>Nombre de la localidad</th>\n",
       "    </tr>\n",
       "  </thead>\n",
       "  <tbody>\n",
       "    <tr>\n",
       "      <th>315</th>\n",
       "      <td>2021</td>\n",
       "      <td>Usaquén</td>\n",
       "      <td>Pobreza monetaria</td>\n",
       "      <td>No aplica</td>\n",
       "      <td>Ambos sexos</td>\n",
       "      <td>15,96</td>\n",
       "      <td>USAQUEN</td>\n",
       "    </tr>\n",
       "    <tr>\n",
       "      <th>316</th>\n",
       "      <td>2021</td>\n",
       "      <td>Chapinero</td>\n",
       "      <td>Pobreza monetaria</td>\n",
       "      <td>No aplica</td>\n",
       "      <td>Ambos sexos</td>\n",
       "      <td>12,83</td>\n",
       "      <td>CHAPINERO</td>\n",
       "    </tr>\n",
       "    <tr>\n",
       "      <th>317</th>\n",
       "      <td>2021</td>\n",
       "      <td>Santa Fe</td>\n",
       "      <td>Pobreza monetaria</td>\n",
       "      <td>No aplica</td>\n",
       "      <td>Ambos sexos</td>\n",
       "      <td>47,69</td>\n",
       "      <td>SANTA FE</td>\n",
       "    </tr>\n",
       "    <tr>\n",
       "      <th>318</th>\n",
       "      <td>2021</td>\n",
       "      <td>San Cristóbal</td>\n",
       "      <td>Pobreza monetaria</td>\n",
       "      <td>No aplica</td>\n",
       "      <td>Ambos sexos</td>\n",
       "      <td>48,45</td>\n",
       "      <td>SAN CRISTOBAL</td>\n",
       "    </tr>\n",
       "    <tr>\n",
       "      <th>319</th>\n",
       "      <td>2021</td>\n",
       "      <td>Usme</td>\n",
       "      <td>Pobreza monetaria</td>\n",
       "      <td>No aplica</td>\n",
       "      <td>Ambos sexos</td>\n",
       "      <td>57,81</td>\n",
       "      <td>USME</td>\n",
       "    </tr>\n",
       "  </tbody>\n",
       "</table>\n",
       "</div>"
      ],
      "text/plain": [
       "      Año      Localidad          Indicador  Categoría         Sexo  Valor  \\\n",
       "315  2021        Usaquén  Pobreza monetaria  No aplica  Ambos sexos  15,96   \n",
       "316  2021      Chapinero  Pobreza monetaria  No aplica  Ambos sexos  12,83   \n",
       "317  2021       Santa Fe  Pobreza monetaria  No aplica  Ambos sexos  47,69   \n",
       "318  2021  San Cristóbal  Pobreza monetaria  No aplica  Ambos sexos  48,45   \n",
       "319  2021           Usme  Pobreza monetaria  No aplica  Ambos sexos  57,81   \n",
       "\n",
       "    Nombre de la localidad  \n",
       "315                USAQUEN  \n",
       "316              CHAPINERO  \n",
       "317               SANTA FE  \n",
       "318          SAN CRISTOBAL  \n",
       "319                   USME  "
      ]
     },
     "execution_count": 21,
     "metadata": {},
     "output_type": "execute_result"
    }
   ],
   "source": [
    "poverty = poverty.query(\"Indicador=='Pobreza monetaria' and Año==2021\")\n",
    "poverty['Nombre de la localidad'] = poverty['Localidad'].map(mapeo_localidades)\n",
    "poverty.dropna(inplace=True)\n",
    "poverty.head()"
   ]
  },
  {
   "cell_type": "code",
   "execution_count": 22,
   "metadata": {
    "colab": {
     "base_uri": "https://localhost:8080/"
    },
    "executionInfo": {
     "elapsed": 6,
     "status": "ok",
     "timestamp": 1745111163865,
     "user": {
      "displayName": "Diego Alejandro Hernandez Castaneda",
      "userId": "18178177893889256336"
     },
     "user_tz": 300
    },
    "id": "4z8U0PPjOJUB",
    "outputId": "e59610e9-7e62-4096-80d1-eeb2d5a921e4"
   },
   "outputs": [
    {
     "data": {
      "text/plain": [
       "(984, 6)"
      ]
     },
     "execution_count": 22,
     "metadata": {},
     "output_type": "execute_result"
    }
   ],
   "source": [
    "gdf_grilla.shape"
   ]
  },
  {
   "cell_type": "code",
   "execution_count": 23,
   "metadata": {
    "colab": {
     "base_uri": "https://localhost:8080/",
     "height": 206
    },
    "executionInfo": {
     "elapsed": 110,
     "status": "ok",
     "timestamp": 1745111164657,
     "user": {
      "displayName": "Diego Alejandro Hernandez Castaneda",
      "userId": "18178177893889256336"
     },
     "user_tz": 300
    },
    "id": "oe6lfFz6MsYd",
    "outputId": "fd0a2649-412f-443a-9738-25cf31011ada"
   },
   "outputs": [
    {
     "data": {
      "text/html": [
       "<div>\n",
       "<style scoped>\n",
       "    .dataframe tbody tr th:only-of-type {\n",
       "        vertical-align: middle;\n",
       "    }\n",
       "\n",
       "    .dataframe tbody tr th {\n",
       "        vertical-align: top;\n",
       "    }\n",
       "\n",
       "    .dataframe thead th {\n",
       "        text-align: right;\n",
       "    }\n",
       "</style>\n",
       "<table border=\"1\" class=\"dataframe\">\n",
       "  <thead>\n",
       "    <tr style=\"text-align: right;\">\n",
       "      <th></th>\n",
       "      <th>grid_id</th>\n",
       "      <th>tpg2017</th>\n",
       "      <th>densidad_urbana</th>\n",
       "      <th>geometry</th>\n",
       "      <th>Nombre de la localidad</th>\n",
       "      <th>pobreza_monetaria</th>\n",
       "    </tr>\n",
       "  </thead>\n",
       "  <tbody>\n",
       "    <tr>\n",
       "      <th>0</th>\n",
       "      <td>0</td>\n",
       "      <td>NaN</td>\n",
       "      <td>NaN</td>\n",
       "      <td>POLYGON ((-74.21051 4.45758, -74.21051 4.46654...</td>\n",
       "      <td>NaN</td>\n",
       "      <td>NaN</td>\n",
       "    </tr>\n",
       "    <tr>\n",
       "      <th>1</th>\n",
       "      <td>1</td>\n",
       "      <td>NaN</td>\n",
       "      <td>NaN</td>\n",
       "      <td>POLYGON ((-74.21051 4.46654, -74.21051 4.47550...</td>\n",
       "      <td>NaN</td>\n",
       "      <td>NaN</td>\n",
       "    </tr>\n",
       "    <tr>\n",
       "      <th>2</th>\n",
       "      <td>2</td>\n",
       "      <td>NaN</td>\n",
       "      <td>NaN</td>\n",
       "      <td>POLYGON ((-74.21051 4.47550, -74.21051 4.48445...</td>\n",
       "      <td>NaN</td>\n",
       "      <td>NaN</td>\n",
       "    </tr>\n",
       "    <tr>\n",
       "      <th>3</th>\n",
       "      <td>3</td>\n",
       "      <td>NaN</td>\n",
       "      <td>NaN</td>\n",
       "      <td>POLYGON ((-74.21051 4.48445, -74.21051 4.49341...</td>\n",
       "      <td>NaN</td>\n",
       "      <td>NaN</td>\n",
       "    </tr>\n",
       "    <tr>\n",
       "      <th>4</th>\n",
       "      <td>4</td>\n",
       "      <td>NaN</td>\n",
       "      <td>NaN</td>\n",
       "      <td>POLYGON ((-74.21051 4.49341, -74.21051 4.50236...</td>\n",
       "      <td>NaN</td>\n",
       "      <td>NaN</td>\n",
       "    </tr>\n",
       "  </tbody>\n",
       "</table>\n",
       "</div>"
      ],
      "text/plain": [
       "   grid_id  tpg2017  densidad_urbana  \\\n",
       "0        0      NaN              NaN   \n",
       "1        1      NaN              NaN   \n",
       "2        2      NaN              NaN   \n",
       "3        3      NaN              NaN   \n",
       "4        4      NaN              NaN   \n",
       "\n",
       "                                            geometry Nombre de la localidad  \\\n",
       "0  POLYGON ((-74.21051 4.45758, -74.21051 4.46654...                    NaN   \n",
       "1  POLYGON ((-74.21051 4.46654, -74.21051 4.47550...                    NaN   \n",
       "2  POLYGON ((-74.21051 4.47550, -74.21051 4.48445...                    NaN   \n",
       "3  POLYGON ((-74.21051 4.48445, -74.21051 4.49341...                    NaN   \n",
       "4  POLYGON ((-74.21051 4.49341, -74.21051 4.50236...                    NaN   \n",
       "\n",
       "  pobreza_monetaria  \n",
       "0               NaN  \n",
       "1               NaN  \n",
       "2               NaN  \n",
       "3               NaN  \n",
       "4               NaN  "
      ]
     },
     "execution_count": 23,
     "metadata": {},
     "output_type": "execute_result"
    }
   ],
   "source": [
    "gdf_grilla = gdf_grilla.merge(\n",
    "                              poverty,\n",
    "                              left_on='Nombre de la localidad',\n",
    "                              right_on='Nombre de la localidad',\n",
    "                              how='left'\n",
    "                          )\n",
    "\n",
    "gdf_grilla.drop(columns=['Año','Localidad','Indicador','Categoría','Sexo','centroide'],inplace=True)\n",
    "gdf_grilla.rename(columns={'Valor':'pobreza_monetaria'},inplace=True)\n",
    "gdf_grilla.to_file('../Data/Bogota/Raw Data/grid_1kmx1km_bogota_covariates.geojson',driver='GeoJSON')\n",
    "gdf_grilla.head()"
   ]
  },
  {
   "cell_type": "code",
   "execution_count": 24,
   "metadata": {
    "colab": {
     "base_uri": "https://localhost:8080/",
     "height": 206
    },
    "executionInfo": {
     "elapsed": 63,
     "status": "ok",
     "timestamp": 1745111167348,
     "user": {
      "displayName": "Diego Alejandro Hernandez Castaneda",
      "userId": "18178177893889256336"
     },
     "user_tz": 300
    },
    "id": "uQTY-rC7si3K",
    "outputId": "860aad72-7b93-4111-d517-39529ca6b7ff"
   },
   "outputs": [
    {
     "data": {
      "text/html": [
       "<div>\n",
       "<style scoped>\n",
       "    .dataframe tbody tr th:only-of-type {\n",
       "        vertical-align: middle;\n",
       "    }\n",
       "\n",
       "    .dataframe tbody tr th {\n",
       "        vertical-align: top;\n",
       "    }\n",
       "\n",
       "    .dataframe thead th {\n",
       "        text-align: right;\n",
       "    }\n",
       "</style>\n",
       "<table border=\"1\" class=\"dataframe\">\n",
       "  <thead>\n",
       "    <tr style=\"text-align: right;\">\n",
       "      <th></th>\n",
       "      <th>grid_id</th>\n",
       "      <th>tpg2017</th>\n",
       "      <th>densidad_urbana</th>\n",
       "      <th>geometry</th>\n",
       "      <th>Nombre de la localidad</th>\n",
       "      <th>pobreza_monetaria</th>\n",
       "    </tr>\n",
       "  </thead>\n",
       "  <tbody>\n",
       "    <tr>\n",
       "      <th>0</th>\n",
       "      <td>0</td>\n",
       "      <td>NaN</td>\n",
       "      <td>NaN</td>\n",
       "      <td>POLYGON ((-74.21051 4.45758, -74.21051 4.46654...</td>\n",
       "      <td>NaN</td>\n",
       "      <td>NaN</td>\n",
       "    </tr>\n",
       "    <tr>\n",
       "      <th>1</th>\n",
       "      <td>1</td>\n",
       "      <td>NaN</td>\n",
       "      <td>NaN</td>\n",
       "      <td>POLYGON ((-74.21051 4.46654, -74.21051 4.47550...</td>\n",
       "      <td>NaN</td>\n",
       "      <td>NaN</td>\n",
       "    </tr>\n",
       "    <tr>\n",
       "      <th>2</th>\n",
       "      <td>2</td>\n",
       "      <td>NaN</td>\n",
       "      <td>NaN</td>\n",
       "      <td>POLYGON ((-74.21051 4.47550, -74.21051 4.48445...</td>\n",
       "      <td>NaN</td>\n",
       "      <td>NaN</td>\n",
       "    </tr>\n",
       "    <tr>\n",
       "      <th>3</th>\n",
       "      <td>3</td>\n",
       "      <td>NaN</td>\n",
       "      <td>NaN</td>\n",
       "      <td>POLYGON ((-74.21051 4.48445, -74.21051 4.49341...</td>\n",
       "      <td>NaN</td>\n",
       "      <td>NaN</td>\n",
       "    </tr>\n",
       "    <tr>\n",
       "      <th>4</th>\n",
       "      <td>4</td>\n",
       "      <td>NaN</td>\n",
       "      <td>NaN</td>\n",
       "      <td>POLYGON ((-74.21051 4.49341, -74.21051 4.50236...</td>\n",
       "      <td>NaN</td>\n",
       "      <td>NaN</td>\n",
       "    </tr>\n",
       "  </tbody>\n",
       "</table>\n",
       "</div>"
      ],
      "text/plain": [
       "   grid_id  tpg2017  densidad_urbana  \\\n",
       "0        0      NaN              NaN   \n",
       "1        1      NaN              NaN   \n",
       "2        2      NaN              NaN   \n",
       "3        3      NaN              NaN   \n",
       "4        4      NaN              NaN   \n",
       "\n",
       "                                            geometry Nombre de la localidad  \\\n",
       "0  POLYGON ((-74.21051 4.45758, -74.21051 4.46654...                    NaN   \n",
       "1  POLYGON ((-74.21051 4.46654, -74.21051 4.47550...                    NaN   \n",
       "2  POLYGON ((-74.21051 4.47550, -74.21051 4.48445...                    NaN   \n",
       "3  POLYGON ((-74.21051 4.48445, -74.21051 4.49341...                    NaN   \n",
       "4  POLYGON ((-74.21051 4.49341, -74.21051 4.50236...                    NaN   \n",
       "\n",
       "   pobreza_monetaria  \n",
       "0                NaN  \n",
       "1                NaN  \n",
       "2                NaN  \n",
       "3                NaN  \n",
       "4                NaN  "
      ]
     },
     "execution_count": 24,
     "metadata": {},
     "output_type": "execute_result"
    }
   ],
   "source": [
    "def convertir_a_float(valor):\n",
    "    try:\n",
    "        # Limpieza básica (ajusta según tu dataset)\n",
    "        valor = str(valor).replace('%', '').replace(',', '.').strip()\n",
    "        return float(valor)\n",
    "    except:\n",
    "        return np.nan  # Si no se puede convertir, devuelve NaN\n",
    "\n",
    "gdf_grilla['pobreza_monetaria_float'] = gdf_grilla['pobreza_monetaria'].apply(convertir_a_float)\n",
    "gdf_grilla.drop(columns=['pobreza_monetaria'],inplace=True)\n",
    "gdf_grilla.rename(columns={'pobreza_monetaria_float':'pobreza_monetaria'},inplace=True)\n",
    "\n",
    "gdf_grilla.to_file('../Data/Bogota/Raw Data/grid_1kmx1km_bogota_covariates.geojson',driver='GeoJSON')\n",
    "gdf_grilla.head()"
   ]
  },
  {
   "cell_type": "code",
   "execution_count": 25,
   "metadata": {
    "colab": {
     "base_uri": "https://localhost:8080/",
     "height": 206
    },
    "executionInfo": {
     "elapsed": 40,
     "status": "ok",
     "timestamp": 1745111169694,
     "user": {
      "displayName": "Diego Alejandro Hernandez Castaneda",
      "userId": "18178177893889256336"
     },
     "user_tz": 300
    },
    "id": "vd8QeyCSuDGB",
    "outputId": "d092a041-f852-43cd-ade0-2e0157a35dc2"
   },
   "outputs": [
    {
     "data": {
      "text/html": [
       "<div>\n",
       "<style scoped>\n",
       "    .dataframe tbody tr th:only-of-type {\n",
       "        vertical-align: middle;\n",
       "    }\n",
       "\n",
       "    .dataframe tbody tr th {\n",
       "        vertical-align: top;\n",
       "    }\n",
       "\n",
       "    .dataframe thead th {\n",
       "        text-align: right;\n",
       "    }\n",
       "</style>\n",
       "<table border=\"1\" class=\"dataframe\">\n",
       "  <thead>\n",
       "    <tr style=\"text-align: right;\">\n",
       "      <th></th>\n",
       "      <th>grid_id</th>\n",
       "      <th>tpg2017</th>\n",
       "      <th>densidad_urbana</th>\n",
       "      <th>geometry</th>\n",
       "      <th>Nombre de la localidad</th>\n",
       "      <th>pobreza_monetaria</th>\n",
       "    </tr>\n",
       "  </thead>\n",
       "  <tbody>\n",
       "    <tr>\n",
       "      <th>0</th>\n",
       "      <td>0</td>\n",
       "      <td>NaN</td>\n",
       "      <td>NaN</td>\n",
       "      <td>POLYGON ((-74.21051 4.45758, -74.21051 4.46654...</td>\n",
       "      <td>NaN</td>\n",
       "      <td>NaN</td>\n",
       "    </tr>\n",
       "    <tr>\n",
       "      <th>1</th>\n",
       "      <td>1</td>\n",
       "      <td>NaN</td>\n",
       "      <td>NaN</td>\n",
       "      <td>POLYGON ((-74.21051 4.46654, -74.21051 4.47550...</td>\n",
       "      <td>NaN</td>\n",
       "      <td>NaN</td>\n",
       "    </tr>\n",
       "    <tr>\n",
       "      <th>2</th>\n",
       "      <td>2</td>\n",
       "      <td>NaN</td>\n",
       "      <td>NaN</td>\n",
       "      <td>POLYGON ((-74.21051 4.47550, -74.21051 4.48445...</td>\n",
       "      <td>NaN</td>\n",
       "      <td>NaN</td>\n",
       "    </tr>\n",
       "    <tr>\n",
       "      <th>3</th>\n",
       "      <td>3</td>\n",
       "      <td>NaN</td>\n",
       "      <td>NaN</td>\n",
       "      <td>POLYGON ((-74.21051 4.48445, -74.21051 4.49341...</td>\n",
       "      <td>NaN</td>\n",
       "      <td>NaN</td>\n",
       "    </tr>\n",
       "    <tr>\n",
       "      <th>4</th>\n",
       "      <td>4</td>\n",
       "      <td>NaN</td>\n",
       "      <td>NaN</td>\n",
       "      <td>POLYGON ((-74.21051 4.49341, -74.21051 4.50236...</td>\n",
       "      <td>NaN</td>\n",
       "      <td>NaN</td>\n",
       "    </tr>\n",
       "  </tbody>\n",
       "</table>\n",
       "</div>"
      ],
      "text/plain": [
       "   grid_id  tpg2017  densidad_urbana  \\\n",
       "0        0      NaN              NaN   \n",
       "1        1      NaN              NaN   \n",
       "2        2      NaN              NaN   \n",
       "3        3      NaN              NaN   \n",
       "4        4      NaN              NaN   \n",
       "\n",
       "                                            geometry Nombre de la localidad  \\\n",
       "0  POLYGON ((-74.21051 4.45758, -74.21051 4.46654...                    NaN   \n",
       "1  POLYGON ((-74.21051 4.46654, -74.21051 4.47550...                    NaN   \n",
       "2  POLYGON ((-74.21051 4.47550, -74.21051 4.48445...                    NaN   \n",
       "3  POLYGON ((-74.21051 4.48445, -74.21051 4.49341...                    NaN   \n",
       "4  POLYGON ((-74.21051 4.49341, -74.21051 4.50236...                    NaN   \n",
       "\n",
       "   pobreza_monetaria  \n",
       "0                NaN  \n",
       "1                NaN  \n",
       "2                NaN  \n",
       "3                NaN  \n",
       "4                NaN  "
      ]
     },
     "execution_count": 25,
     "metadata": {},
     "output_type": "execute_result"
    }
   ],
   "source": [
    "gdf_grilla.head()"
   ]
  },
  {
   "cell_type": "code",
   "execution_count": 26,
   "metadata": {
    "colab": {
     "base_uri": "https://localhost:8080/",
     "height": 424
    },
    "executionInfo": {
     "elapsed": 31,
     "status": "ok",
     "timestamp": 1745111170955,
     "user": {
      "displayName": "Diego Alejandro Hernandez Castaneda",
      "userId": "18178177893889256336"
     },
     "user_tz": 300
    },
    "id": "2wRClw36uDIx",
    "outputId": "8496c50a-db11-46b7-b9eb-3c34759fe354"
   },
   "outputs": [
    {
     "data": {
      "text/html": [
       "<div>\n",
       "<style scoped>\n",
       "    .dataframe tbody tr th:only-of-type {\n",
       "        vertical-align: middle;\n",
       "    }\n",
       "\n",
       "    .dataframe tbody tr th {\n",
       "        vertical-align: top;\n",
       "    }\n",
       "\n",
       "    .dataframe thead th {\n",
       "        text-align: right;\n",
       "    }\n",
       "</style>\n",
       "<table border=\"1\" class=\"dataframe\">\n",
       "  <thead>\n",
       "    <tr style=\"text-align: right;\">\n",
       "      <th></th>\n",
       "      <th>grid_id</th>\n",
       "      <th>tpg2017</th>\n",
       "      <th>densidad_urbana</th>\n",
       "      <th>geometry</th>\n",
       "      <th>Nombre de la localidad</th>\n",
       "      <th>pobreza_monetaria</th>\n",
       "    </tr>\n",
       "  </thead>\n",
       "  <tbody>\n",
       "    <tr>\n",
       "      <th>17</th>\n",
       "      <td>17</td>\n",
       "      <td>60.070520</td>\n",
       "      <td>191.566568</td>\n",
       "      <td>POLYGON ((-74.21051 4.60982, -74.21051 4.61877...</td>\n",
       "      <td>BOSA</td>\n",
       "      <td>53.18</td>\n",
       "    </tr>\n",
       "    <tr>\n",
       "      <th>18</th>\n",
       "      <td>18</td>\n",
       "      <td>60.070520</td>\n",
       "      <td>73.563395</td>\n",
       "      <td>POLYGON ((-74.21051 4.61877, -74.21051 4.62773...</td>\n",
       "      <td>BOSA</td>\n",
       "      <td>53.18</td>\n",
       "    </tr>\n",
       "    <tr>\n",
       "      <th>19</th>\n",
       "      <td>19</td>\n",
       "      <td>60.070520</td>\n",
       "      <td>73.563395</td>\n",
       "      <td>POLYGON ((-74.21051 4.62773, -74.21051 4.63668...</td>\n",
       "      <td>BOSA</td>\n",
       "      <td>53.18</td>\n",
       "    </tr>\n",
       "    <tr>\n",
       "      <th>20</th>\n",
       "      <td>20</td>\n",
       "      <td>60.070520</td>\n",
       "      <td>73.563395</td>\n",
       "      <td>POLYGON ((-74.21051 4.63668, -74.21051 4.64563...</td>\n",
       "      <td>BOSA</td>\n",
       "      <td>53.18</td>\n",
       "    </tr>\n",
       "    <tr>\n",
       "      <th>57</th>\n",
       "      <td>57</td>\n",
       "      <td>60.070520</td>\n",
       "      <td>309.569740</td>\n",
       "      <td>POLYGON ((-74.20153 4.60087, -74.20153 4.60982...</td>\n",
       "      <td>BOSA</td>\n",
       "      <td>53.18</td>\n",
       "    </tr>\n",
       "    <tr>\n",
       "      <th>...</th>\n",
       "      <td>...</td>\n",
       "      <td>...</td>\n",
       "      <td>...</td>\n",
       "      <td>...</td>\n",
       "      <td>...</td>\n",
       "      <td>...</td>\n",
       "    </tr>\n",
       "    <tr>\n",
       "      <th>973</th>\n",
       "      <td>973</td>\n",
       "      <td>64.027285</td>\n",
       "      <td>264.024478</td>\n",
       "      <td>POLYGON ((-74.00390 4.72621, -74.00390 4.73517...</td>\n",
       "      <td>USAQUEN</td>\n",
       "      <td>15.96</td>\n",
       "    </tr>\n",
       "    <tr>\n",
       "      <th>974</th>\n",
       "      <td>974</td>\n",
       "      <td>64.027285</td>\n",
       "      <td>NaN</td>\n",
       "      <td>POLYGON ((-74.00390 4.73517, -74.00390 4.74412...</td>\n",
       "      <td>USAQUEN</td>\n",
       "      <td>15.96</td>\n",
       "    </tr>\n",
       "    <tr>\n",
       "      <th>981</th>\n",
       "      <td>981</td>\n",
       "      <td>64.027285</td>\n",
       "      <td>NaN</td>\n",
       "      <td>POLYGON ((-74.00390 4.79783, -74.00390 4.80678...</td>\n",
       "      <td>USAQUEN</td>\n",
       "      <td>15.96</td>\n",
       "    </tr>\n",
       "    <tr>\n",
       "      <th>982</th>\n",
       "      <td>982</td>\n",
       "      <td>64.027285</td>\n",
       "      <td>NaN</td>\n",
       "      <td>POLYGON ((-74.00390 4.80678, -74.00390 4.81573...</td>\n",
       "      <td>USAQUEN</td>\n",
       "      <td>15.96</td>\n",
       "    </tr>\n",
       "    <tr>\n",
       "      <th>983</th>\n",
       "      <td>983</td>\n",
       "      <td>64.027285</td>\n",
       "      <td>NaN</td>\n",
       "      <td>POLYGON ((-74.00390 4.81573, -74.00390 4.82468...</td>\n",
       "      <td>USAQUEN</td>\n",
       "      <td>15.96</td>\n",
       "    </tr>\n",
       "  </tbody>\n",
       "</table>\n",
       "<p>647 rows × 6 columns</p>\n",
       "</div>"
      ],
      "text/plain": [
       "     grid_id    tpg2017  densidad_urbana  \\\n",
       "17        17  60.070520       191.566568   \n",
       "18        18  60.070520        73.563395   \n",
       "19        19  60.070520        73.563395   \n",
       "20        20  60.070520        73.563395   \n",
       "57        57  60.070520       309.569740   \n",
       "..       ...        ...              ...   \n",
       "973      973  64.027285       264.024478   \n",
       "974      974  64.027285              NaN   \n",
       "981      981  64.027285              NaN   \n",
       "982      982  64.027285              NaN   \n",
       "983      983  64.027285              NaN   \n",
       "\n",
       "                                              geometry Nombre de la localidad  \\\n",
       "17   POLYGON ((-74.21051 4.60982, -74.21051 4.61877...                   BOSA   \n",
       "18   POLYGON ((-74.21051 4.61877, -74.21051 4.62773...                   BOSA   \n",
       "19   POLYGON ((-74.21051 4.62773, -74.21051 4.63668...                   BOSA   \n",
       "20   POLYGON ((-74.21051 4.63668, -74.21051 4.64563...                   BOSA   \n",
       "57   POLYGON ((-74.20153 4.60087, -74.20153 4.60982...                   BOSA   \n",
       "..                                                 ...                    ...   \n",
       "973  POLYGON ((-74.00390 4.72621, -74.00390 4.73517...                USAQUEN   \n",
       "974  POLYGON ((-74.00390 4.73517, -74.00390 4.74412...                USAQUEN   \n",
       "981  POLYGON ((-74.00390 4.79783, -74.00390 4.80678...                USAQUEN   \n",
       "982  POLYGON ((-74.00390 4.80678, -74.00390 4.81573...                USAQUEN   \n",
       "983  POLYGON ((-74.00390 4.81573, -74.00390 4.82468...                USAQUEN   \n",
       "\n",
       "     pobreza_monetaria  \n",
       "17               53.18  \n",
       "18               53.18  \n",
       "19               53.18  \n",
       "20               53.18  \n",
       "57               53.18  \n",
       "..                 ...  \n",
       "973              15.96  \n",
       "974              15.96  \n",
       "981              15.96  \n",
       "982              15.96  \n",
       "983              15.96  \n",
       "\n",
       "[647 rows x 6 columns]"
      ]
     },
     "execution_count": 26,
     "metadata": {},
     "output_type": "execute_result"
    }
   ],
   "source": [
    "gdf_grilla[gdf_grilla.pobreza_monetaria.notna()]"
   ]
  },
  {
   "cell_type": "code",
   "execution_count": 27,
   "metadata": {
    "colab": {
     "base_uri": "https://localhost:8080/",
     "height": 847
    },
    "executionInfo": {
     "elapsed": 622,
     "status": "ok",
     "timestamp": 1745111175460,
     "user": {
      "displayName": "Diego Alejandro Hernandez Castaneda",
      "userId": "18178177893889256336"
     },
     "user_tz": 300
    },
    "id": "9jdW9NSMMsag",
    "outputId": "bd3b431f-a544-4887-c301-6ff62c376631"
   },
   "outputs": [
    {
     "data": {
      "text/plain": [
       "<Axes: >"
      ]
     },
     "execution_count": 27,
     "metadata": {},
     "output_type": "execute_result"
    },
    {
     "data": {
      "image/png": "[encoded data removed]",
      "text/plain": [
       "<Figure size 1000x1000 with 2 Axes>"
      ]
     },
     "metadata": {},
     "output_type": "display_data"
    }
   ],
   "source": [
    "del poverty\n",
    "gdf_grilla.plot(column='pobreza_monetaria', cmap='viridis', legend=True, figsize=(10,10))"
   ]
  },
  {
   "cell_type": "markdown",
   "metadata": {
    "id": "-t1TytubQqUi"
   },
   "source": [
    "#Adding land use for each grid cell"
   ]
  },
  {
   "cell_type": "code",
   "execution_count": 28,
   "metadata": {
    "colab": {
     "base_uri": "https://localhost:8080/",
     "height": 241
    },
    "executionInfo": {
     "elapsed": 11380,
     "status": "ok",
     "timestamp": 1745111192292,
     "user": {
      "displayName": "Diego Alejandro Hernandez Castaneda",
      "userId": "18178177893889256336"
     },
     "user_tz": 300
    },
    "id": "yx4RtVaTMsfX",
    "outputId": "15592a89-e447-469a-cbd6-d6a92038f951"
   },
   "outputs": [
    {
     "data": {
      "text/html": [
       "<div>\n",
       "<style scoped>\n",
       "    .dataframe tbody tr th:only-of-type {\n",
       "        vertical-align: middle;\n",
       "    }\n",
       "\n",
       "    .dataframe tbody tr th {\n",
       "        vertical-align: top;\n",
       "    }\n",
       "\n",
       "    .dataframe thead th {\n",
       "        text-align: right;\n",
       "    }\n",
       "</style>\n",
       "<table border=\"1\" class=\"dataframe\">\n",
       "  <thead>\n",
       "    <tr style=\"text-align: right;\">\n",
       "      <th></th>\n",
       "      <th>objectid</th>\n",
       "      <th>mancodigo</th>\n",
       "      <th>uso</th>\n",
       "      <th>ano</th>\n",
       "      <th>shape_area</th>\n",
       "      <th>shape_len</th>\n",
       "      <th>geo_shape</th>\n",
       "      <th>geo_point_2d</th>\n",
       "      <th>geometry</th>\n",
       "    </tr>\n",
       "  </thead>\n",
       "  <tbody>\n",
       "    <tr>\n",
       "      <th>0</th>\n",
       "      <td>391832</td>\n",
       "      <td>004513020</td>\n",
       "      <td>RESIDENCIAL</td>\n",
       "      <td>2019-12-31 20:00:00-05:00</td>\n",
       "      <td>1.958042e-07</td>\n",
       "      <td>0.003843</td>\n",
       "      <td>None</td>\n",
       "      <td>{'lon': -74.21405966010447, 'lat': 4.613241516...</td>\n",
       "      <td>POLYGON ((-74.21372 4.61354, -74.21367 4.61352...</td>\n",
       "    </tr>\n",
       "    <tr>\n",
       "      <th>1</th>\n",
       "      <td>391834</td>\n",
       "      <td>002589099</td>\n",
       "      <td>RESIDENCIAL</td>\n",
       "      <td>2019-12-31 20:00:00-05:00</td>\n",
       "      <td>1.868025e-05</td>\n",
       "      <td>0.040404</td>\n",
       "      <td>None</td>\n",
       "      <td>{'lon': -74.1166043267566, 'lat': 4.5303438992...</td>\n",
       "      <td>POLYGON ((-74.11719 4.53345, -74.11668 4.53360...</td>\n",
       "    </tr>\n",
       "    <tr>\n",
       "      <th>2</th>\n",
       "      <td>392068</td>\n",
       "      <td>008506064</td>\n",
       "      <td>OTROS</td>\n",
       "      <td>2019-12-31 20:00:00-05:00</td>\n",
       "      <td>1.711463e-07</td>\n",
       "      <td>0.002262</td>\n",
       "      <td>None</td>\n",
       "      <td>{'lon': -74.02579730346349, 'lat': 4.734638010...</td>\n",
       "      <td>POLYGON ((-74.02581 4.73416, -74.02582 4.73414...</td>\n",
       "    </tr>\n",
       "    <tr>\n",
       "      <th>3</th>\n",
       "      <td>392071</td>\n",
       "      <td>008506060</td>\n",
       "      <td>RESIDENCIAL</td>\n",
       "      <td>2019-12-31 20:00:00-05:00</td>\n",
       "      <td>1.567529e-07</td>\n",
       "      <td>0.001683</td>\n",
       "      <td>None</td>\n",
       "      <td>{'lon': -74.02934900660577, 'lat': 4.736112455...</td>\n",
       "      <td>POLYGON ((-74.02925 4.73588, -74.02925 4.73588...</td>\n",
       "    </tr>\n",
       "    <tr>\n",
       "      <th>4</th>\n",
       "      <td>392072</td>\n",
       "      <td>008506065</td>\n",
       "      <td>OTROS</td>\n",
       "      <td>2019-12-31 20:00:00-05:00</td>\n",
       "      <td>2.587448e-07</td>\n",
       "      <td>0.002912</td>\n",
       "      <td>None</td>\n",
       "      <td>{'lon': -74.02696793318606, 'lat': 4.735441878...</td>\n",
       "      <td>POLYGON ((-74.02683 4.73499, -74.02683 4.73498...</td>\n",
       "    </tr>\n",
       "  </tbody>\n",
       "</table>\n",
       "</div>"
      ],
      "text/plain": [
       "   objectid  mancodigo          uso                       ano    shape_area  \\\n",
       "0    391832  004513020  RESIDENCIAL 2019-12-31 20:00:00-05:00  1.958042e-07   \n",
       "1    391834  002589099  RESIDENCIAL 2019-12-31 20:00:00-05:00  1.868025e-05   \n",
       "2    392068  008506064        OTROS 2019-12-31 20:00:00-05:00  1.711463e-07   \n",
       "3    392071  008506060  RESIDENCIAL 2019-12-31 20:00:00-05:00  1.567529e-07   \n",
       "4    392072  008506065        OTROS 2019-12-31 20:00:00-05:00  2.587448e-07   \n",
       "\n",
       "   shape_len geo_shape                                       geo_point_2d  \\\n",
       "0   0.003843      None  {'lon': -74.21405966010447, 'lat': 4.613241516...   \n",
       "1   0.040404      None  {'lon': -74.1166043267566, 'lat': 4.5303438992...   \n",
       "2   0.002262      None  {'lon': -74.02579730346349, 'lat': 4.734638010...   \n",
       "3   0.001683      None  {'lon': -74.02934900660577, 'lat': 4.736112455...   \n",
       "4   0.002912      None  {'lon': -74.02696793318606, 'lat': 4.735441878...   \n",
       "\n",
       "                                            geometry  \n",
       "0  POLYGON ((-74.21372 4.61354, -74.21367 4.61352...  \n",
       "1  POLYGON ((-74.11719 4.53345, -74.11668 4.53360...  \n",
       "2  POLYGON ((-74.02581 4.73416, -74.02582 4.73414...  \n",
       "3  POLYGON ((-74.02925 4.73588, -74.02925 4.73588...  \n",
       "4  POLYGON ((-74.02683 4.73499, -74.02683 4.73498...  "
      ]
     },
     "execution_count": 28,
     "metadata": {},
     "output_type": "execute_result"
    }
   ],
   "source": [
    "land_use = gpd.read_file('../Data/Bogota/Raw Data/covariates/land_use.geojson',driver='GeoJSON')\n",
    "land_use.head()"
   ]
  },
  {
   "cell_type": "code",
   "execution_count": 29,
   "metadata": {
    "executionInfo": {
     "elapsed": 992,
     "status": "ok",
     "timestamp": 1745111193395,
     "user": {
      "displayName": "Diego Alejandro Hernandez Castaneda",
      "userId": "18178177893889256336"
     },
     "user_tz": 300
    },
    "id": "b6b4kQqsRAqe"
   },
   "outputs": [],
   "source": [
    "from scipy.stats import mode\n",
    "\n",
    "# 1. same CRS\n",
    "gdf_grilla = gdf_grilla.to_crs('EPSG:4326')\n",
    "land_use = land_use.to_crs('EPSG:4326')\n",
    "\n",
    "# 2. Spatial join: asignar a cada uso del suelo el cuadrado que lo contiene\n",
    "join = gpd.sjoin(land_use, gdf_grilla[['geometry', 'grid_id']], how='inner', predicate='intersects')\n",
    "\n",
    "# 4. Calcular la moda (valor más frecuente) por grid_id\n",
    "# Agrupamos y aplicamos moda de strings\n",
    "uso_moda = join.groupby('grid_id')['uso'].agg(lambda x: x.mode().iloc[0] if not x.mode().empty else np.nan).reset_index()\n",
    "\n",
    "# 5. Agregar la moda de 'uso' a gdf_grilla\n",
    "gdf_grilla = gdf_grilla.merge(uso_moda, on='grid_id', how='left')"
   ]
  },
  {
   "cell_type": "code",
   "execution_count": 30,
   "metadata": {
    "colab": {
     "base_uri": "https://localhost:8080/"
    },
    "executionInfo": {
     "elapsed": 18,
     "status": "ok",
     "timestamp": 1745111193416,
     "user": {
      "displayName": "Diego Alejandro Hernandez Castaneda",
      "userId": "18178177893889256336"
     },
     "user_tz": 300
    },
    "id": "gEUNSrdFRAsx",
    "outputId": "eef6361d-2104-4c50-d027-a5010eecccff"
   },
   "outputs": [
    {
     "data": {
      "text/plain": [
       "(984, 7)"
      ]
     },
     "execution_count": 30,
     "metadata": {},
     "output_type": "execute_result"
    }
   ],
   "source": [
    "gdf_grilla.shape"
   ]
  },
  {
   "cell_type": "code",
   "execution_count": 31,
   "metadata": {
    "colab": {
     "base_uri": "https://localhost:8080/",
     "height": 206
    },
    "executionInfo": {
     "elapsed": 155,
     "status": "ok",
     "timestamp": 1745111193573,
     "user": {
      "displayName": "Diego Alejandro Hernandez Castaneda",
      "userId": "18178177893889256336"
     },
     "user_tz": 300
    },
    "id": "lFBOyfP9RCcs",
    "outputId": "b0a7d130-76fa-419a-e089-a7be3fbb841e"
   },
   "outputs": [
    {
     "data": {
      "text/html": [
       "<div>\n",
       "<style scoped>\n",
       "    .dataframe tbody tr th:only-of-type {\n",
       "        vertical-align: middle;\n",
       "    }\n",
       "\n",
       "    .dataframe tbody tr th {\n",
       "        vertical-align: top;\n",
       "    }\n",
       "\n",
       "    .dataframe thead th {\n",
       "        text-align: right;\n",
       "    }\n",
       "</style>\n",
       "<table border=\"1\" class=\"dataframe\">\n",
       "  <thead>\n",
       "    <tr style=\"text-align: right;\">\n",
       "      <th></th>\n",
       "      <th>grid_id</th>\n",
       "      <th>tpg2017</th>\n",
       "      <th>densidad_urbana</th>\n",
       "      <th>geometry</th>\n",
       "      <th>Nombre de la localidad</th>\n",
       "      <th>pobreza_monetaria</th>\n",
       "      <th>uso</th>\n",
       "    </tr>\n",
       "  </thead>\n",
       "  <tbody>\n",
       "    <tr>\n",
       "      <th>0</th>\n",
       "      <td>0</td>\n",
       "      <td>NaN</td>\n",
       "      <td>NaN</td>\n",
       "      <td>POLYGON ((-74.21051 4.45758, -74.21051 4.46654...</td>\n",
       "      <td>NaN</td>\n",
       "      <td>NaN</td>\n",
       "      <td>NaN</td>\n",
       "    </tr>\n",
       "    <tr>\n",
       "      <th>1</th>\n",
       "      <td>1</td>\n",
       "      <td>NaN</td>\n",
       "      <td>NaN</td>\n",
       "      <td>POLYGON ((-74.21051 4.46654, -74.21051 4.47550...</td>\n",
       "      <td>NaN</td>\n",
       "      <td>NaN</td>\n",
       "      <td>NaN</td>\n",
       "    </tr>\n",
       "    <tr>\n",
       "      <th>2</th>\n",
       "      <td>2</td>\n",
       "      <td>NaN</td>\n",
       "      <td>NaN</td>\n",
       "      <td>POLYGON ((-74.21051 4.47550, -74.21051 4.48445...</td>\n",
       "      <td>NaN</td>\n",
       "      <td>NaN</td>\n",
       "      <td>NaN</td>\n",
       "    </tr>\n",
       "    <tr>\n",
       "      <th>3</th>\n",
       "      <td>3</td>\n",
       "      <td>NaN</td>\n",
       "      <td>NaN</td>\n",
       "      <td>POLYGON ((-74.21051 4.48445, -74.21051 4.49341...</td>\n",
       "      <td>NaN</td>\n",
       "      <td>NaN</td>\n",
       "      <td>NaN</td>\n",
       "    </tr>\n",
       "    <tr>\n",
       "      <th>4</th>\n",
       "      <td>4</td>\n",
       "      <td>NaN</td>\n",
       "      <td>NaN</td>\n",
       "      <td>POLYGON ((-74.21051 4.49341, -74.21051 4.50236...</td>\n",
       "      <td>NaN</td>\n",
       "      <td>NaN</td>\n",
       "      <td>NaN</td>\n",
       "    </tr>\n",
       "  </tbody>\n",
       "</table>\n",
       "</div>"
      ],
      "text/plain": [
       "   grid_id  tpg2017  densidad_urbana  \\\n",
       "0        0      NaN              NaN   \n",
       "1        1      NaN              NaN   \n",
       "2        2      NaN              NaN   \n",
       "3        3      NaN              NaN   \n",
       "4        4      NaN              NaN   \n",
       "\n",
       "                                            geometry Nombre de la localidad  \\\n",
       "0  POLYGON ((-74.21051 4.45758, -74.21051 4.46654...                    NaN   \n",
       "1  POLYGON ((-74.21051 4.46654, -74.21051 4.47550...                    NaN   \n",
       "2  POLYGON ((-74.21051 4.47550, -74.21051 4.48445...                    NaN   \n",
       "3  POLYGON ((-74.21051 4.48445, -74.21051 4.49341...                    NaN   \n",
       "4  POLYGON ((-74.21051 4.49341, -74.21051 4.50236...                    NaN   \n",
       "\n",
       "   pobreza_monetaria  uso  \n",
       "0                NaN  NaN  \n",
       "1                NaN  NaN  \n",
       "2                NaN  NaN  \n",
       "3                NaN  NaN  \n",
       "4                NaN  NaN  "
      ]
     },
     "execution_count": 31,
     "metadata": {},
     "output_type": "execute_result"
    }
   ],
   "source": [
    "del land_use\n",
    "gdf_grilla.to_file('../Data/Bogota/Raw Data/grid_1kmx1km_bogota_covariates.geojson',driver='GeoJSON')\n",
    "gdf_grilla.head()"
   ]
  },
  {
   "cell_type": "markdown",
   "metadata": {
    "id": "rc6lkIVKSEak"
   },
   "source": [
    "#Adding socioeconomical segregation index for each grid cell"
   ]
  },
  {
   "cell_type": "code",
   "execution_count": 46,
   "metadata": {
    "colab": {
     "base_uri": "https://localhost:8080/",
     "height": 328
    },
    "executionInfo": {
     "elapsed": 8950,
     "status": "ok",
     "timestamp": 1745111202524,
     "user": {
      "displayName": "Diego Alejandro Hernandez Castaneda",
      "userId": "18178177893889256336"
     },
     "user_tz": 300
    },
    "id": "dpAfUWl_Rz4M",
    "outputId": "dd71b70d-5e3e-4545-a703-a0ebc7f43faa"
   },
   "outputs": [
    {
     "data": {
      "text/html": [
       "<div>\n",
       "<style scoped>\n",
       "    .dataframe tbody tr th:only-of-type {\n",
       "        vertical-align: middle;\n",
       "    }\n",
       "\n",
       "    .dataframe tbody tr th {\n",
       "        vertical-align: top;\n",
       "    }\n",
       "\n",
       "    .dataframe thead th {\n",
       "        text-align: right;\n",
       "    }\n",
       "</style>\n",
       "<table border=\"1\" class=\"dataframe\">\n",
       "  <thead>\n",
       "    <tr style=\"text-align: right;\">\n",
       "      <th></th>\n",
       "      <th>OBJECTID</th>\n",
       "      <th>CODIGO_MAN</th>\n",
       "      <th>ESTRATO</th>\n",
       "      <th>CODIGO_ZON</th>\n",
       "      <th>CODIGO_CRI</th>\n",
       "      <th>NORMATIVA</th>\n",
       "      <th>ACTO_ADMIN</th>\n",
       "      <th>NUMERO_ACT</th>\n",
       "      <th>FECHA_ACTO</th>\n",
       "      <th>ESCALA_CAP</th>\n",
       "      <th>FECHA_CAPT</th>\n",
       "      <th>RESPONSABL</th>\n",
       "      <th>SHAPE_AREA</th>\n",
       "      <th>SHAPE_LEN</th>\n",
       "      <th>geometry</th>\n",
       "    </tr>\n",
       "  </thead>\n",
       "  <tbody>\n",
       "    <tr>\n",
       "      <th>0</th>\n",
       "      <td>695738</td>\n",
       "      <td>00820516</td>\n",
       "      <td>5</td>\n",
       "      <td>15</td>\n",
       "      <td>None</td>\n",
       "      <td>DEC551</td>\n",
       "      <td>DEC</td>\n",
       "      <td>551</td>\n",
       "      <td>2019-09-12</td>\n",
       "      <td>None</td>\n",
       "      <td>2019-09-12</td>\n",
       "      <td>560</td>\n",
       "      <td>21725.000837</td>\n",
       "      <td>676.305821</td>\n",
       "      <td>POLYGON ((-74.05448 4.64394, -74.05449 4.64392...</td>\n",
       "    </tr>\n",
       "    <tr>\n",
       "      <th>1</th>\n",
       "      <td>695739</td>\n",
       "      <td>00460146</td>\n",
       "      <td>2</td>\n",
       "      <td>5</td>\n",
       "      <td>None</td>\n",
       "      <td>DEC551</td>\n",
       "      <td>DEC</td>\n",
       "      <td>551</td>\n",
       "      <td>2019-09-12</td>\n",
       "      <td>None</td>\n",
       "      <td>2019-09-12</td>\n",
       "      <td>560</td>\n",
       "      <td>1440.019910</td>\n",
       "      <td>183.987736</td>\n",
       "      <td>POLYGON ((-74.16792 4.64359, -74.16794 4.64361...</td>\n",
       "    </tr>\n",
       "    <tr>\n",
       "      <th>2</th>\n",
       "      <td>695740</td>\n",
       "      <td>00460145</td>\n",
       "      <td>2</td>\n",
       "      <td>4</td>\n",
       "      <td>None</td>\n",
       "      <td>DEC551</td>\n",
       "      <td>DEC</td>\n",
       "      <td>551</td>\n",
       "      <td>2019-09-12</td>\n",
       "      <td>None</td>\n",
       "      <td>2019-09-12</td>\n",
       "      <td>560</td>\n",
       "      <td>6646.540218</td>\n",
       "      <td>506.406054</td>\n",
       "      <td>POLYGON ((-74.16791 4.64410, -74.16788 4.64412...</td>\n",
       "    </tr>\n",
       "    <tr>\n",
       "      <th>3</th>\n",
       "      <td>695741</td>\n",
       "      <td>00454106</td>\n",
       "      <td>2</td>\n",
       "      <td>4</td>\n",
       "      <td>None</td>\n",
       "      <td>DEC551</td>\n",
       "      <td>DEC</td>\n",
       "      <td>551</td>\n",
       "      <td>2019-09-12</td>\n",
       "      <td>None</td>\n",
       "      <td>2019-09-12</td>\n",
       "      <td>560</td>\n",
       "      <td>1872.090078</td>\n",
       "      <td>239.992156</td>\n",
       "      <td>POLYGON ((-74.17083 4.64415, -74.17076 4.64407...</td>\n",
       "    </tr>\n",
       "    <tr>\n",
       "      <th>4</th>\n",
       "      <td>695742</td>\n",
       "      <td>00650102</td>\n",
       "      <td>3</td>\n",
       "      <td>7</td>\n",
       "      <td>None</td>\n",
       "      <td>DEC551</td>\n",
       "      <td>DEC</td>\n",
       "      <td>551</td>\n",
       "      <td>2019-09-12</td>\n",
       "      <td>None</td>\n",
       "      <td>2019-09-12</td>\n",
       "      <td>560</td>\n",
       "      <td>4393.406229</td>\n",
       "      <td>273.571554</td>\n",
       "      <td>POLYGON ((-74.12984 4.64408, -74.12975 4.64413...</td>\n",
       "    </tr>\n",
       "  </tbody>\n",
       "</table>\n",
       "</div>"
      ],
      "text/plain": [
       "   OBJECTID CODIGO_MAN  ESTRATO  CODIGO_ZON CODIGO_CRI NORMATIVA ACTO_ADMIN  \\\n",
       "0    695738   00820516        5          15       None    DEC551        DEC   \n",
       "1    695739   00460146        2           5       None    DEC551        DEC   \n",
       "2    695740   00460145        2           4       None    DEC551        DEC   \n",
       "3    695741   00454106        2           4       None    DEC551        DEC   \n",
       "4    695742   00650102        3           7       None    DEC551        DEC   \n",
       "\n",
       "   NUMERO_ACT  FECHA_ACTO ESCALA_CAP  FECHA_CAPT RESPONSABL    SHAPE_AREA  \\\n",
       "0         551  2019-09-12       None  2019-09-12        560  21725.000837   \n",
       "1         551  2019-09-12       None  2019-09-12        560   1440.019910   \n",
       "2         551  2019-09-12       None  2019-09-12        560   6646.540218   \n",
       "3         551  2019-09-12       None  2019-09-12        560   1872.090078   \n",
       "4         551  2019-09-12       None  2019-09-12        560   4393.406229   \n",
       "\n",
       "    SHAPE_LEN                                           geometry  \n",
       "0  676.305821  POLYGON ((-74.05448 4.64394, -74.05449 4.64392...  \n",
       "1  183.987736  POLYGON ((-74.16792 4.64359, -74.16794 4.64361...  \n",
       "2  506.406054  POLYGON ((-74.16791 4.64410, -74.16788 4.64412...  \n",
       "3  239.992156  POLYGON ((-74.17083 4.64415, -74.17076 4.64407...  \n",
       "4  273.571554  POLYGON ((-74.12984 4.64408, -74.12975 4.64413...  "
      ]
     },
     "execution_count": 46,
     "metadata": {},
     "output_type": "execute_result"
    }
   ],
   "source": [
    "#estrato = gpd.read_file('../Data/Bogota/Raw Data/covariates/estrato.geojson',driver='GeoJSON')\n",
    "estrato = gpd.read_file('../Data/Bogota/Raw Data/covariates/estrato.shp')\n",
    "estrato.head()"
   ]
  },
  {
   "cell_type": "code",
   "execution_count": 47,
   "metadata": {
    "colab": {
     "base_uri": "https://localhost:8080/",
     "height": 206
    },
    "executionInfo": {
     "elapsed": 886,
     "status": "ok",
     "timestamp": 1745111203413,
     "user": {
      "displayName": "Diego Alejandro Hernandez Castaneda",
      "userId": "18178177893889256336"
     },
     "user_tz": 300
    },
    "id": "PrpZKgUqS9ug",
    "outputId": "a9387de4-6de6-4282-ed37-bf5989a45170"
   },
   "outputs": [
    {
     "data": {
      "text/html": [
       "<div>\n",
       "<style scoped>\n",
       "    .dataframe tbody tr th:only-of-type {\n",
       "        vertical-align: middle;\n",
       "    }\n",
       "\n",
       "    .dataframe tbody tr th {\n",
       "        vertical-align: top;\n",
       "    }\n",
       "\n",
       "    .dataframe thead th {\n",
       "        text-align: right;\n",
       "    }\n",
       "</style>\n",
       "<table border=\"1\" class=\"dataframe\">\n",
       "  <thead>\n",
       "    <tr style=\"text-align: right;\">\n",
       "      <th></th>\n",
       "      <th>grid_id</th>\n",
       "      <th>tpg2017</th>\n",
       "      <th>densidad_urbana</th>\n",
       "      <th>Nombre de la localidad</th>\n",
       "      <th>pobreza_monetaria</th>\n",
       "      <th>uso</th>\n",
       "      <th>geometry</th>\n",
       "      <th>uso_codificado</th>\n",
       "      <th>ESTRATO</th>\n",
       "    </tr>\n",
       "  </thead>\n",
       "  <tbody>\n",
       "    <tr>\n",
       "      <th>0</th>\n",
       "      <td>0</td>\n",
       "      <td>-1.0</td>\n",
       "      <td>-1.0</td>\n",
       "      <td>-1</td>\n",
       "      <td>-1.0</td>\n",
       "      <td>-1</td>\n",
       "      <td>POLYGON ((-74.21051 4.45758, -74.21051 4.46654...</td>\n",
       "      <td>-1.0</td>\n",
       "      <td>NaN</td>\n",
       "    </tr>\n",
       "    <tr>\n",
       "      <th>1</th>\n",
       "      <td>1</td>\n",
       "      <td>-1.0</td>\n",
       "      <td>-1.0</td>\n",
       "      <td>-1</td>\n",
       "      <td>-1.0</td>\n",
       "      <td>-1</td>\n",
       "      <td>POLYGON ((-74.21051 4.46654, -74.21051 4.47550...</td>\n",
       "      <td>-1.0</td>\n",
       "      <td>NaN</td>\n",
       "    </tr>\n",
       "    <tr>\n",
       "      <th>2</th>\n",
       "      <td>2</td>\n",
       "      <td>-1.0</td>\n",
       "      <td>-1.0</td>\n",
       "      <td>-1</td>\n",
       "      <td>-1.0</td>\n",
       "      <td>-1</td>\n",
       "      <td>POLYGON ((-74.21051 4.47550, -74.21051 4.48445...</td>\n",
       "      <td>-1.0</td>\n",
       "      <td>NaN</td>\n",
       "    </tr>\n",
       "    <tr>\n",
       "      <th>3</th>\n",
       "      <td>3</td>\n",
       "      <td>-1.0</td>\n",
       "      <td>-1.0</td>\n",
       "      <td>-1</td>\n",
       "      <td>-1.0</td>\n",
       "      <td>-1</td>\n",
       "      <td>POLYGON ((-74.21051 4.48445, -74.21051 4.49341...</td>\n",
       "      <td>-1.0</td>\n",
       "      <td>NaN</td>\n",
       "    </tr>\n",
       "    <tr>\n",
       "      <th>4</th>\n",
       "      <td>4</td>\n",
       "      <td>-1.0</td>\n",
       "      <td>-1.0</td>\n",
       "      <td>-1</td>\n",
       "      <td>-1.0</td>\n",
       "      <td>-1</td>\n",
       "      <td>POLYGON ((-74.21051 4.49341, -74.21051 4.50236...</td>\n",
       "      <td>-1.0</td>\n",
       "      <td>NaN</td>\n",
       "    </tr>\n",
       "  </tbody>\n",
       "</table>\n",
       "</div>"
      ],
      "text/plain": [
       "   grid_id  tpg2017  densidad_urbana Nombre de la localidad  \\\n",
       "0        0     -1.0             -1.0                     -1   \n",
       "1        1     -1.0             -1.0                     -1   \n",
       "2        2     -1.0             -1.0                     -1   \n",
       "3        3     -1.0             -1.0                     -1   \n",
       "4        4     -1.0             -1.0                     -1   \n",
       "\n",
       "   pobreza_monetaria uso                                           geometry  \\\n",
       "0               -1.0  -1  POLYGON ((-74.21051 4.45758, -74.21051 4.46654...   \n",
       "1               -1.0  -1  POLYGON ((-74.21051 4.46654, -74.21051 4.47550...   \n",
       "2               -1.0  -1  POLYGON ((-74.21051 4.47550, -74.21051 4.48445...   \n",
       "3               -1.0  -1  POLYGON ((-74.21051 4.48445, -74.21051 4.49341...   \n",
       "4               -1.0  -1  POLYGON ((-74.21051 4.49341, -74.21051 4.50236...   \n",
       "\n",
       "   uso_codificado  ESTRATO  \n",
       "0            -1.0      NaN  \n",
       "1            -1.0      NaN  \n",
       "2            -1.0      NaN  \n",
       "3            -1.0      NaN  \n",
       "4            -1.0      NaN  "
      ]
     },
     "execution_count": 47,
     "metadata": {},
     "output_type": "execute_result"
    }
   ],
   "source": [
    "# 1. same crs\n",
    "gdf_grilla = gdf_grilla.to_crs('EPSG:4326')\n",
    "estrato = estrato.to_crs('EPSG:4326')\n",
    "\n",
    "# 2. Spatial join: asociar cada tgp con la celda que lo contiene (o intersecta)\n",
    "joined = gpd.sjoin(estrato, gdf_grilla, how='inner', predicate='intersects')\n",
    "\n",
    "# 3. groping by grid_id and making the average\n",
    "promedios = joined.groupby('grid_id')['ESTRATO'].mean().reset_index()\n",
    "\n",
    "# 4. mergin with the average values\n",
    "gdf_grilla = gdf_grilla.merge(promedios, on='grid_id', how='left')\n",
    "\n",
    "gdf_grilla.to_file('../Data/Bogota/Raw Data/grid_1kmx1km_bogota_covariates.geojson',driver='GeoJSON')\n",
    "gdf_grilla.head()"
   ]
  },
  {
   "cell_type": "code",
   "execution_count": 48,
   "metadata": {
    "colab": {
     "base_uri": "https://localhost:8080/"
    },
    "executionInfo": {
     "elapsed": 26,
     "status": "ok",
     "timestamp": 1745111203441,
     "user": {
      "displayName": "Diego Alejandro Hernandez Castaneda",
      "userId": "18178177893889256336"
     },
     "user_tz": 300
    },
    "id": "0AcJty4rTMBT",
    "outputId": "92bbd50d-c1e2-4bd2-ef6c-c828f9085141"
   },
   "outputs": [
    {
     "data": {
      "text/plain": [
       "(984, 9)"
      ]
     },
     "execution_count": 48,
     "metadata": {},
     "output_type": "execute_result"
    }
   ],
   "source": [
    "gdf_grilla.shape"
   ]
  },
  {
   "cell_type": "code",
   "execution_count": 49,
   "metadata": {
    "colab": {
     "base_uri": "https://localhost:8080/",
     "height": 853
    },
    "executionInfo": {
     "elapsed": 447,
     "status": "ok",
     "timestamp": 1745111203907,
     "user": {
      "displayName": "Diego Alejandro Hernandez Castaneda",
      "userId": "18178177893889256336"
     },
     "user_tz": 300
    },
    "id": "BmW9hUvATNqX",
    "outputId": "e5253d24-006f-4686-a23a-32af953dd16a"
   },
   "outputs": [
    {
     "data": {
      "text/plain": [
       "<Axes: >"
      ]
     },
     "execution_count": 49,
     "metadata": {},
     "output_type": "execute_result"
    },
    {
     "data": {
      "image/png": "[encoded data removed]",
      "text/plain": [
       "<Figure size 1000x1000 with 2 Axes>"
      ]
     },
     "metadata": {},
     "output_type": "display_data"
    }
   ],
   "source": [
    "del estrato\n",
    "gdf_grilla.plot(column='ESTRATO', cmap='viridis', legend=True, figsize=(10,10))"
   ]
  },
  {
   "cell_type": "markdown",
   "metadata": {
    "id": "QHeMRDm9T479"
   },
   "source": [
    "# Pair matching simetric"
   ]
  },
  {
   "cell_type": "code",
   "execution_count": 50,
   "metadata": {
    "colab": {
     "base_uri": "https://localhost:8080/",
     "height": 241
    },
    "executionInfo": {
     "elapsed": 101,
     "status": "ok",
     "timestamp": 1745111204064,
     "user": {
      "displayName": "Diego Alejandro Hernandez Castaneda",
      "userId": "18178177893889256336"
     },
     "user_tz": 300
    },
    "id": "d8EA3mQzTQ3h",
    "outputId": "fa74d5ab-d02c-47e8-938a-995cff7d392e"
   },
   "outputs": [
    {
     "data": {
      "text/html": [
       "<div>\n",
       "<style scoped>\n",
       "    .dataframe tbody tr th:only-of-type {\n",
       "        vertical-align: middle;\n",
       "    }\n",
       "\n",
       "    .dataframe tbody tr th {\n",
       "        vertical-align: top;\n",
       "    }\n",
       "\n",
       "    .dataframe thead th {\n",
       "        text-align: right;\n",
       "    }\n",
       "</style>\n",
       "<table border=\"1\" class=\"dataframe\">\n",
       "  <thead>\n",
       "    <tr style=\"text-align: right;\">\n",
       "      <th></th>\n",
       "      <th>grid_id</th>\n",
       "      <th>tpg2017</th>\n",
       "      <th>densidad_urbana</th>\n",
       "      <th>Nombre de la localidad</th>\n",
       "      <th>pobreza_monetaria</th>\n",
       "      <th>uso</th>\n",
       "      <th>uso_codificado</th>\n",
       "      <th>ESTRATO</th>\n",
       "      <th>geometry</th>\n",
       "    </tr>\n",
       "  </thead>\n",
       "  <tbody>\n",
       "    <tr>\n",
       "      <th>0</th>\n",
       "      <td>0</td>\n",
       "      <td>-1.0</td>\n",
       "      <td>-1.0</td>\n",
       "      <td>-1</td>\n",
       "      <td>-1.0</td>\n",
       "      <td>-1</td>\n",
       "      <td>-1.0</td>\n",
       "      <td>NaN</td>\n",
       "      <td>POLYGON ((-74.21051 4.45758, -74.21051 4.46654...</td>\n",
       "    </tr>\n",
       "    <tr>\n",
       "      <th>1</th>\n",
       "      <td>1</td>\n",
       "      <td>-1.0</td>\n",
       "      <td>-1.0</td>\n",
       "      <td>-1</td>\n",
       "      <td>-1.0</td>\n",
       "      <td>-1</td>\n",
       "      <td>-1.0</td>\n",
       "      <td>NaN</td>\n",
       "      <td>POLYGON ((-74.21051 4.46654, -74.21051 4.47550...</td>\n",
       "    </tr>\n",
       "    <tr>\n",
       "      <th>2</th>\n",
       "      <td>2</td>\n",
       "      <td>-1.0</td>\n",
       "      <td>-1.0</td>\n",
       "      <td>-1</td>\n",
       "      <td>-1.0</td>\n",
       "      <td>-1</td>\n",
       "      <td>-1.0</td>\n",
       "      <td>NaN</td>\n",
       "      <td>POLYGON ((-74.21051 4.47550, -74.21051 4.48445...</td>\n",
       "    </tr>\n",
       "    <tr>\n",
       "      <th>3</th>\n",
       "      <td>3</td>\n",
       "      <td>-1.0</td>\n",
       "      <td>-1.0</td>\n",
       "      <td>-1</td>\n",
       "      <td>-1.0</td>\n",
       "      <td>-1</td>\n",
       "      <td>-1.0</td>\n",
       "      <td>NaN</td>\n",
       "      <td>POLYGON ((-74.21051 4.48445, -74.21051 4.49341...</td>\n",
       "    </tr>\n",
       "    <tr>\n",
       "      <th>4</th>\n",
       "      <td>4</td>\n",
       "      <td>-1.0</td>\n",
       "      <td>-1.0</td>\n",
       "      <td>-1</td>\n",
       "      <td>-1.0</td>\n",
       "      <td>-1</td>\n",
       "      <td>-1.0</td>\n",
       "      <td>NaN</td>\n",
       "      <td>POLYGON ((-74.21051 4.49341, -74.21051 4.50236...</td>\n",
       "    </tr>\n",
       "  </tbody>\n",
       "</table>\n",
       "</div>"
      ],
      "text/plain": [
       "   grid_id  tpg2017  densidad_urbana Nombre de la localidad  \\\n",
       "0        0     -1.0             -1.0                     -1   \n",
       "1        1     -1.0             -1.0                     -1   \n",
       "2        2     -1.0             -1.0                     -1   \n",
       "3        3     -1.0             -1.0                     -1   \n",
       "4        4     -1.0             -1.0                     -1   \n",
       "\n",
       "   pobreza_monetaria uso  uso_codificado  ESTRATO  \\\n",
       "0               -1.0  -1            -1.0      NaN   \n",
       "1               -1.0  -1            -1.0      NaN   \n",
       "2               -1.0  -1            -1.0      NaN   \n",
       "3               -1.0  -1            -1.0      NaN   \n",
       "4               -1.0  -1            -1.0      NaN   \n",
       "\n",
       "                                            geometry  \n",
       "0  POLYGON ((-74.21051 4.45758, -74.21051 4.46654...  \n",
       "1  POLYGON ((-74.21051 4.46654, -74.21051 4.47550...  \n",
       "2  POLYGON ((-74.21051 4.47550, -74.21051 4.48445...  \n",
       "3  POLYGON ((-74.21051 4.48445, -74.21051 4.49341...  \n",
       "4  POLYGON ((-74.21051 4.49341, -74.21051 4.50236...  "
      ]
     },
     "execution_count": 50,
     "metadata": {},
     "output_type": "execute_result"
    }
   ],
   "source": [
    "gdf_grilla = gpd.read_file('../Data/Bogota/Raw Data/grid_1kmx1km_bogota_covariates.geojson',driver='GeoJSON')\n",
    "gdf_grilla.head()"
   ]
  },
  {
   "cell_type": "code",
   "execution_count": 51,
   "metadata": {
    "colab": {
     "base_uri": "https://localhost:8080/"
    },
    "executionInfo": {
     "elapsed": 6,
     "status": "ok",
     "timestamp": 1745111204072,
     "user": {
      "displayName": "Diego Alejandro Hernandez Castaneda",
      "userId": "18178177893889256336"
     },
     "user_tz": 300
    },
    "id": "EmzbAMDYUj-f",
    "outputId": "0a1ebecc-31d8-461b-ee09-565ee355e2ce"
   },
   "outputs": [
    {
     "name": "stdout",
     "output_type": "stream",
     "text": [
      "Diccionario de codificación aleatoria:\n",
      "{'-1': 8532, 'RESIDENCIAL': 5780, 'OTROS': 4867, 'BODEGAS': 9318, 'COMERCIO': 721, 'UNIVERSIDADES Y COLEGIOS': 3529}\n"
     ]
    }
   ],
   "source": [
    "usos = gdf_grilla['uso'].dropna().unique()\n",
    "\n",
    "# Fijar semilla para reproducibilidad y mayor separación\n",
    "np.random.seed(42)\n",
    "\n",
    "# Generar valores numéricos aleatorios separados (ej. entre 100 y 9999)\n",
    "valores_numericos = np.random.choice(range(100, 10000), size=len(usos), replace=False)\n",
    "\n",
    "# Crear diccionario de mapeo\n",
    "mapa_usos_numerico = dict(zip(usos, valores_numericos))\n",
    "\n",
    "# Mostrar resultado\n",
    "print(\"Diccionario de codificación aleatoria:\")\n",
    "print(mapa_usos_numerico)"
   ]
  },
  {
   "cell_type": "markdown",
   "metadata": {
    "id": "WnVQsuapWcQH"
   },
   "source": []
  },
  {
   "cell_type": "code",
   "execution_count": 52,
   "metadata": {
    "colab": {
     "base_uri": "https://localhost:8080/",
     "height": 206
    },
    "executionInfo": {
     "elapsed": 74,
     "status": "ok",
     "timestamp": 1745111204148,
     "user": {
      "displayName": "Diego Alejandro Hernandez Castaneda",
      "userId": "18178177893889256336"
     },
     "user_tz": 300
    },
    "id": "P66h39ruVMso",
    "outputId": "e6cda09a-a5bc-42b1-c88b-55237b27dd1c"
   },
   "outputs": [
    {
     "data": {
      "text/html": [
       "<div>\n",
       "<style scoped>\n",
       "    .dataframe tbody tr th:only-of-type {\n",
       "        vertical-align: middle;\n",
       "    }\n",
       "\n",
       "    .dataframe tbody tr th {\n",
       "        vertical-align: top;\n",
       "    }\n",
       "\n",
       "    .dataframe thead th {\n",
       "        text-align: right;\n",
       "    }\n",
       "</style>\n",
       "<table border=\"1\" class=\"dataframe\">\n",
       "  <thead>\n",
       "    <tr style=\"text-align: right;\">\n",
       "      <th></th>\n",
       "      <th>grid_id</th>\n",
       "      <th>tpg2017</th>\n",
       "      <th>densidad_urbana</th>\n",
       "      <th>Nombre de la localidad</th>\n",
       "      <th>pobreza_monetaria</th>\n",
       "      <th>uso</th>\n",
       "      <th>uso_codificado</th>\n",
       "      <th>ESTRATO</th>\n",
       "      <th>geometry</th>\n",
       "    </tr>\n",
       "  </thead>\n",
       "  <tbody>\n",
       "    <tr>\n",
       "      <th>0</th>\n",
       "      <td>0</td>\n",
       "      <td>-1.0</td>\n",
       "      <td>-1.0</td>\n",
       "      <td>-1</td>\n",
       "      <td>-1.0</td>\n",
       "      <td>-1</td>\n",
       "      <td>8532</td>\n",
       "      <td>NaN</td>\n",
       "      <td>POLYGON ((-74.21051 4.45758, -74.21051 4.46654...</td>\n",
       "    </tr>\n",
       "    <tr>\n",
       "      <th>1</th>\n",
       "      <td>1</td>\n",
       "      <td>-1.0</td>\n",
       "      <td>-1.0</td>\n",
       "      <td>-1</td>\n",
       "      <td>-1.0</td>\n",
       "      <td>-1</td>\n",
       "      <td>8532</td>\n",
       "      <td>NaN</td>\n",
       "      <td>POLYGON ((-74.21051 4.46654, -74.21051 4.47550...</td>\n",
       "    </tr>\n",
       "    <tr>\n",
       "      <th>2</th>\n",
       "      <td>2</td>\n",
       "      <td>-1.0</td>\n",
       "      <td>-1.0</td>\n",
       "      <td>-1</td>\n",
       "      <td>-1.0</td>\n",
       "      <td>-1</td>\n",
       "      <td>8532</td>\n",
       "      <td>NaN</td>\n",
       "      <td>POLYGON ((-74.21051 4.47550, -74.21051 4.48445...</td>\n",
       "    </tr>\n",
       "    <tr>\n",
       "      <th>3</th>\n",
       "      <td>3</td>\n",
       "      <td>-1.0</td>\n",
       "      <td>-1.0</td>\n",
       "      <td>-1</td>\n",
       "      <td>-1.0</td>\n",
       "      <td>-1</td>\n",
       "      <td>8532</td>\n",
       "      <td>NaN</td>\n",
       "      <td>POLYGON ((-74.21051 4.48445, -74.21051 4.49341...</td>\n",
       "    </tr>\n",
       "    <tr>\n",
       "      <th>4</th>\n",
       "      <td>4</td>\n",
       "      <td>-1.0</td>\n",
       "      <td>-1.0</td>\n",
       "      <td>-1</td>\n",
       "      <td>-1.0</td>\n",
       "      <td>-1</td>\n",
       "      <td>8532</td>\n",
       "      <td>NaN</td>\n",
       "      <td>POLYGON ((-74.21051 4.49341, -74.21051 4.50236...</td>\n",
       "    </tr>\n",
       "  </tbody>\n",
       "</table>\n",
       "</div>"
      ],
      "text/plain": [
       "   grid_id  tpg2017  densidad_urbana Nombre de la localidad  \\\n",
       "0        0     -1.0             -1.0                     -1   \n",
       "1        1     -1.0             -1.0                     -1   \n",
       "2        2     -1.0             -1.0                     -1   \n",
       "3        3     -1.0             -1.0                     -1   \n",
       "4        4     -1.0             -1.0                     -1   \n",
       "\n",
       "   pobreza_monetaria uso  uso_codificado  ESTRATO  \\\n",
       "0               -1.0  -1            8532      NaN   \n",
       "1               -1.0  -1            8532      NaN   \n",
       "2               -1.0  -1            8532      NaN   \n",
       "3               -1.0  -1            8532      NaN   \n",
       "4               -1.0  -1            8532      NaN   \n",
       "\n",
       "                                            geometry  \n",
       "0  POLYGON ((-74.21051 4.45758, -74.21051 4.46654...  \n",
       "1  POLYGON ((-74.21051 4.46654, -74.21051 4.47550...  \n",
       "2  POLYGON ((-74.21051 4.47550, -74.21051 4.48445...  \n",
       "3  POLYGON ((-74.21051 4.48445, -74.21051 4.49341...  \n",
       "4  POLYGON ((-74.21051 4.49341, -74.21051 4.50236...  "
      ]
     },
     "execution_count": 52,
     "metadata": {},
     "output_type": "execute_result"
    }
   ],
   "source": [
    "gdf_grilla['uso_codificado'] = gdf_grilla['uso'].map(mapa_usos_numerico)\n",
    "gdf_grilla.to_file('../Data/Bogota/Raw Data/grid_1kmx1km_bogota_covariates.geojson',driver='GeoJSON')\n",
    "gdf_grilla.head()"
   ]
  },
  {
   "cell_type": "code",
   "execution_count": 53,
   "metadata": {
    "colab": {
     "base_uri": "https://localhost:8080/"
    },
    "executionInfo": {
     "elapsed": 16,
     "status": "ok",
     "timestamp": 1745111204149,
     "user": {
      "displayName": "Diego Alejandro Hernandez Castaneda",
      "userId": "18178177893889256336"
     },
     "user_tz": 300
    },
    "id": "7rEAplFPVyr2",
    "outputId": "618fc6ec-48e5-4bdd-a228-58d70987b131"
   },
   "outputs": [
    {
     "data": {
      "text/plain": [
       "(984, 9)"
      ]
     },
     "execution_count": 53,
     "metadata": {},
     "output_type": "execute_result"
    }
   ],
   "source": [
    "gdf_grilla.shape"
   ]
  },
  {
   "cell_type": "code",
   "execution_count": 54,
   "metadata": {
    "colab": {
     "base_uri": "https://localhost:8080/"
    },
    "executionInfo": {
     "elapsed": 10,
     "status": "ok",
     "timestamp": 1745111204150,
     "user": {
      "displayName": "Diego Alejandro Hernandez Castaneda",
      "userId": "18178177893889256336"
     },
     "user_tz": 300
    },
    "id": "VpQorJHhWzIk",
    "outputId": "f59d5170-becf-4d40-885b-b9737bd7c553"
   },
   "outputs": [
    {
     "data": {
      "text/plain": [
       "Index(['grid_id', 'tpg2017', 'densidad_urbana', 'Nombre de la localidad',\n",
       "       'pobreza_monetaria', 'uso', 'uso_codificado', 'ESTRATO', 'geometry'],\n",
       "      dtype='object')"
      ]
     },
     "execution_count": 54,
     "metadata": {},
     "output_type": "execute_result"
    }
   ],
   "source": [
    "gdf_grilla.columns"
   ]
  },
  {
   "cell_type": "code",
   "execution_count": 55,
   "metadata": {
    "executionInfo": {
     "elapsed": 290,
     "status": "ok",
     "timestamp": 1745111204437,
     "user": {
      "displayName": "Diego Alejandro Hernandez Castaneda",
      "userId": "18178177893889256336"
     },
     "user_tz": 300
    },
    "id": "vziA2dWMXBOO"
   },
   "outputs": [],
   "source": [
    "from sklearn.metrics import pairwise_distances\n",
    "import pandas as pd\n",
    "import numpy as np\n",
    "\n",
    "def emparejamiento_simetrico(gdf, columnas_atributos, id_col='grid_id', seed=42):\n",
    "    np.random.seed(seed)\n",
    "\n",
    "    # 1. Extraer atributos y normalizar (opcional: mejora numérica)\n",
    "    X = gdf[columnas_atributos].astype(float).values\n",
    "    ids = gdf[id_col].values\n",
    "\n",
    "    # 2. Calcular matriz de distancias\n",
    "    dist_matrix = pairwise_distances(X, metric='euclidean')\n",
    "\n",
    "    # 3. Llenar diagonal con np.inf para evitar auto-match\n",
    "    np.fill_diagonal(dist_matrix, np.inf)\n",
    "\n",
    "    # 4. Inicializar estructuras\n",
    "    matched = {}          # id1 -> id2\n",
    "    used_indices = set()  # índices usados\n",
    "\n",
    "    # 5. Emparejamiento greedy simétrico sin reemplazo\n",
    "    indices = np.random.permutation(len(X))\n",
    "    for i in indices:\n",
    "        if i in used_indices:\n",
    "            continue\n",
    "        # Buscar el más cercano no usado\n",
    "        dists = dist_matrix[i].copy()\n",
    "        dists[list(used_indices)] = np.inf  # excluir usados\n",
    "        j = np.argmin(dists)\n",
    "        if j == i or dists[j] == np.inf:\n",
    "            continue\n",
    "        # Registrar el emparejamiento simétrico\n",
    "        matched[ids[i]] = ids[j]\n",
    "        matched[ids[j]] = ids[i]\n",
    "        used_indices.add(i)\n",
    "        used_indices.add(j)\n",
    "\n",
    "    # 6. Validación final: asegurar que todos estén emparejados\n",
    "    no_match_ids = set(ids) - set(matched.keys())\n",
    "    if no_match_ids:\n",
    "        raise ValueError(f\"No se pudo emparejar las siguientes celdas: {no_match_ids}\")\n",
    "\n",
    "    # 7. Asignar columna nueva\n",
    "    gdf['grid_id_matching_simetric'] = gdf[id_col].map(matched)\n",
    "\n",
    "    return gdf"
   ]
  },
  {
   "cell_type": "code",
   "execution_count": 56,
   "metadata": {
    "executionInfo": {
     "elapsed": 82,
     "status": "ok",
     "timestamp": 1745111204520,
     "user": {
      "displayName": "Diego Alejandro Hernandez Castaneda",
      "userId": "18178177893889256336"
     },
     "user_tz": 300
    },
    "id": "l6_pI_KHYFgl"
   },
   "outputs": [],
   "source": [
    "#gdf_grilla['pobreza_monetaria'] = pd.to_numeric(gdf_grilla['pobreza_monetaria'], errors='coerce')\n",
    "gdf_grilla.replace(np.nan, -1, inplace=True)\n",
    "#gdf_grilla.dropna(inplace=True)\n",
    "\n",
    "columnas = ['tpg2017', 'densidad_urbana', 'pobreza_monetaria', 'ESTRATO', 'uso_codificado']\n",
    "gdf_grilla = emparejamiento_simetrico(gdf_grilla, columnas)"
   ]
  },
  {
   "cell_type": "code",
   "execution_count": 57,
   "metadata": {
    "colab": {
     "base_uri": "https://localhost:8080/",
     "height": 206
    },
    "executionInfo": {
     "elapsed": 101,
     "status": "ok",
     "timestamp": 1745111204640,
     "user": {
      "displayName": "Diego Alejandro Hernandez Castaneda",
      "userId": "18178177893889256336"
     },
     "user_tz": 300
    },
    "id": "xTNkVoiHYJNP",
    "outputId": "23f6eae0-9e7b-4988-ada4-9f9aed3f4b25"
   },
   "outputs": [
    {
     "data": {
      "text/html": [
       "<div>\n",
       "<style scoped>\n",
       "    .dataframe tbody tr th:only-of-type {\n",
       "        vertical-align: middle;\n",
       "    }\n",
       "\n",
       "    .dataframe tbody tr th {\n",
       "        vertical-align: top;\n",
       "    }\n",
       "\n",
       "    .dataframe thead th {\n",
       "        text-align: right;\n",
       "    }\n",
       "</style>\n",
       "<table border=\"1\" class=\"dataframe\">\n",
       "  <thead>\n",
       "    <tr style=\"text-align: right;\">\n",
       "      <th></th>\n",
       "      <th>grid_id</th>\n",
       "      <th>tpg2017</th>\n",
       "      <th>densidad_urbana</th>\n",
       "      <th>Nombre de la localidad</th>\n",
       "      <th>pobreza_monetaria</th>\n",
       "      <th>uso</th>\n",
       "      <th>uso_codificado</th>\n",
       "      <th>ESTRATO</th>\n",
       "      <th>geometry</th>\n",
       "      <th>grid_id_matching_simetric</th>\n",
       "    </tr>\n",
       "  </thead>\n",
       "  <tbody>\n",
       "    <tr>\n",
       "      <th>0</th>\n",
       "      <td>0</td>\n",
       "      <td>-1.0</td>\n",
       "      <td>-1.0</td>\n",
       "      <td>-1</td>\n",
       "      <td>-1.0</td>\n",
       "      <td>-1</td>\n",
       "      <td>8532</td>\n",
       "      <td>-1.0</td>\n",
       "      <td>POLYGON ((-74.21051 4.45758, -74.21051 4.46654...</td>\n",
       "      <td>865</td>\n",
       "    </tr>\n",
       "    <tr>\n",
       "      <th>1</th>\n",
       "      <td>1</td>\n",
       "      <td>-1.0</td>\n",
       "      <td>-1.0</td>\n",
       "      <td>-1</td>\n",
       "      <td>-1.0</td>\n",
       "      <td>-1</td>\n",
       "      <td>8532</td>\n",
       "      <td>-1.0</td>\n",
       "      <td>POLYGON ((-74.21051 4.46654, -74.21051 4.47550...</td>\n",
       "      <td>66</td>\n",
       "    </tr>\n",
       "    <tr>\n",
       "      <th>2</th>\n",
       "      <td>2</td>\n",
       "      <td>-1.0</td>\n",
       "      <td>-1.0</td>\n",
       "      <td>-1</td>\n",
       "      <td>-1.0</td>\n",
       "      <td>-1</td>\n",
       "      <td>8532</td>\n",
       "      <td>-1.0</td>\n",
       "      <td>POLYGON ((-74.21051 4.47550, -74.21051 4.48445...</td>\n",
       "      <td>107</td>\n",
       "    </tr>\n",
       "    <tr>\n",
       "      <th>3</th>\n",
       "      <td>3</td>\n",
       "      <td>-1.0</td>\n",
       "      <td>-1.0</td>\n",
       "      <td>-1</td>\n",
       "      <td>-1.0</td>\n",
       "      <td>-1</td>\n",
       "      <td>8532</td>\n",
       "      <td>-1.0</td>\n",
       "      <td>POLYGON ((-74.21051 4.48445, -74.21051 4.49341...</td>\n",
       "      <td>67</td>\n",
       "    </tr>\n",
       "    <tr>\n",
       "      <th>4</th>\n",
       "      <td>4</td>\n",
       "      <td>-1.0</td>\n",
       "      <td>-1.0</td>\n",
       "      <td>-1</td>\n",
       "      <td>-1.0</td>\n",
       "      <td>-1</td>\n",
       "      <td>8532</td>\n",
       "      <td>-1.0</td>\n",
       "      <td>POLYGON ((-74.21051 4.49341, -74.21051 4.50236...</td>\n",
       "      <td>363</td>\n",
       "    </tr>\n",
       "  </tbody>\n",
       "</table>\n",
       "</div>"
      ],
      "text/plain": [
       "   grid_id  tpg2017  densidad_urbana Nombre de la localidad  \\\n",
       "0        0     -1.0             -1.0                     -1   \n",
       "1        1     -1.0             -1.0                     -1   \n",
       "2        2     -1.0             -1.0                     -1   \n",
       "3        3     -1.0             -1.0                     -1   \n",
       "4        4     -1.0             -1.0                     -1   \n",
       "\n",
       "   pobreza_monetaria uso  uso_codificado  ESTRATO  \\\n",
       "0               -1.0  -1            8532     -1.0   \n",
       "1               -1.0  -1            8532     -1.0   \n",
       "2               -1.0  -1            8532     -1.0   \n",
       "3               -1.0  -1            8532     -1.0   \n",
       "4               -1.0  -1            8532     -1.0   \n",
       "\n",
       "                                            geometry  \\\n",
       "0  POLYGON ((-74.21051 4.45758, -74.21051 4.46654...   \n",
       "1  POLYGON ((-74.21051 4.46654, -74.21051 4.47550...   \n",
       "2  POLYGON ((-74.21051 4.47550, -74.21051 4.48445...   \n",
       "3  POLYGON ((-74.21051 4.48445, -74.21051 4.49341...   \n",
       "4  POLYGON ((-74.21051 4.49341, -74.21051 4.50236...   \n",
       "\n",
       "   grid_id_matching_simetric  \n",
       "0                        865  \n",
       "1                         66  \n",
       "2                        107  \n",
       "3                         67  \n",
       "4                        363  "
      ]
     },
     "execution_count": 57,
     "metadata": {},
     "output_type": "execute_result"
    }
   ],
   "source": [
    "gdf_grilla.head()"
   ]
  },
  {
   "cell_type": "code",
   "execution_count": 58,
   "metadata": {
    "colab": {
     "base_uri": "https://localhost:8080/",
     "height": 206
    },
    "executionInfo": {
     "elapsed": 5,
     "status": "ok",
     "timestamp": 1745111204643,
     "user": {
      "displayName": "Diego Alejandro Hernandez Castaneda",
      "userId": "18178177893889256336"
     },
     "user_tz": 300
    },
    "id": "v4od8LgenjVL",
    "outputId": "9c59ac1d-7f44-4b9b-9eb4-a4fc2a974767"
   },
   "outputs": [
    {
     "data": {
      "text/html": [
       "<div>\n",
       "<style scoped>\n",
       "    .dataframe tbody tr th:only-of-type {\n",
       "        vertical-align: middle;\n",
       "    }\n",
       "\n",
       "    .dataframe tbody tr th {\n",
       "        vertical-align: top;\n",
       "    }\n",
       "\n",
       "    .dataframe thead th {\n",
       "        text-align: right;\n",
       "    }\n",
       "</style>\n",
       "<table border=\"1\" class=\"dataframe\">\n",
       "  <thead>\n",
       "    <tr style=\"text-align: right;\">\n",
       "      <th></th>\n",
       "      <th>grid_id</th>\n",
       "      <th>tpg2017</th>\n",
       "      <th>densidad_urbana</th>\n",
       "      <th>Nombre de la localidad</th>\n",
       "      <th>pobreza_monetaria</th>\n",
       "      <th>uso</th>\n",
       "      <th>uso_codificado</th>\n",
       "      <th>ESTRATO</th>\n",
       "      <th>geometry</th>\n",
       "      <th>grid_id_matching_simetric</th>\n",
       "    </tr>\n",
       "  </thead>\n",
       "  <tbody>\n",
       "    <tr>\n",
       "      <th>0</th>\n",
       "      <td>0</td>\n",
       "      <td>-1.0</td>\n",
       "      <td>-1.0</td>\n",
       "      <td>-1</td>\n",
       "      <td>-1.0</td>\n",
       "      <td>-1</td>\n",
       "      <td>8532</td>\n",
       "      <td>-1.0</td>\n",
       "      <td>POLYGON ((-74.21051 4.45758, -74.21051 4.46654...</td>\n",
       "      <td>865</td>\n",
       "    </tr>\n",
       "    <tr>\n",
       "      <th>1</th>\n",
       "      <td>1</td>\n",
       "      <td>-1.0</td>\n",
       "      <td>-1.0</td>\n",
       "      <td>-1</td>\n",
       "      <td>-1.0</td>\n",
       "      <td>-1</td>\n",
       "      <td>8532</td>\n",
       "      <td>-1.0</td>\n",
       "      <td>POLYGON ((-74.21051 4.46654, -74.21051 4.47550...</td>\n",
       "      <td>66</td>\n",
       "    </tr>\n",
       "    <tr>\n",
       "      <th>2</th>\n",
       "      <td>2</td>\n",
       "      <td>-1.0</td>\n",
       "      <td>-1.0</td>\n",
       "      <td>-1</td>\n",
       "      <td>-1.0</td>\n",
       "      <td>-1</td>\n",
       "      <td>8532</td>\n",
       "      <td>-1.0</td>\n",
       "      <td>POLYGON ((-74.21051 4.47550, -74.21051 4.48445...</td>\n",
       "      <td>107</td>\n",
       "    </tr>\n",
       "    <tr>\n",
       "      <th>3</th>\n",
       "      <td>3</td>\n",
       "      <td>-1.0</td>\n",
       "      <td>-1.0</td>\n",
       "      <td>-1</td>\n",
       "      <td>-1.0</td>\n",
       "      <td>-1</td>\n",
       "      <td>8532</td>\n",
       "      <td>-1.0</td>\n",
       "      <td>POLYGON ((-74.21051 4.48445, -74.21051 4.49341...</td>\n",
       "      <td>67</td>\n",
       "    </tr>\n",
       "    <tr>\n",
       "      <th>4</th>\n",
       "      <td>4</td>\n",
       "      <td>-1.0</td>\n",
       "      <td>-1.0</td>\n",
       "      <td>-1</td>\n",
       "      <td>-1.0</td>\n",
       "      <td>-1</td>\n",
       "      <td>8532</td>\n",
       "      <td>-1.0</td>\n",
       "      <td>POLYGON ((-74.21051 4.49341, -74.21051 4.50236...</td>\n",
       "      <td>363</td>\n",
       "    </tr>\n",
       "  </tbody>\n",
       "</table>\n",
       "</div>"
      ],
      "text/plain": [
       "   grid_id  tpg2017  densidad_urbana Nombre de la localidad  \\\n",
       "0        0     -1.0             -1.0                     -1   \n",
       "1        1     -1.0             -1.0                     -1   \n",
       "2        2     -1.0             -1.0                     -1   \n",
       "3        3     -1.0             -1.0                     -1   \n",
       "4        4     -1.0             -1.0                     -1   \n",
       "\n",
       "   pobreza_monetaria uso  uso_codificado  ESTRATO  \\\n",
       "0               -1.0  -1            8532     -1.0   \n",
       "1               -1.0  -1            8532     -1.0   \n",
       "2               -1.0  -1            8532     -1.0   \n",
       "3               -1.0  -1            8532     -1.0   \n",
       "4               -1.0  -1            8532     -1.0   \n",
       "\n",
       "                                            geometry  \\\n",
       "0  POLYGON ((-74.21051 4.45758, -74.21051 4.46654...   \n",
       "1  POLYGON ((-74.21051 4.46654, -74.21051 4.47550...   \n",
       "2  POLYGON ((-74.21051 4.47550, -74.21051 4.48445...   \n",
       "3  POLYGON ((-74.21051 4.48445, -74.21051 4.49341...   \n",
       "4  POLYGON ((-74.21051 4.49341, -74.21051 4.50236...   \n",
       "\n",
       "   grid_id_matching_simetric  \n",
       "0                        865  \n",
       "1                         66  \n",
       "2                        107  \n",
       "3                         67  \n",
       "4                        363  "
      ]
     },
     "execution_count": 58,
     "metadata": {},
     "output_type": "execute_result"
    }
   ],
   "source": [
    "gdf_grilla.query('uso_codificado!=-1').head()"
   ]
  },
  {
   "cell_type": "code",
   "execution_count": 59,
   "metadata": {
    "colab": {
     "base_uri": "https://localhost:8080/",
     "height": 115
    },
    "executionInfo": {
     "elapsed": 185,
     "status": "ok",
     "timestamp": 1745111309437,
     "user": {
      "displayName": "Diego Alejandro Hernandez Castaneda",
      "userId": "18178177893889256336"
     },
     "user_tz": 300
    },
    "id": "3mL8E63mmCza",
    "outputId": "f71eae3b-36e7-479d-d040-df6225d4c5ab"
   },
   "outputs": [
    {
     "data": {
      "text/html": [
       "<div>\n",
       "<style scoped>\n",
       "    .dataframe tbody tr th:only-of-type {\n",
       "        vertical-align: middle;\n",
       "    }\n",
       "\n",
       "    .dataframe tbody tr th {\n",
       "        vertical-align: top;\n",
       "    }\n",
       "\n",
       "    .dataframe thead th {\n",
       "        text-align: right;\n",
       "    }\n",
       "</style>\n",
       "<table border=\"1\" class=\"dataframe\">\n",
       "  <thead>\n",
       "    <tr style=\"text-align: right;\">\n",
       "      <th></th>\n",
       "      <th>grid_id</th>\n",
       "      <th>tpg2017</th>\n",
       "      <th>densidad_urbana</th>\n",
       "      <th>Nombre de la localidad</th>\n",
       "      <th>pobreza_monetaria</th>\n",
       "      <th>uso</th>\n",
       "      <th>uso_codificado</th>\n",
       "      <th>ESTRATO</th>\n",
       "      <th>geometry</th>\n",
       "      <th>grid_id_matching_simetric</th>\n",
       "    </tr>\n",
       "  </thead>\n",
       "  <tbody>\n",
       "    <tr>\n",
       "      <th>16</th>\n",
       "      <td>16</td>\n",
       "      <td>60.07052</td>\n",
       "      <td>309.56974</td>\n",
       "      <td>-1</td>\n",
       "      <td>-1.0</td>\n",
       "      <td>RESIDENCIAL</td>\n",
       "      <td>5780</td>\n",
       "      <td>1.5</td>\n",
       "      <td>POLYGON ((-74.21051 4.60087, -74.21051 4.60982...</td>\n",
       "      <td>97</td>\n",
       "    </tr>\n",
       "  </tbody>\n",
       "</table>\n",
       "</div>"
      ],
      "text/plain": [
       "    grid_id   tpg2017  densidad_urbana Nombre de la localidad  \\\n",
       "16       16  60.07052        309.56974                     -1   \n",
       "\n",
       "    pobreza_monetaria          uso  uso_codificado  ESTRATO  \\\n",
       "16               -1.0  RESIDENCIAL            5780      1.5   \n",
       "\n",
       "                                             geometry  \\\n",
       "16  POLYGON ((-74.21051 4.60087, -74.21051 4.60982...   \n",
       "\n",
       "    grid_id_matching_simetric  \n",
       "16                         97  "
      ]
     },
     "execution_count": 59,
     "metadata": {},
     "output_type": "execute_result"
    }
   ],
   "source": [
    "gdf_grilla.query('grid_id==16')"
   ]
  },
  {
   "cell_type": "code",
   "execution_count": 60,
   "metadata": {
    "colab": {
     "base_uri": "https://localhost:8080/",
     "height": 115
    },
    "executionInfo": {
     "elapsed": 100,
     "status": "ok",
     "timestamp": 1745111310655,
     "user": {
      "displayName": "Diego Alejandro Hernandez Castaneda",
      "userId": "18178177893889256336"
     },
     "user_tz": 300
    },
    "id": "2gCIY7SMm1Sb",
    "outputId": "b708f2e8-6b07-4c08-cfc8-7fb15a7633ee"
   },
   "outputs": [
    {
     "data": {
      "text/html": [
       "<div>\n",
       "<style scoped>\n",
       "    .dataframe tbody tr th:only-of-type {\n",
       "        vertical-align: middle;\n",
       "    }\n",
       "\n",
       "    .dataframe tbody tr th {\n",
       "        vertical-align: top;\n",
       "    }\n",
       "\n",
       "    .dataframe thead th {\n",
       "        text-align: right;\n",
       "    }\n",
       "</style>\n",
       "<table border=\"1\" class=\"dataframe\">\n",
       "  <thead>\n",
       "    <tr style=\"text-align: right;\">\n",
       "      <th></th>\n",
       "      <th>grid_id</th>\n",
       "      <th>tpg2017</th>\n",
       "      <th>densidad_urbana</th>\n",
       "      <th>Nombre de la localidad</th>\n",
       "      <th>pobreza_monetaria</th>\n",
       "      <th>uso</th>\n",
       "      <th>uso_codificado</th>\n",
       "      <th>ESTRATO</th>\n",
       "      <th>geometry</th>\n",
       "      <th>grid_id_matching_simetric</th>\n",
       "    </tr>\n",
       "  </thead>\n",
       "  <tbody>\n",
       "    <tr>\n",
       "      <th>97</th>\n",
       "      <td>97</td>\n",
       "      <td>60.07052</td>\n",
       "      <td>309.56974</td>\n",
       "      <td>-1</td>\n",
       "      <td>-1.0</td>\n",
       "      <td>RESIDENCIAL</td>\n",
       "      <td>5780</td>\n",
       "      <td>1.766667</td>\n",
       "      <td>POLYGON ((-74.19254 4.59191, -74.19254 4.60087...</td>\n",
       "      <td>16</td>\n",
       "    </tr>\n",
       "  </tbody>\n",
       "</table>\n",
       "</div>"
      ],
      "text/plain": [
       "    grid_id   tpg2017  densidad_urbana Nombre de la localidad  \\\n",
       "97       97  60.07052        309.56974                     -1   \n",
       "\n",
       "    pobreza_monetaria          uso  uso_codificado   ESTRATO  \\\n",
       "97               -1.0  RESIDENCIAL            5780  1.766667   \n",
       "\n",
       "                                             geometry  \\\n",
       "97  POLYGON ((-74.19254 4.59191, -74.19254 4.60087...   \n",
       "\n",
       "    grid_id_matching_simetric  \n",
       "97                         16  "
      ]
     },
     "execution_count": 60,
     "metadata": {},
     "output_type": "execute_result"
    }
   ],
   "source": [
    "gdf_grilla.query('grid_id==97')"
   ]
  },
  {
   "cell_type": "code",
   "execution_count": 61,
   "metadata": {
    "executionInfo": {
     "elapsed": 115,
     "status": "ok",
     "timestamp": 1745111204823,
     "user": {
      "displayName": "Diego Alejandro Hernandez Castaneda",
      "userId": "18178177893889256336"
     },
     "user_tz": 300
    },
    "id": "LOE5_6J2n_jY"
   },
   "outputs": [],
   "source": [
    "gdf_grilla.to_file('../Data/Bogota/Raw Data/grid_1kmx1km_bogota_covariates.geojson',driver='GeoJSON')"
   ]
  },
  {
   "cell_type": "markdown",
   "metadata": {
    "id": "stSUwMCnn6gO"
   },
   "source": [
    "# Pair matching asimetric"
   ]
  },
  {
   "cell_type": "code",
   "execution_count": 62,
   "metadata": {
    "colab": {
     "base_uri": "https://localhost:8080/",
     "height": 241
    },
    "executionInfo": {
     "elapsed": 43,
     "status": "ok",
     "timestamp": 1745111624208,
     "user": {
      "displayName": "Diego Alejandro Hernandez Castaneda",
      "userId": "18178177893889256336"
     },
     "user_tz": 300
    },
    "id": "LrbiTnpWqF--",
    "outputId": "a15f0953-234f-4d4c-83d0-e33acdd79e71"
   },
   "outputs": [
    {
     "data": {
      "text/html": [
       "<div>\n",
       "<style scoped>\n",
       "    .dataframe tbody tr th:only-of-type {\n",
       "        vertical-align: middle;\n",
       "    }\n",
       "\n",
       "    .dataframe tbody tr th {\n",
       "        vertical-align: top;\n",
       "    }\n",
       "\n",
       "    .dataframe thead th {\n",
       "        text-align: right;\n",
       "    }\n",
       "</style>\n",
       "<table border=\"1\" class=\"dataframe\">\n",
       "  <thead>\n",
       "    <tr style=\"text-align: right;\">\n",
       "      <th></th>\n",
       "      <th>grid_id</th>\n",
       "      <th>tpg2017</th>\n",
       "      <th>densidad_urbana</th>\n",
       "      <th>Nombre de la localidad</th>\n",
       "      <th>pobreza_monetaria</th>\n",
       "      <th>uso</th>\n",
       "      <th>uso_codificado</th>\n",
       "      <th>ESTRATO</th>\n",
       "      <th>grid_id_matching_simetric</th>\n",
       "      <th>geometry</th>\n",
       "    </tr>\n",
       "  </thead>\n",
       "  <tbody>\n",
       "    <tr>\n",
       "      <th>0</th>\n",
       "      <td>0</td>\n",
       "      <td>-1.0</td>\n",
       "      <td>-1.0</td>\n",
       "      <td>-1</td>\n",
       "      <td>-1.0</td>\n",
       "      <td>-1</td>\n",
       "      <td>8532</td>\n",
       "      <td>-1.0</td>\n",
       "      <td>865</td>\n",
       "      <td>POLYGON ((-74.21051 4.45758, -74.21051 4.46654...</td>\n",
       "    </tr>\n",
       "    <tr>\n",
       "      <th>1</th>\n",
       "      <td>1</td>\n",
       "      <td>-1.0</td>\n",
       "      <td>-1.0</td>\n",
       "      <td>-1</td>\n",
       "      <td>-1.0</td>\n",
       "      <td>-1</td>\n",
       "      <td>8532</td>\n",
       "      <td>-1.0</td>\n",
       "      <td>66</td>\n",
       "      <td>POLYGON ((-74.21051 4.46654, -74.21051 4.47550...</td>\n",
       "    </tr>\n",
       "    <tr>\n",
       "      <th>2</th>\n",
       "      <td>2</td>\n",
       "      <td>-1.0</td>\n",
       "      <td>-1.0</td>\n",
       "      <td>-1</td>\n",
       "      <td>-1.0</td>\n",
       "      <td>-1</td>\n",
       "      <td>8532</td>\n",
       "      <td>-1.0</td>\n",
       "      <td>107</td>\n",
       "      <td>POLYGON ((-74.21051 4.47550, -74.21051 4.48445...</td>\n",
       "    </tr>\n",
       "    <tr>\n",
       "      <th>3</th>\n",
       "      <td>3</td>\n",
       "      <td>-1.0</td>\n",
       "      <td>-1.0</td>\n",
       "      <td>-1</td>\n",
       "      <td>-1.0</td>\n",
       "      <td>-1</td>\n",
       "      <td>8532</td>\n",
       "      <td>-1.0</td>\n",
       "      <td>67</td>\n",
       "      <td>POLYGON ((-74.21051 4.48445, -74.21051 4.49341...</td>\n",
       "    </tr>\n",
       "    <tr>\n",
       "      <th>4</th>\n",
       "      <td>4</td>\n",
       "      <td>-1.0</td>\n",
       "      <td>-1.0</td>\n",
       "      <td>-1</td>\n",
       "      <td>-1.0</td>\n",
       "      <td>-1</td>\n",
       "      <td>8532</td>\n",
       "      <td>-1.0</td>\n",
       "      <td>363</td>\n",
       "      <td>POLYGON ((-74.21051 4.49341, -74.21051 4.50236...</td>\n",
       "    </tr>\n",
       "  </tbody>\n",
       "</table>\n",
       "</div>"
      ],
      "text/plain": [
       "   grid_id  tpg2017  densidad_urbana Nombre de la localidad  \\\n",
       "0        0     -1.0             -1.0                     -1   \n",
       "1        1     -1.0             -1.0                     -1   \n",
       "2        2     -1.0             -1.0                     -1   \n",
       "3        3     -1.0             -1.0                     -1   \n",
       "4        4     -1.0             -1.0                     -1   \n",
       "\n",
       "   pobreza_monetaria uso  uso_codificado  ESTRATO  grid_id_matching_simetric  \\\n",
       "0               -1.0  -1            8532     -1.0                        865   \n",
       "1               -1.0  -1            8532     -1.0                         66   \n",
       "2               -1.0  -1            8532     -1.0                        107   \n",
       "3               -1.0  -1            8532     -1.0                         67   \n",
       "4               -1.0  -1            8532     -1.0                        363   \n",
       "\n",
       "                                            geometry  \n",
       "0  POLYGON ((-74.21051 4.45758, -74.21051 4.46654...  \n",
       "1  POLYGON ((-74.21051 4.46654, -74.21051 4.47550...  \n",
       "2  POLYGON ((-74.21051 4.47550, -74.21051 4.48445...  \n",
       "3  POLYGON ((-74.21051 4.48445, -74.21051 4.49341...  \n",
       "4  POLYGON ((-74.21051 4.49341, -74.21051 4.50236...  "
      ]
     },
     "execution_count": 62,
     "metadata": {},
     "output_type": "execute_result"
    }
   ],
   "source": [
    "gdf_grilla = gpd.read_file('../Data/Bogota/Raw Data/grid_1kmx1km_bogota_covariates.geojson',driver='GeoJSON')\n",
    "gdf_grilla.head()"
   ]
  },
  {
   "cell_type": "code",
   "execution_count": 63,
   "metadata": {
    "executionInfo": {
     "elapsed": 3,
     "status": "ok",
     "timestamp": 1745111624506,
     "user": {
      "displayName": "Diego Alejandro Hernandez Castaneda",
      "userId": "18178177893889256336"
     },
     "user_tz": 300
    },
    "id": "Zf_zwjENng8G"
   },
   "outputs": [],
   "source": [
    "from sklearn.metrics import pairwise_distances\n",
    "import pandas as pd\n",
    "import numpy as np\n",
    "\n",
    "def emparejamiento_asimetrico(gdf, columnas_atributos, id_col='grid_id', seed=42):\n",
    "    np.random.seed(seed)\n",
    "\n",
    "    # 1. Filtrar registros con demasiada ausencia de datos (-1 en >2 campos)\n",
    "    mask_valid = (gdf[columnas_atributos] != -1).sum(axis=1) >= (len(columnas_atributos) - 2)\n",
    "    gdf = gdf[mask_valid].copy()\n",
    "\n",
    "    # 2. Extraer atributos y convertir a float\n",
    "    X = gdf[columnas_atributos].astype(float).values\n",
    "    ids = gdf[id_col].values\n",
    "\n",
    "    # 3. Calcular matriz de distancias inversas (mayor = más disímil)\n",
    "    dist_matrix = pairwise_distances(X, metric='euclidean')\n",
    "    np.fill_diagonal(dist_matrix, -np.inf)  # prohibir autoemparejamiento\n",
    "\n",
    "    # 4. Inicializar estructuras\n",
    "    matched = {}\n",
    "    used_indices = set()\n",
    "\n",
    "    # 5. Emparejamiento greedy maximizando disimilitud\n",
    "    indices = np.random.permutation(len(X))\n",
    "    for i in indices:\n",
    "        if i in used_indices:\n",
    "            continue\n",
    "\n",
    "        # Buscar el más lejano (más disímil) que no esté usado\n",
    "        dists = dist_matrix[i].copy()\n",
    "        dists[list(used_indices)] = -np.inf\n",
    "        j = np.argmax(dists)\n",
    "        if j == i or dists[j] == -np.inf:\n",
    "            continue\n",
    "\n",
    "        matched[ids[i]] = ids[j]\n",
    "        matched[ids[j]] = ids[i]\n",
    "        used_indices.add(i)\n",
    "        used_indices.add(j)\n",
    "\n",
    "    # 6. Validación\n",
    "    no_match_ids = set(ids) - set(matched.keys())\n",
    "    if no_match_ids:\n",
    "        print(f\"Advertencia: sin pareja asignada para: {no_match_ids}\")\n",
    "\n",
    "    # 7. Asignar columna nueva\n",
    "    gdf['grid_id_matching_asimetric'] = gdf[id_col].map(matched)\n",
    "\n",
    "    return gdf"
   ]
  },
  {
   "cell_type": "code",
   "execution_count": 64,
   "metadata": {
    "colab": {
     "base_uri": "https://localhost:8080/"
    },
    "executionInfo": {
     "elapsed": 40,
     "status": "ok",
     "timestamp": 1745111625158,
     "user": {
      "displayName": "Diego Alejandro Hernandez Castaneda",
      "userId": "18178177893889256336"
     },
     "user_tz": 300
    },
    "id": "d0o3Mx5epNaV",
    "outputId": "aac2e0fe-07f8-451a-a37a-762afc7239af"
   },
   "outputs": [],
   "source": [
    "columnas = ['tpg2017', 'densidad_urbana', 'pobreza_monetaria', 'ESTRATO', 'uso_codificado']\n",
    "gdf_grilla_asimetric = emparejamiento_asimetrico(gdf_grilla, columnas)"
   ]
  },
  {
   "cell_type": "code",
   "execution_count": 65,
   "metadata": {
    "colab": {
     "base_uri": "https://localhost:8080/",
     "height": 206
    },
    "executionInfo": {
     "elapsed": 42,
     "status": "ok",
     "timestamp": 1745111625854,
     "user": {
      "displayName": "Diego Alejandro Hernandez Castaneda",
      "userId": "18178177893889256336"
     },
     "user_tz": 300
    },
    "id": "h7uMF_cop3Bu",
    "outputId": "02ce03a7-3a14-46c0-a542-1a8cf25b0512"
   },
   "outputs": [
    {
     "data": {
      "text/html": [
       "<div>\n",
       "<style scoped>\n",
       "    .dataframe tbody tr th:only-of-type {\n",
       "        vertical-align: middle;\n",
       "    }\n",
       "\n",
       "    .dataframe tbody tr th {\n",
       "        vertical-align: top;\n",
       "    }\n",
       "\n",
       "    .dataframe thead th {\n",
       "        text-align: right;\n",
       "    }\n",
       "</style>\n",
       "<table border=\"1\" class=\"dataframe\">\n",
       "  <thead>\n",
       "    <tr style=\"text-align: right;\">\n",
       "      <th></th>\n",
       "      <th>grid_id</th>\n",
       "      <th>tpg2017</th>\n",
       "      <th>densidad_urbana</th>\n",
       "      <th>Nombre de la localidad</th>\n",
       "      <th>pobreza_monetaria</th>\n",
       "      <th>uso</th>\n",
       "      <th>uso_codificado</th>\n",
       "      <th>ESTRATO</th>\n",
       "      <th>grid_id_matching_simetric</th>\n",
       "      <th>geometry</th>\n",
       "    </tr>\n",
       "  </thead>\n",
       "  <tbody>\n",
       "    <tr>\n",
       "      <th>0</th>\n",
       "      <td>0</td>\n",
       "      <td>-1.0</td>\n",
       "      <td>-1.0</td>\n",
       "      <td>-1</td>\n",
       "      <td>-1.0</td>\n",
       "      <td>-1</td>\n",
       "      <td>8532</td>\n",
       "      <td>-1.0</td>\n",
       "      <td>865</td>\n",
       "      <td>POLYGON ((-74.21051 4.45758, -74.21051 4.46654...</td>\n",
       "    </tr>\n",
       "    <tr>\n",
       "      <th>1</th>\n",
       "      <td>1</td>\n",
       "      <td>-1.0</td>\n",
       "      <td>-1.0</td>\n",
       "      <td>-1</td>\n",
       "      <td>-1.0</td>\n",
       "      <td>-1</td>\n",
       "      <td>8532</td>\n",
       "      <td>-1.0</td>\n",
       "      <td>66</td>\n",
       "      <td>POLYGON ((-74.21051 4.46654, -74.21051 4.47550...</td>\n",
       "    </tr>\n",
       "    <tr>\n",
       "      <th>2</th>\n",
       "      <td>2</td>\n",
       "      <td>-1.0</td>\n",
       "      <td>-1.0</td>\n",
       "      <td>-1</td>\n",
       "      <td>-1.0</td>\n",
       "      <td>-1</td>\n",
       "      <td>8532</td>\n",
       "      <td>-1.0</td>\n",
       "      <td>107</td>\n",
       "      <td>POLYGON ((-74.21051 4.47550, -74.21051 4.48445...</td>\n",
       "    </tr>\n",
       "    <tr>\n",
       "      <th>3</th>\n",
       "      <td>3</td>\n",
       "      <td>-1.0</td>\n",
       "      <td>-1.0</td>\n",
       "      <td>-1</td>\n",
       "      <td>-1.0</td>\n",
       "      <td>-1</td>\n",
       "      <td>8532</td>\n",
       "      <td>-1.0</td>\n",
       "      <td>67</td>\n",
       "      <td>POLYGON ((-74.21051 4.48445, -74.21051 4.49341...</td>\n",
       "    </tr>\n",
       "    <tr>\n",
       "      <th>4</th>\n",
       "      <td>4</td>\n",
       "      <td>-1.0</td>\n",
       "      <td>-1.0</td>\n",
       "      <td>-1</td>\n",
       "      <td>-1.0</td>\n",
       "      <td>-1</td>\n",
       "      <td>8532</td>\n",
       "      <td>-1.0</td>\n",
       "      <td>363</td>\n",
       "      <td>POLYGON ((-74.21051 4.49341, -74.21051 4.50236...</td>\n",
       "    </tr>\n",
       "  </tbody>\n",
       "</table>\n",
       "</div>"
      ],
      "text/plain": [
       "   grid_id  tpg2017  densidad_urbana Nombre de la localidad  \\\n",
       "0        0     -1.0             -1.0                     -1   \n",
       "1        1     -1.0             -1.0                     -1   \n",
       "2        2     -1.0             -1.0                     -1   \n",
       "3        3     -1.0             -1.0                     -1   \n",
       "4        4     -1.0             -1.0                     -1   \n",
       "\n",
       "   pobreza_monetaria uso  uso_codificado  ESTRATO  grid_id_matching_simetric  \\\n",
       "0               -1.0  -1            8532     -1.0                        865   \n",
       "1               -1.0  -1            8532     -1.0                         66   \n",
       "2               -1.0  -1            8532     -1.0                        107   \n",
       "3               -1.0  -1            8532     -1.0                         67   \n",
       "4               -1.0  -1            8532     -1.0                        363   \n",
       "\n",
       "                                            geometry  \n",
       "0  POLYGON ((-74.21051 4.45758, -74.21051 4.46654...  \n",
       "1  POLYGON ((-74.21051 4.46654, -74.21051 4.47550...  \n",
       "2  POLYGON ((-74.21051 4.47550, -74.21051 4.48445...  \n",
       "3  POLYGON ((-74.21051 4.48445, -74.21051 4.49341...  \n",
       "4  POLYGON ((-74.21051 4.49341, -74.21051 4.50236...  "
      ]
     },
     "execution_count": 65,
     "metadata": {},
     "output_type": "execute_result"
    }
   ],
   "source": [
    "gdf_grilla.head()"
   ]
  },
  {
   "cell_type": "code",
   "execution_count": 66,
   "metadata": {
    "colab": {
     "base_uri": "https://localhost:8080/"
    },
    "executionInfo": {
     "elapsed": 12,
     "status": "ok",
     "timestamp": 1745111626356,
     "user": {
      "displayName": "Diego Alejandro Hernandez Castaneda",
      "userId": "18178177893889256336"
     },
     "user_tz": 300
    },
    "id": "7IT4STeFp6Oq",
    "outputId": "f432d665-d06e-4a0d-acca-54b03fe69c52"
   },
   "outputs": [
    {
     "data": {
      "text/plain": [
       "(984, 10)"
      ]
     },
     "execution_count": 66,
     "metadata": {},
     "output_type": "execute_result"
    }
   ],
   "source": [
    "gdf_grilla.shape"
   ]
  },
  {
   "cell_type": "code",
   "execution_count": 67,
   "metadata": {
    "executionInfo": {
     "elapsed": 15,
     "status": "ok",
     "timestamp": 1745111627149,
     "user": {
      "displayName": "Diego Alejandro Hernandez Castaneda",
      "userId": "18178177893889256336"
     },
     "user_tz": 300
    },
    "id": "OCzMd81Zp9ER"
   },
   "outputs": [],
   "source": [
    "gdf_grilla= gdf_grilla.merge(\n",
    "                            gdf_grilla_asimetric[['grid_id','grid_id_matching_asimetric']],\n",
    "                            left_on='grid_id',\n",
    "                            right_on='grid_id',\n",
    "                            how='left'\n",
    "                        )"
   ]
  },
  {
   "cell_type": "code",
   "execution_count": 68,
   "metadata": {
    "colab": {
     "base_uri": "https://localhost:8080/",
     "height": 206
    },
    "executionInfo": {
     "elapsed": 38,
     "status": "ok",
     "timestamp": 1745111627790,
     "user": {
      "displayName": "Diego Alejandro Hernandez Castaneda",
      "userId": "18178177893889256336"
     },
     "user_tz": 300
    },
    "id": "OSdyKoGuwWZB",
    "outputId": "4b675844-d051-44bf-8351-05fff42162bd"
   },
   "outputs": [
    {
     "data": {
      "text/html": [
       "<div>\n",
       "<style scoped>\n",
       "    .dataframe tbody tr th:only-of-type {\n",
       "        vertical-align: middle;\n",
       "    }\n",
       "\n",
       "    .dataframe tbody tr th {\n",
       "        vertical-align: top;\n",
       "    }\n",
       "\n",
       "    .dataframe thead th {\n",
       "        text-align: right;\n",
       "    }\n",
       "</style>\n",
       "<table border=\"1\" class=\"dataframe\">\n",
       "  <thead>\n",
       "    <tr style=\"text-align: right;\">\n",
       "      <th></th>\n",
       "      <th>grid_id</th>\n",
       "      <th>tpg2017</th>\n",
       "      <th>densidad_urbana</th>\n",
       "      <th>Nombre de la localidad</th>\n",
       "      <th>pobreza_monetaria</th>\n",
       "      <th>uso</th>\n",
       "      <th>uso_codificado</th>\n",
       "      <th>ESTRATO</th>\n",
       "      <th>grid_id_matching_simetric</th>\n",
       "      <th>geometry</th>\n",
       "      <th>grid_id_matching_asimetric</th>\n",
       "    </tr>\n",
       "  </thead>\n",
       "  <tbody>\n",
       "    <tr>\n",
       "      <th>0</th>\n",
       "      <td>0</td>\n",
       "      <td>-1.0</td>\n",
       "      <td>-1.0</td>\n",
       "      <td>-1</td>\n",
       "      <td>-1.0</td>\n",
       "      <td>-1</td>\n",
       "      <td>8532</td>\n",
       "      <td>-1.0</td>\n",
       "      <td>865</td>\n",
       "      <td>POLYGON ((-74.21051 4.45758, -74.21051 4.46654...</td>\n",
       "      <td>NaN</td>\n",
       "    </tr>\n",
       "    <tr>\n",
       "      <th>1</th>\n",
       "      <td>1</td>\n",
       "      <td>-1.0</td>\n",
       "      <td>-1.0</td>\n",
       "      <td>-1</td>\n",
       "      <td>-1.0</td>\n",
       "      <td>-1</td>\n",
       "      <td>8532</td>\n",
       "      <td>-1.0</td>\n",
       "      <td>66</td>\n",
       "      <td>POLYGON ((-74.21051 4.46654, -74.21051 4.47550...</td>\n",
       "      <td>NaN</td>\n",
       "    </tr>\n",
       "    <tr>\n",
       "      <th>2</th>\n",
       "      <td>2</td>\n",
       "      <td>-1.0</td>\n",
       "      <td>-1.0</td>\n",
       "      <td>-1</td>\n",
       "      <td>-1.0</td>\n",
       "      <td>-1</td>\n",
       "      <td>8532</td>\n",
       "      <td>-1.0</td>\n",
       "      <td>107</td>\n",
       "      <td>POLYGON ((-74.21051 4.47550, -74.21051 4.48445...</td>\n",
       "      <td>NaN</td>\n",
       "    </tr>\n",
       "    <tr>\n",
       "      <th>3</th>\n",
       "      <td>3</td>\n",
       "      <td>-1.0</td>\n",
       "      <td>-1.0</td>\n",
       "      <td>-1</td>\n",
       "      <td>-1.0</td>\n",
       "      <td>-1</td>\n",
       "      <td>8532</td>\n",
       "      <td>-1.0</td>\n",
       "      <td>67</td>\n",
       "      <td>POLYGON ((-74.21051 4.48445, -74.21051 4.49341...</td>\n",
       "      <td>NaN</td>\n",
       "    </tr>\n",
       "    <tr>\n",
       "      <th>4</th>\n",
       "      <td>4</td>\n",
       "      <td>-1.0</td>\n",
       "      <td>-1.0</td>\n",
       "      <td>-1</td>\n",
       "      <td>-1.0</td>\n",
       "      <td>-1</td>\n",
       "      <td>8532</td>\n",
       "      <td>-1.0</td>\n",
       "      <td>363</td>\n",
       "      <td>POLYGON ((-74.21051 4.49341, -74.21051 4.50236...</td>\n",
       "      <td>NaN</td>\n",
       "    </tr>\n",
       "  </tbody>\n",
       "</table>\n",
       "</div>"
      ],
      "text/plain": [
       "   grid_id  tpg2017  densidad_urbana Nombre de la localidad  \\\n",
       "0        0     -1.0             -1.0                     -1   \n",
       "1        1     -1.0             -1.0                     -1   \n",
       "2        2     -1.0             -1.0                     -1   \n",
       "3        3     -1.0             -1.0                     -1   \n",
       "4        4     -1.0             -1.0                     -1   \n",
       "\n",
       "   pobreza_monetaria uso  uso_codificado  ESTRATO  grid_id_matching_simetric  \\\n",
       "0               -1.0  -1            8532     -1.0                        865   \n",
       "1               -1.0  -1            8532     -1.0                         66   \n",
       "2               -1.0  -1            8532     -1.0                        107   \n",
       "3               -1.0  -1            8532     -1.0                         67   \n",
       "4               -1.0  -1            8532     -1.0                        363   \n",
       "\n",
       "                                            geometry  \\\n",
       "0  POLYGON ((-74.21051 4.45758, -74.21051 4.46654...   \n",
       "1  POLYGON ((-74.21051 4.46654, -74.21051 4.47550...   \n",
       "2  POLYGON ((-74.21051 4.47550, -74.21051 4.48445...   \n",
       "3  POLYGON ((-74.21051 4.48445, -74.21051 4.49341...   \n",
       "4  POLYGON ((-74.21051 4.49341, -74.21051 4.50236...   \n",
       "\n",
       "   grid_id_matching_asimetric  \n",
       "0                         NaN  \n",
       "1                         NaN  \n",
       "2                         NaN  \n",
       "3                         NaN  \n",
       "4                         NaN  "
      ]
     },
     "execution_count": 68,
     "metadata": {},
     "output_type": "execute_result"
    }
   ],
   "source": [
    "gdf_grilla.head()"
   ]
  },
  {
   "cell_type": "code",
   "execution_count": 70,
   "metadata": {
    "colab": {
     "base_uri": "https://localhost:8080/",
     "height": 615
    },
    "executionInfo": {
     "elapsed": 212,
     "status": "ok",
     "timestamp": 1745111628369,
     "user": {
      "displayName": "Diego Alejandro Hernandez Castaneda",
      "userId": "18178177893889256336"
     },
     "user_tz": 300
    },
    "id": "GWnkQbguqeee",
    "outputId": "7c873808-c149-4f77-b16a-84070c9ea527"
   },
   "outputs": [
    {
     "data": {
      "text/html": [
       "<div>\n",
       "<style scoped>\n",
       "    .dataframe tbody tr th:only-of-type {\n",
       "        vertical-align: middle;\n",
       "    }\n",
       "\n",
       "    .dataframe tbody tr th {\n",
       "        vertical-align: top;\n",
       "    }\n",
       "\n",
       "    .dataframe thead th {\n",
       "        text-align: right;\n",
       "    }\n",
       "</style>\n",
       "<table border=\"1\" class=\"dataframe\">\n",
       "  <thead>\n",
       "    <tr style=\"text-align: right;\">\n",
       "      <th></th>\n",
       "      <th>grid_id</th>\n",
       "      <th>tpg2017</th>\n",
       "      <th>densidad_urbana</th>\n",
       "      <th>Nombre de la localidad</th>\n",
       "      <th>pobreza_monetaria</th>\n",
       "      <th>uso</th>\n",
       "      <th>uso_codificado</th>\n",
       "      <th>ESTRATO</th>\n",
       "      <th>grid_id_matching_simetric</th>\n",
       "      <th>geometry</th>\n",
       "      <th>grid_id_matching_asimetric</th>\n",
       "    </tr>\n",
       "  </thead>\n",
       "  <tbody>\n",
       "    <tr>\n",
       "      <th>16</th>\n",
       "      <td>16</td>\n",
       "      <td>60.070520</td>\n",
       "      <td>309.569740</td>\n",
       "      <td>-1</td>\n",
       "      <td>-1.00</td>\n",
       "      <td>RESIDENCIAL</td>\n",
       "      <td>5780</td>\n",
       "      <td>1.500000</td>\n",
       "      <td>97</td>\n",
       "      <td>POLYGON ((-74.21051 4.60087, -74.21051 4.60982...</td>\n",
       "      <td>778.0</td>\n",
       "    </tr>\n",
       "    <tr>\n",
       "      <th>17</th>\n",
       "      <td>17</td>\n",
       "      <td>60.070520</td>\n",
       "      <td>191.566568</td>\n",
       "      <td>BOSA</td>\n",
       "      <td>53.18</td>\n",
       "      <td>RESIDENCIAL</td>\n",
       "      <td>5780</td>\n",
       "      <td>1.633333</td>\n",
       "      <td>58</td>\n",
       "      <td>POLYGON ((-74.21051 4.60982, -74.21051 4.61877...</td>\n",
       "      <td>389.0</td>\n",
       "    </tr>\n",
       "    <tr>\n",
       "      <th>18</th>\n",
       "      <td>18</td>\n",
       "      <td>60.070520</td>\n",
       "      <td>73.563395</td>\n",
       "      <td>BOSA</td>\n",
       "      <td>53.18</td>\n",
       "      <td>OTROS</td>\n",
       "      <td>4867</td>\n",
       "      <td>1.375000</td>\n",
       "      <td>19</td>\n",
       "      <td>POLYGON ((-74.21051 4.61877, -74.21051 4.62773...</td>\n",
       "      <td>104.0</td>\n",
       "    </tr>\n",
       "    <tr>\n",
       "      <th>19</th>\n",
       "      <td>19</td>\n",
       "      <td>60.070520</td>\n",
       "      <td>73.563395</td>\n",
       "      <td>BOSA</td>\n",
       "      <td>53.18</td>\n",
       "      <td>OTROS</td>\n",
       "      <td>4867</td>\n",
       "      <td>1.000000</td>\n",
       "      <td>18</td>\n",
       "      <td>POLYGON ((-74.21051 4.62773, -74.21051 4.63668...</td>\n",
       "      <td>915.0</td>\n",
       "    </tr>\n",
       "    <tr>\n",
       "      <th>20</th>\n",
       "      <td>20</td>\n",
       "      <td>60.070520</td>\n",
       "      <td>73.563395</td>\n",
       "      <td>BOSA</td>\n",
       "      <td>53.18</td>\n",
       "      <td>-1</td>\n",
       "      <td>8532</td>\n",
       "      <td>-1.000000</td>\n",
       "      <td>472</td>\n",
       "      <td>POLYGON ((-74.21051 4.63668, -74.21051 4.64563...</td>\n",
       "      <td>374.0</td>\n",
       "    </tr>\n",
       "    <tr>\n",
       "      <th>...</th>\n",
       "      <td>...</td>\n",
       "      <td>...</td>\n",
       "      <td>...</td>\n",
       "      <td>...</td>\n",
       "      <td>...</td>\n",
       "      <td>...</td>\n",
       "      <td>...</td>\n",
       "      <td>...</td>\n",
       "      <td>...</td>\n",
       "      <td>...</td>\n",
       "      <td>...</td>\n",
       "    </tr>\n",
       "    <tr>\n",
       "      <th>973</th>\n",
       "      <td>973</td>\n",
       "      <td>64.027285</td>\n",
       "      <td>264.024478</td>\n",
       "      <td>USAQUEN</td>\n",
       "      <td>15.96</td>\n",
       "      <td>RESIDENCIAL</td>\n",
       "      <td>5780</td>\n",
       "      <td>1.000000</td>\n",
       "      <td>933</td>\n",
       "      <td>POLYGON ((-74.00390 4.72621, -74.00390 4.73517...</td>\n",
       "      <td>575.0</td>\n",
       "    </tr>\n",
       "    <tr>\n",
       "      <th>974</th>\n",
       "      <td>974</td>\n",
       "      <td>64.027285</td>\n",
       "      <td>-1.000000</td>\n",
       "      <td>USAQUEN</td>\n",
       "      <td>15.96</td>\n",
       "      <td>RESIDENCIAL</td>\n",
       "      <td>5780</td>\n",
       "      <td>1.000000</td>\n",
       "      <td>776</td>\n",
       "      <td>POLYGON ((-74.00390 4.73517, -74.00390 4.74412...</td>\n",
       "      <td>186.0</td>\n",
       "    </tr>\n",
       "    <tr>\n",
       "      <th>981</th>\n",
       "      <td>981</td>\n",
       "      <td>64.027285</td>\n",
       "      <td>-1.000000</td>\n",
       "      <td>USAQUEN</td>\n",
       "      <td>15.96</td>\n",
       "      <td>-1</td>\n",
       "      <td>8532</td>\n",
       "      <td>-1.000000</td>\n",
       "      <td>927</td>\n",
       "      <td>POLYGON ((-74.00390 4.79783, -74.00390 4.80678...</td>\n",
       "      <td>382.0</td>\n",
       "    </tr>\n",
       "    <tr>\n",
       "      <th>982</th>\n",
       "      <td>982</td>\n",
       "      <td>64.027285</td>\n",
       "      <td>-1.000000</td>\n",
       "      <td>USAQUEN</td>\n",
       "      <td>15.96</td>\n",
       "      <td>-1</td>\n",
       "      <td>8532</td>\n",
       "      <td>-1.000000</td>\n",
       "      <td>941</td>\n",
       "      <td>POLYGON ((-74.00390 4.80678, -74.00390 4.81573...</td>\n",
       "      <td>220.0</td>\n",
       "    </tr>\n",
       "    <tr>\n",
       "      <th>983</th>\n",
       "      <td>983</td>\n",
       "      <td>64.027285</td>\n",
       "      <td>-1.000000</td>\n",
       "      <td>USAQUEN</td>\n",
       "      <td>15.96</td>\n",
       "      <td>-1</td>\n",
       "      <td>8532</td>\n",
       "      <td>6.000000</td>\n",
       "      <td>942</td>\n",
       "      <td>POLYGON ((-74.00390 4.81573, -74.00390 4.82468...</td>\n",
       "      <td>300.0</td>\n",
       "    </tr>\n",
       "  </tbody>\n",
       "</table>\n",
       "<p>674 rows × 11 columns</p>\n",
       "</div>"
      ],
      "text/plain": [
       "     grid_id    tpg2017  densidad_urbana Nombre de la localidad  \\\n",
       "16        16  60.070520       309.569740                     -1   \n",
       "17        17  60.070520       191.566568                   BOSA   \n",
       "18        18  60.070520        73.563395                   BOSA   \n",
       "19        19  60.070520        73.563395                   BOSA   \n",
       "20        20  60.070520        73.563395                   BOSA   \n",
       "..       ...        ...              ...                    ...   \n",
       "973      973  64.027285       264.024478                USAQUEN   \n",
       "974      974  64.027285        -1.000000                USAQUEN   \n",
       "981      981  64.027285        -1.000000                USAQUEN   \n",
       "982      982  64.027285        -1.000000                USAQUEN   \n",
       "983      983  64.027285        -1.000000                USAQUEN   \n",
       "\n",
       "     pobreza_monetaria          uso  uso_codificado   ESTRATO  \\\n",
       "16               -1.00  RESIDENCIAL            5780  1.500000   \n",
       "17               53.18  RESIDENCIAL            5780  1.633333   \n",
       "18               53.18        OTROS            4867  1.375000   \n",
       "19               53.18        OTROS            4867  1.000000   \n",
       "20               53.18           -1            8532 -1.000000   \n",
       "..                 ...          ...             ...       ...   \n",
       "973              15.96  RESIDENCIAL            5780  1.000000   \n",
       "974              15.96  RESIDENCIAL            5780  1.000000   \n",
       "981              15.96           -1            8532 -1.000000   \n",
       "982              15.96           -1            8532 -1.000000   \n",
       "983              15.96           -1            8532  6.000000   \n",
       "\n",
       "     grid_id_matching_simetric  \\\n",
       "16                          97   \n",
       "17                          58   \n",
       "18                          19   \n",
       "19                          18   \n",
       "20                         472   \n",
       "..                         ...   \n",
       "973                        933   \n",
       "974                        776   \n",
       "981                        927   \n",
       "982                        941   \n",
       "983                        942   \n",
       "\n",
       "                                              geometry  \\\n",
       "16   POLYGON ((-74.21051 4.60087, -74.21051 4.60982...   \n",
       "17   POLYGON ((-74.21051 4.60982, -74.21051 4.61877...   \n",
       "18   POLYGON ((-74.21051 4.61877, -74.21051 4.62773...   \n",
       "19   POLYGON ((-74.21051 4.62773, -74.21051 4.63668...   \n",
       "20   POLYGON ((-74.21051 4.63668, -74.21051 4.64563...   \n",
       "..                                                 ...   \n",
       "973  POLYGON ((-74.00390 4.72621, -74.00390 4.73517...   \n",
       "974  POLYGON ((-74.00390 4.73517, -74.00390 4.74412...   \n",
       "981  POLYGON ((-74.00390 4.79783, -74.00390 4.80678...   \n",
       "982  POLYGON ((-74.00390 4.80678, -74.00390 4.81573...   \n",
       "983  POLYGON ((-74.00390 4.81573, -74.00390 4.82468...   \n",
       "\n",
       "     grid_id_matching_asimetric  \n",
       "16                        778.0  \n",
       "17                        389.0  \n",
       "18                        104.0  \n",
       "19                        915.0  \n",
       "20                        374.0  \n",
       "..                          ...  \n",
       "973                       575.0  \n",
       "974                       186.0  \n",
       "981                       382.0  \n",
       "982                       220.0  \n",
       "983                       300.0  \n",
       "\n",
       "[674 rows x 11 columns]"
      ]
     },
     "execution_count": 70,
     "metadata": {},
     "output_type": "execute_result"
    }
   ],
   "source": [
    "gdf_grilla.to_file('../Data/Bogota/Raw Data/grid_1kmx1km_bogota_covariates.geojson',driver='GeoJSON')\n",
    "gdf_grilla[gdf_grilla['grid_id_matching_asimetric'].notna()]"
   ]
  },
  {
   "cell_type": "code",
   "execution_count": 71,
   "metadata": {
    "colab": {
     "base_uri": "https://localhost:8080/",
     "height": 81
    },
    "executionInfo": {
     "elapsed": 27,
     "status": "ok",
     "timestamp": 1745111629370,
     "user": {
      "displayName": "Diego Alejandro Hernandez Castaneda",
      "userId": "18178177893889256336"
     },
     "user_tz": 300
    },
    "id": "GGbo6CQPrXb1",
    "outputId": "3ec48a0c-c076-437d-e38e-ec7c144fbf75"
   },
   "outputs": [
    {
     "data": {
      "text/html": [
       "<div>\n",
       "<style scoped>\n",
       "    .dataframe tbody tr th:only-of-type {\n",
       "        vertical-align: middle;\n",
       "    }\n",
       "\n",
       "    .dataframe tbody tr th {\n",
       "        vertical-align: top;\n",
       "    }\n",
       "\n",
       "    .dataframe thead th {\n",
       "        text-align: right;\n",
       "    }\n",
       "</style>\n",
       "<table border=\"1\" class=\"dataframe\">\n",
       "  <thead>\n",
       "    <tr style=\"text-align: right;\">\n",
       "      <th></th>\n",
       "      <th>grid_id</th>\n",
       "      <th>tpg2017</th>\n",
       "      <th>densidad_urbana</th>\n",
       "      <th>Nombre de la localidad</th>\n",
       "      <th>pobreza_monetaria</th>\n",
       "      <th>uso</th>\n",
       "      <th>uso_codificado</th>\n",
       "      <th>ESTRATO</th>\n",
       "      <th>grid_id_matching_simetric</th>\n",
       "      <th>geometry</th>\n",
       "      <th>grid_id_matching_asimetric</th>\n",
       "    </tr>\n",
       "  </thead>\n",
       "  <tbody>\n",
       "    <tr>\n",
       "      <th>942</th>\n",
       "      <td>942</td>\n",
       "      <td>64.027285</td>\n",
       "      <td>-1.0</td>\n",
       "      <td>USAQUEN</td>\n",
       "      <td>15.96</td>\n",
       "      <td>-1</td>\n",
       "      <td>8532</td>\n",
       "      <td>6.0</td>\n",
       "      <td>983</td>\n",
       "      <td>POLYGON ((-74.01288 4.81573, -74.01288 4.82468...</td>\n",
       "      <td>625.0</td>\n",
       "    </tr>\n",
       "  </tbody>\n",
       "</table>\n",
       "</div>"
      ],
      "text/plain": [
       "     grid_id    tpg2017  densidad_urbana Nombre de la localidad  \\\n",
       "942      942  64.027285             -1.0                USAQUEN   \n",
       "\n",
       "     pobreza_monetaria uso  uso_codificado  ESTRATO  \\\n",
       "942              15.96  -1            8532      6.0   \n",
       "\n",
       "     grid_id_matching_simetric  \\\n",
       "942                        983   \n",
       "\n",
       "                                              geometry  \\\n",
       "942  POLYGON ((-74.01288 4.81573, -74.01288 4.82468...   \n",
       "\n",
       "     grid_id_matching_asimetric  \n",
       "942                       625.0  "
      ]
     },
     "execution_count": 71,
     "metadata": {},
     "output_type": "execute_result"
    }
   ],
   "source": [
    "gdf_grilla.query('grid_id==942')"
   ]
  },
  {
   "cell_type": "code",
   "execution_count": 72,
   "metadata": {
    "colab": {
     "base_uri": "https://localhost:8080/",
     "height": 81
    },
    "executionInfo": {
     "elapsed": 26,
     "status": "ok",
     "timestamp": 1745111629545,
     "user": {
      "displayName": "Diego Alejandro Hernandez Castaneda",
      "userId": "18178177893889256336"
     },
     "user_tz": 300
    },
    "id": "sXJXQbFPr19M",
    "outputId": "34a08773-3839-4e17-df9d-7c857ccd7980"
   },
   "outputs": [
    {
     "data": {
      "text/html": [
       "<div>\n",
       "<style scoped>\n",
       "    .dataframe tbody tr th:only-of-type {\n",
       "        vertical-align: middle;\n",
       "    }\n",
       "\n",
       "    .dataframe tbody tr th {\n",
       "        vertical-align: top;\n",
       "    }\n",
       "\n",
       "    .dataframe thead th {\n",
       "        text-align: right;\n",
       "    }\n",
       "</style>\n",
       "<table border=\"1\" class=\"dataframe\">\n",
       "  <thead>\n",
       "    <tr style=\"text-align: right;\">\n",
       "      <th></th>\n",
       "      <th>grid_id</th>\n",
       "      <th>tpg2017</th>\n",
       "      <th>densidad_urbana</th>\n",
       "      <th>Nombre de la localidad</th>\n",
       "      <th>pobreza_monetaria</th>\n",
       "      <th>uso</th>\n",
       "      <th>uso_codificado</th>\n",
       "      <th>ESTRATO</th>\n",
       "      <th>grid_id_matching_simetric</th>\n",
       "      <th>geometry</th>\n",
       "      <th>grid_id_matching_asimetric</th>\n",
       "    </tr>\n",
       "  </thead>\n",
       "  <tbody>\n",
       "    <tr>\n",
       "      <th>983</th>\n",
       "      <td>983</td>\n",
       "      <td>64.027285</td>\n",
       "      <td>-1.0</td>\n",
       "      <td>USAQUEN</td>\n",
       "      <td>15.96</td>\n",
       "      <td>-1</td>\n",
       "      <td>8532</td>\n",
       "      <td>6.0</td>\n",
       "      <td>942</td>\n",
       "      <td>POLYGON ((-74.00390 4.81573, -74.00390 4.82468...</td>\n",
       "      <td>300.0</td>\n",
       "    </tr>\n",
       "  </tbody>\n",
       "</table>\n",
       "</div>"
      ],
      "text/plain": [
       "     grid_id    tpg2017  densidad_urbana Nombre de la localidad  \\\n",
       "983      983  64.027285             -1.0                USAQUEN   \n",
       "\n",
       "     pobreza_monetaria uso  uso_codificado  ESTRATO  \\\n",
       "983              15.96  -1            8532      6.0   \n",
       "\n",
       "     grid_id_matching_simetric  \\\n",
       "983                        942   \n",
       "\n",
       "                                              geometry  \\\n",
       "983  POLYGON ((-74.00390 4.81573, -74.00390 4.82468...   \n",
       "\n",
       "     grid_id_matching_asimetric  \n",
       "983                       300.0  "
      ]
     },
     "execution_count": 72,
     "metadata": {},
     "output_type": "execute_result"
    }
   ],
   "source": [
    "gdf_grilla.query('grid_id==983')"
   ]
  },
  {
   "cell_type": "code",
   "execution_count": 73,
   "metadata": {
    "colab": {
     "base_uri": "https://localhost:8080/",
     "height": 115
    },
    "executionInfo": {
     "elapsed": 56,
     "status": "ok",
     "timestamp": 1745111629984,
     "user": {
      "displayName": "Diego Alejandro Hernandez Castaneda",
      "userId": "18178177893889256336"
     },
     "user_tz": 300
    },
    "id": "VcWJ5WRBrpQd",
    "outputId": "1dcecfb6-9753-4e1c-b384-5c36a504461d"
   },
   "outputs": [
    {
     "data": {
      "text/html": [
       "<div>\n",
       "<style scoped>\n",
       "    .dataframe tbody tr th:only-of-type {\n",
       "        vertical-align: middle;\n",
       "    }\n",
       "\n",
       "    .dataframe tbody tr th {\n",
       "        vertical-align: top;\n",
       "    }\n",
       "\n",
       "    .dataframe thead th {\n",
       "        text-align: right;\n",
       "    }\n",
       "</style>\n",
       "<table border=\"1\" class=\"dataframe\">\n",
       "  <thead>\n",
       "    <tr style=\"text-align: right;\">\n",
       "      <th></th>\n",
       "      <th>grid_id</th>\n",
       "      <th>tpg2017</th>\n",
       "      <th>densidad_urbana</th>\n",
       "      <th>Nombre de la localidad</th>\n",
       "      <th>pobreza_monetaria</th>\n",
       "      <th>uso</th>\n",
       "      <th>uso_codificado</th>\n",
       "      <th>ESTRATO</th>\n",
       "      <th>grid_id_matching_simetric</th>\n",
       "      <th>geometry</th>\n",
       "      <th>grid_id_matching_asimetric</th>\n",
       "    </tr>\n",
       "  </thead>\n",
       "  <tbody>\n",
       "    <tr>\n",
       "      <th>57</th>\n",
       "      <td>57</td>\n",
       "      <td>60.07052</td>\n",
       "      <td>309.56974</td>\n",
       "      <td>BOSA</td>\n",
       "      <td>53.18</td>\n",
       "      <td>RESIDENCIAL</td>\n",
       "      <td>5780</td>\n",
       "      <td>1.690722</td>\n",
       "      <td>504</td>\n",
       "      <td>POLYGON ((-74.20153 4.60087, -74.20153 4.60982...</td>\n",
       "      <td>569.0</td>\n",
       "    </tr>\n",
       "  </tbody>\n",
       "</table>\n",
       "</div>"
      ],
      "text/plain": [
       "    grid_id   tpg2017  densidad_urbana Nombre de la localidad  \\\n",
       "57       57  60.07052        309.56974                   BOSA   \n",
       "\n",
       "    pobreza_monetaria          uso  uso_codificado   ESTRATO  \\\n",
       "57              53.18  RESIDENCIAL            5780  1.690722   \n",
       "\n",
       "    grid_id_matching_simetric  \\\n",
       "57                        504   \n",
       "\n",
       "                                             geometry  \\\n",
       "57  POLYGON ((-74.20153 4.60087, -74.20153 4.60982...   \n",
       "\n",
       "    grid_id_matching_asimetric  \n",
       "57                       569.0  "
      ]
     },
     "execution_count": 73,
     "metadata": {},
     "output_type": "execute_result"
    }
   ],
   "source": [
    "gdf_grilla.query('grid_id==57')"
   ]
  },
  {
   "cell_type": "code",
   "execution_count": null,
   "metadata": {
    "id": "FcP-p2dOwj8f"
   },
   "outputs": [],
   "source": []
  },
  {
   "cell_type": "code",
   "execution_count": null,
   "metadata": {},
   "outputs": [],
   "source": []
  }
 ],
 "metadata": {
  "colab": {
   "authorship_tag": "ABX9TyMMarXaupHF/55ljXTvd2/a",
   "provenance": []
  },
  "kernelspec": {
   "display_name": "Python_Colab",
   "language": "python",
   "name": "python3"
  },
  "language_info": {
   "codemirror_mode": {
    "name": "ipython",
    "version": 3
   },
   "file_extension": ".py",
   "mimetype": "text/x-python",
   "name": "python",
   "nbconvert_exporter": "python",
   "pygments_lexer": "ipython3",
   "version": "3.10.12"
  }
 },
 "nbformat": 4,
 "nbformat_minor": 0
}
